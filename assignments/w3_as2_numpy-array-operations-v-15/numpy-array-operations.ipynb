{
 "cells": [
  {
   "cell_type": "markdown",
   "metadata": {},
   "source": [
    "# 5 Numpy functions to work in the frequency domain with Python \n",
    "\n",
    "### Description of the document\n",
    "\n",
    "> ### **Assignment 2 - Numpy Array Operations** \n",
    ">\n",
    "> Leandro D. Medus\n",
    "\n",
    "### Short intro\n",
    "\n",
    "Numpy is a library extension for Python ....\n",
    "\n",
    "**NumPy Reference**  \n",
    "https://numpy.org/doc/stable/reference/index.html\n",
    "\n",
    "**Routines**  \n",
    "https://numpy.org/doc/stable/reference/routines.html\n",
    "\n",
    "### Selected funtions for the current notebook\n",
    "\n",
    "- numpy.sin https://numpy.org/doc/stable/reference/generated/numpy.sin.html#numpy.sin\n",
    "- numpy.fft.fft https://numpy.org/doc/stable/reference/generated/numpy.fft.fft.html#numpy.fft.fft\n",
    "- numpy.fft.ifft https://numpy.org/doc/stable/reference/generated/numpy.fft.ifft.html#numpy.fft.ifft\n",
    "- numpy.fft.fftfreq https://numpy.org/doc/stable/reference/generated/numpy.fft.fftfreq.html#numpy.fft.fftfreq\n",
    "- numpy.fft.fftshift https://numpy.org/doc/stable/reference/generated/numpy.fft.fftshift.html#numpy.fft.fftshift"
   ]
  },
  {
   "cell_type": "code",
   "execution_count": null,
   "metadata": {},
   "outputs": [],
   "source": [
    "!pip install jovian --upgrade -q"
   ]
  },
  {
   "cell_type": "code",
   "execution_count": null,
   "metadata": {},
   "outputs": [],
   "source": [
    "import jovian"
   ]
  },
  {
   "cell_type": "code",
   "execution_count": null,
   "metadata": {
    "tags": []
   },
   "outputs": [],
   "source": [
    "#jovian.commit(project='numpy-array-operations')\n",
    "jovian.commit(user='leosf', filename='numpy-array-operations.ipynb', project='week3_as2_numpy-array-operations')"
   ]
  },
  {
   "cell_type": "markdown",
   "metadata": {},
   "source": [
    "Let's begin by importing Numpy and listing out the functions covered in this notebook."
   ]
  },
  {
   "cell_type": "code",
   "execution_count": null,
   "metadata": {},
   "outputs": [],
   "source": [
    "import numpy as np"
   ]
  },
  {
   "cell_type": "code",
   "execution_count": null,
   "metadata": {},
   "outputs": [],
   "source": [
    "# List of functions explained \n",
    "function1 = np.sin\n",
    "function2 = np.fft.fft\n",
    "function3 = np.fft.ifft\n",
    "function4 = np.fft.fftfreq\n",
    "function5 = np.fft.fftshift"
   ]
  },
  {
   "cell_type": "markdown",
   "metadata": {},
   "source": [
    "## Function 1 - np.sin \n",
    "\n",
    "This function computes the trigonometric sine function in an element-wise fashion.\n",
    "As an additional concept, matplot lib will be used as a plotting library."
   ]
  },
  {
   "cell_type": "code",
   "execution_count": null,
   "metadata": {},
   "outputs": [],
   "source": [
    "%matplotlib inline\n",
    "\n",
    "import matplotlib\n",
    "import matplotlib.pyplot as plt"
   ]
  },
  {
   "cell_type": "code",
   "execution_count": null,
   "metadata": {},
   "outputs": [],
   "source": [
    "# Example 1: single frequency component of a sine wave (working case)\n",
    "\n",
    "# x-axis vector (2 periods of a sine wave)\n",
    "x = np.arange(0, 4 * np.pi, 0.1)\n",
    "# computing the sine wave\n",
    "y = np.sin(x)\n",
    "\n",
    "plt.xlabel('Angle [rad]')\n",
    "plt.ylabel('sin(x)')\n",
    "\n",
    "# plotting\n",
    "plt.plot(x,y)\n",
    "plt.show()"
   ]
  },
  {
   "cell_type": "markdown",
   "metadata": {},
   "source": [
    "TODO: Explanation about example"
   ]
  },
  {
   "cell_type": "code",
   "execution_count": null,
   "metadata": {},
   "outputs": [],
   "source": [
    "# Example 2: mutiple frequency component of a sine wave (working case)\n",
    "\n",
    "# x-axis vector (time [seconds])\n",
    "t = np.arange(0, 2, 0.01)\n",
    "\n",
    "# frequencies\n",
    "f1 = 2\n",
    "f2 = 4\n",
    "\n",
    "# amplitudes\n",
    "A1 = 1\n",
    "A2 = 3\n",
    "\n",
    "# computing the sine wave\n",
    "y1 = A1 * np.sin(2 * np.pi * f1 * t)\n",
    "y2 = A2 * np.sin(2 * np.pi * f2 * t)\n",
    "\n",
    "#plt.plot(x,y)\n",
    "#plt.show()"
   ]
  },
  {
   "cell_type": "code",
   "execution_count": null,
   "metadata": {},
   "outputs": [],
   "source": [
    "y1.shape"
   ]
  },
  {
   "cell_type": "code",
   "execution_count": null,
   "metadata": {},
   "outputs": [],
   "source": [
    "# plotting\n",
    "fig, axs = plt.subplots(2, 1)\n",
    "axs[0].plot(t, y1, t, y2)\n",
    "axs[0].set_xlim(0, 2)\n",
    "axs[0].set_xlabel('time')\n",
    "axs[0].set_ylabel('y1 and y2')\n",
    "axs[0].grid(True)\n",
    "\n",
    "axs[1].plot(t, y1+y2)\n",
    "axs[1].set_xlim(0, 2)\n",
    "axs[1].set_xlabel('time')\n",
    "axs[1].set_ylabel('y1 + y2')\n",
    "axs[1].grid(True)\n",
    "\n",
    "fig.tight_layout()\n",
    "plt.show()"
   ]
  },
  {
   "cell_type": "markdown",
   "metadata": {},
   "source": [
    "TODO: Explanation about example"
   ]
  },
  {
   "cell_type": "code",
   "execution_count": null,
   "metadata": {},
   "outputs": [],
   "source": [
    "# Example 3 - breaking (to illustrate when it breaks)\n",
    "arr1 = ['a', 'b']\n",
    "\n",
    "# computing the sine wave\n",
    "y = np.sin(arr1)"
   ]
  },
  {
   "cell_type": "markdown",
   "metadata": {},
   "source": [
    "The function expect floating-point values."
   ]
  },
  {
   "cell_type": "markdown",
   "metadata": {},
   "source": [
    "TODO: Some closing comments about when to use this function."
   ]
  },
  {
   "cell_type": "code",
   "execution_count": null,
   "metadata": {
    "tags": []
   },
   "outputs": [],
   "source": [
    "jovian.commit(user='leosf', filename='numpy-array-operations.ipynb', project='week3_as2_numpy-array-operations')"
   ]
  },
  {
   "cell_type": "markdown",
   "metadata": {},
   "source": [
    "## Function 2 - np.fft.fft\n",
    "\n",
    "TODO: Add some explanations"
   ]
  },
  {
   "cell_type": "code",
   "execution_count": null,
   "metadata": {},
   "outputs": [],
   "source": [
    "# Example 1 - working\n",
    "\n",
    "# sampling frequency\n",
    "fs = 1000 \n",
    "\n",
    "tb = 0    # time begin [s]\n",
    "te = 4    # time end [s]\n",
    "\n",
    "f1 = 10   # frequency [hz]\n",
    "f2 = 30   # frequency [hz]\n",
    "\n",
    "A1 = 1  # amplitude [a.u.]\n",
    "A2 = 4  # amplitude [a.u.]\n",
    "\n",
    "ts = 1 / fs    # sampling interval \n",
    "\n",
    "# x-axis vector (time [seconds])\n",
    "t = np.arange(tb, te, ts)\n",
    "\n",
    "# sine waves data\n",
    "y1 = A1 * np.sin(2 * np.pi * f1 * t)\n",
    "y2 = A2 * np.sin(2 * np.pi * f2 * t)\n",
    "\n",
    "y = y1 + y2"
   ]
  },
  {
   "cell_type": "code",
   "execution_count": null,
   "metadata": {},
   "outputs": [],
   "source": [
    "# computing FFT\n",
    "y_fft = np.fft.fft(y) / len(y)            # Normalize amplitude\n",
    "y_fft_red = y_fft[range(int(len(y)/2))]   # Exclude sampling frequency\n",
    "\n",
    "tpCount     = len(y)\n",
    "values      = np.arange(int(tpCount/2))\n",
    "timePeriod  = tpCount / fs\n",
    "frequencies = values/timePeriod"
   ]
  },
  {
   "cell_type": "code",
   "execution_count": null,
   "metadata": {},
   "outputs": [],
   "source": [
    "# plotting\n",
    "fig, axs = plt.subplots(2, 1)\n",
    "\n",
    "axs[0].set_title('Time representation of the signal')\n",
    "axs[0].plot(t, y)\n",
    "axs[0].set_xlim(tb, 1)\n",
    "axs[0].set_xlabel('time [s]')\n",
    "axs[0].set_ylabel('y(t)')\n",
    "axs[0].grid(True)\n",
    "\n",
    "axs[1].set_title('Frequency representation of the signal')\n",
    "axs[1].set_xlim(0, 50)\n",
    "axs[1].plot(frequencies, abs(y_fft_red))\n",
    "axs[1].set_xlabel('Frequency [Hz]')\n",
    "axs[1].set_ylabel('Amplitude')\n",
    "axs[1].grid(True)\n",
    "\n",
    "fig.tight_layout()\n",
    "plt.show()"
   ]
  },
  {
   "cell_type": "markdown",
   "metadata": {},
   "source": [
    "TODO: Explanation about example\n",
    "\n",
    "explicar la relación del Fs y el límite de la gráfica"
   ]
  },
  {
   "cell_type": "code",
   "execution_count": null,
   "metadata": {},
   "outputs": [],
   "source": [
    "# Example 2 - working with axis\n",
    "\n",
    "# sampling frequency\n",
    "fs = 1000 \n",
    "\n",
    "tb = 0    # time begin [s]\n",
    "te = 4    # time end [s]\n",
    "\n",
    "f1 = 20   # frequency [hz]\n",
    "f2 = 25   # frequency [hz]\n",
    "\n",
    "A1 = 10  # amplitude [a.u.]\n",
    "A2 = 15  # amplitude [a.u.]\n",
    "\n",
    "ts = 1 / fs    # sampling interval \n",
    "\n",
    "# x-axis vector (time [seconds])\n",
    "t = np.arange(tb, te, ts)\n",
    "\n",
    "# sine waves data\n",
    "y1 = A1 * np.sin(2 * np.pi * f1 * t)\n",
    "y2 = A2 * np.sin(2 * np.pi * f2 * t)"
   ]
  },
  {
   "cell_type": "code",
   "execution_count": null,
   "metadata": {
    "tags": []
   },
   "outputs": [],
   "source": [
    "# concatenation of the time values and the amplitudes values of the signal in one matrix\n",
    "data = np.concatenate((t.reshape(te*fs, 1), y1.reshape(te*fs, 1), y2.reshape(te*fs, 1)) , axis=1)\n",
    "\n",
    "print(\"data.shape: \" + ''.join(str(data.shape)))"
   ]
  },
  {
   "cell_type": "code",
   "execution_count": null,
   "metadata": {},
   "outputs": [],
   "source": [
    "# computing FFT over each signal (columns, avoiding timestamps)\n",
    "y_fft = np.fft.fft(data[:,1:], axis=0) / len(data[:,0])             # Normalize amplitude\n",
    "#y_fft = np.fft.fft(data[:,1], axis=-1) / len(data[:,0])            # Normalize amplitude\n",
    "y_fft_red = y_fft[range(int(len(data[:,1:])/2))]                     # Exclude sampling frequency\n",
    "\n",
    "tpCount     = len(data[:,0])\n",
    "values      = np.arange(int(tpCount/2))\n",
    "timePeriod  = tpCount / fs\n",
    "frequencies = values/timePeriod"
   ]
  },
  {
   "cell_type": "code",
   "execution_count": null,
   "metadata": {},
   "outputs": [],
   "source": [
    "# plotting\n",
    "fig, axs = plt.subplots(2, 1)\n",
    "\n",
    "axs[0].set_title('Time representation of the signal')\n",
    "axs[0].plot(data[:,0], data[:,1:])\n",
    "axs[0].set_xlim(tb, 1)\n",
    "axs[0].set_xlabel('time [s]')\n",
    "axs[0].set_ylabel('y(t)')\n",
    "axs[0].grid(True)\n",
    "\n",
    "axs[1].set_title('Frequency representation of the signal')\n",
    "axs[1].set_xlim(0, 50)\n",
    "axs[1].plot(frequencies, abs(y_fft_red))\n",
    "axs[1].set_xlabel('Frequency [Hz]')\n",
    "axs[1].set_ylabel('Amplitude')\n",
    "axs[1].grid(True)\n",
    "\n",
    "fig.tight_layout()\n",
    "plt.show()"
   ]
  },
  {
   "cell_type": "markdown",
   "metadata": {},
   "source": [
    "Explanation about example\n",
    "  \n",
    "| time \t|     A    \t|    B    \t|                  \t|   \t|\n",
    "|:----:\t|:--------:\t|:-------:\t|:----------------:\t|---\t|\n",
    "|   0  \t| 0.626386 \t| 1.52325 \t| --- axis=1 --- > \t|   \t|\n",
    "|      \t|          \t|    \\|   \t|                  \t|   \t|\n",
    "|      \t|          \t|  axis=0 \t|                  \t|   \t|\n",
    "|      \t|          \t|    ↓    \t|                  \t|   \t|"
   ]
  },
  {
   "cell_type": "code",
   "execution_count": null,
   "metadata": {},
   "outputs": [],
   "source": [
    "# Example 3 - breaking (to illustrate when it breaks)\n",
    "# computing FFT over each signal (columns, avoiding timestamps)\n",
    "y_fft_error = np.fft.fft(data[:,1:], axis=5) / len(data[:,0])             # Normalize amplitude"
   ]
  },
  {
   "cell_type": "markdown",
   "metadata": {},
   "source": [
    "The index parameter represents wich index of the data will be used to compute the FTT. In this scenario, the index is out of range because the data array is bidimensional, so correct values are: 0 for columns, 1 for rows, and -1 for the last index, which in this case is the same as 1. "
   ]
  },
  {
   "cell_type": "markdown",
   "metadata": {},
   "source": [
    "Closing comments: FTT function is used to compute the Fast Fourier Transformation of a signal or a group of signals."
   ]
  },
  {
   "cell_type": "code",
   "execution_count": null,
   "metadata": {
    "tags": []
   },
   "outputs": [],
   "source": [
    "jovian.commit(user='leosf', filename='numpy-array-operations.ipynb', project='week3_as2_numpy-array-operations')"
   ]
  },
  {
   "cell_type": "markdown",
   "metadata": {},
   "source": [
    "## Function 3 - np.fft.ifft\n",
    "\n",
    "Inverse Fourier Transformation"
   ]
  },
  {
   "cell_type": "code",
   "execution_count": null,
   "metadata": {},
   "outputs": [],
   "source": [
    "# Example 1 - working\n",
    "\n",
    "# time vector\n",
    "t = np.arange(0, 10, 0.01)\n",
    "\n",
    "# Sine wave with multiple frequencies(1 Hz, 2 Hz and 4 Hz)\n",
    "frec_vector = [1, 2, 4]\n",
    "y = 0\n",
    "for fi in frec_vector:\n",
    "    y += np.sin(2 * np.pi * fi * t)\n",
    "\n",
    "# Fourier transform on the signal\n",
    "y_fft = np.fft.fft(y)"
   ]
  },
  {
   "cell_type": "code",
   "execution_count": null,
   "metadata": {},
   "outputs": [],
   "source": [
    "# Inverse Fourier transform on the frequency domain to reconstruct the signal\n",
    "y_ifft = np.fft.ifft(y_fft)"
   ]
  },
  {
   "cell_type": "code",
   "execution_count": null,
   "metadata": {},
   "outputs": [],
   "source": [
    "# Plot the original sine wave using inverse Fourier transform\n",
    "plt.plot(t, y_ifft)\n",
    "plt.title(\"Sine wave from a frequency domain data\")\n",
    "plt.xlabel('Time')\n",
    "plt.ylabel('Amplitude')\n",
    "plt.grid(True)\n",
    "plt.xlim([0, 4])\n",
    "\n",
    "plt.show()"
   ]
  },
  {
   "cell_type": "markdown",
   "metadata": {},
   "source": [
    "In the example, a time-domain signal was reconstructed from frequency domain data. To depict the use case scenario, a sine wave was generated and an FTT was applied to get the frequency-domain data. from this point, IFFT library was used to get the result."
   ]
  },
  {
   "cell_type": "code",
   "execution_count": null,
   "metadata": {
    "tags": []
   },
   "outputs": [],
   "source": [
    "# Example 2 - working with a matrix with multiple signals\n",
    "\n",
    "# time vector\n",
    "t = np.arange(0, 10, 0.01)\n",
    "\n",
    "N = len(t)\n",
    "\n",
    "# Sine wave with multiple frequencies(1 Hz, 2 Hz and 4 Hz)\n",
    "frec_vector = [1, 2, 4]\n",
    "\n",
    "data = t.reshape(N, 1)\n",
    "\n",
    "for fi in frec_vector:\n",
    "    A = fi / 2\n",
    "    phi = A1 * 1\n",
    "    y = A * np.sin(2 * np.pi * fi * t + phi)\n",
    "    data = np.concatenate((data, y.reshape(N, 1)) , axis=1)\n",
    "\n",
    "# Fourier transform on the signal\n",
    "y_fft = np.fft.fft(data, axis=0)"
   ]
  },
  {
   "cell_type": "code",
   "execution_count": null,
   "metadata": {},
   "outputs": [],
   "source": [
    "# Inverse Fourier transform on the frequency domain to reconstruct the signal\n",
    "y_ifft = np.fft.ifft(y_fft, axis=0)"
   ]
  },
  {
   "cell_type": "code",
   "execution_count": null,
   "metadata": {},
   "outputs": [],
   "source": [
    "# Plot the original sine wave using inverse Fourier transform\n",
    "\n",
    "plt.plot(t, y_ifft[:,1], t, y_ifft[:,2], t, y_ifft[:,3])\n",
    "plt.title(\"Sine wave from a frequency domain data\")\n",
    "plt.xlabel('Time')\n",
    "plt.ylabel('Amplitude')\n",
    "plt.grid(True)\n",
    "plt.xlim([0, 2])\n",
    "\n",
    "plt.show()"
   ]
  },
  {
   "cell_type": "markdown",
   "metadata": {},
   "source": [
    "The example shows how to reconstruct multiple signals with a IFFT"
   ]
  },
  {
   "cell_type": "code",
   "execution_count": null,
   "metadata": {
    "tags": []
   },
   "outputs": [],
   "source": [
    "# Example 3 - breaking (to illustrate when it breaks)\n",
    "\n",
    "print(\"y_fft.shape: \" + ''.join(str(y_fft.shape)))\n",
    "\n",
    "y_ifft_err = np.fft.ifft(y_fft, axis=2)"
   ]
  },
  {
   "cell_type": "markdown",
   "metadata": {},
   "source": [
    "The index parameter represents wich index of the data will be used to compute the FTT. In this scenario, the index is out of range because the data array is bidimensional, so correct values are: 0 to each column, 1 for each rows, and -1 for the last index, which in this case is the same as 1. "
   ]
  },
  {
   "cell_type": "markdown",
   "metadata": {},
   "source": [
    "Closing comments: IFTT function is used to compute the Fast Fourier Transformation of a signal or a group of signals."
   ]
  },
  {
   "cell_type": "code",
   "execution_count": null,
   "metadata": {
    "tags": []
   },
   "outputs": [],
   "source": [
    "jovian.commit(user='leosf', filename='numpy-array-operations.ipynb', project='week3_as2_numpy-array-operations')"
   ]
  },
  {
   "cell_type": "markdown",
   "metadata": {},
   "source": [
    "## Function 4 - np.fft.fftfreq\n",
    "\n",
    "This function returns the Discrete Fourier Transform sample frequencies.\n",
    "\n",
    "The returned float array f contains the frequency bin centers in cycles per unit of the sample spacing (with zero at the start). For instance, if the sample spacing is in seconds, then the frequency unit is cycles/second."
   ]
  },
  {
   "cell_type": "code",
   "execution_count": 194,
   "metadata": {},
   "outputs": [],
   "source": [
    "# Example 1 - working\n",
    "\n",
    "Fs = 100\n",
    "Ts = 1 / Fs\n",
    "\n",
    "# time vector\n",
    "t = np.arange(0, 10, Ts)\n",
    "\n",
    "N = len(t)\n",
    "\n",
    "# Sine wave with multiple frequencies(1 Hz, 2 Hz and 4 Hz)\n",
    "frec_vector = [1, 2, 4]\n",
    "As          = [5, 2, 6]\n",
    "Phis        = [1.2, 0.9, 2.2]\n",
    "\n",
    "data = t.reshape(N, 1)\n",
    "\n",
    "for fi, A, Phi in zip(frec_vector, As, Phis):\n",
    "\n",
    "    y = A * np.sin(2 * np.pi * fi * t + phi)\n",
    "    data = np.concatenate((data, y.reshape(N, 1)) , axis=1)\n",
    "\n",
    "# Fourier transform on the signal\n",
    "y_fft = np.fft.fft(data[:,1:], axis=0)"
   ]
  },
  {
   "cell_type": "code",
   "execution_count": 195,
   "metadata": {},
   "outputs": [
    {
     "output_type": "execute_result",
     "data": {
      "text/plain": "(1000, 4)"
     },
     "metadata": {},
     "execution_count": 195
    }
   ],
   "source": [
    "data.shape"
   ]
  },
  {
   "cell_type": "code",
   "execution_count": 196,
   "metadata": {},
   "outputs": [
    {
     "output_type": "display_data",
     "data": {
      "text/plain": "<matplotlib.figure.Figure at 0x1dc44f60f60>",
      "image/svg+xml": "<?xml version=\"1.0\" encoding=\"utf-8\" standalone=\"no\"?>\r\n<!DOCTYPE svg PUBLIC \"-//W3C//DTD SVG 1.1//EN\"\r\n  \"http://www.w3.org/Graphics/SVG/1.1/DTD/svg11.dtd\">\r\n<!-- Created with matplotlib (http://matplotlib.org/) -->\r\n<svg height=\"277pt\" version=\"1.1\" viewBox=\"0 0 395 277\" width=\"395pt\" xmlns=\"http://www.w3.org/2000/svg\" xmlns:xlink=\"http://www.w3.org/1999/xlink\">\r\n <defs>\r\n  <style type=\"text/css\">\r\n*{stroke-linecap:butt;stroke-linejoin:round;}\r\n  </style>\r\n </defs>\r\n <g id=\"figure_1\">\r\n  <g id=\"patch_1\">\r\n   <path d=\"M 0 277.314375 \r\nL 395.753125 277.314375 \r\nL 395.753125 0 \r\nL 0 0 \r\nz\r\n\" style=\"fill:none;\"/>\r\n  </g>\r\n  <g id=\"axes_1\">\r\n   <g id=\"patch_2\">\r\n    <path d=\"M 42.620313 239.758125 \r\nL 377.420313 239.758125 \r\nL 377.420313 22.318125 \r\nL 42.620313 22.318125 \r\nz\r\n\" style=\"fill:#ffffff;\"/>\r\n   </g>\r\n   <g id=\"matplotlib.axis_1\">\r\n    <g id=\"xtick_1\">\r\n     <g id=\"line2d_1\">\r\n      <path clip-path=\"url(#p6a17bca05d)\" d=\"M 42.620313 239.758125 \r\nL 42.620313 22.318125 \r\n\" style=\"fill:none;stroke:#b0b0b0;stroke-linecap:square;stroke-width:0.8;\"/>\r\n     </g>\r\n     <g id=\"line2d_2\">\r\n      <defs>\r\n       <path d=\"M 0 0 \r\nL 0 3.5 \r\n\" id=\"md801e432cb\" style=\"stroke:#000000;stroke-width:0.8;\"/>\r\n      </defs>\r\n      <g>\r\n       <use style=\"stroke:#000000;stroke-width:0.8;\" x=\"42.620313\" xlink:href=\"#md801e432cb\" y=\"239.758125\"/>\r\n      </g>\r\n     </g>\r\n     <g id=\"text_1\">\r\n      <!-- 0.00 -->\r\n      <defs>\r\n       <path d=\"M 31.78125 66.40625 \r\nQ 24.171875 66.40625 20.328125 58.90625 \r\nQ 16.5 51.421875 16.5 36.375 \r\nQ 16.5 21.390625 20.328125 13.890625 \r\nQ 24.171875 6.390625 31.78125 6.390625 \r\nQ 39.453125 6.390625 43.28125 13.890625 \r\nQ 47.125 21.390625 47.125 36.375 \r\nQ 47.125 51.421875 43.28125 58.90625 \r\nQ 39.453125 66.40625 31.78125 66.40625 \r\nz\r\nM 31.78125 74.21875 \r\nQ 44.046875 74.21875 50.515625 64.515625 \r\nQ 56.984375 54.828125 56.984375 36.375 \r\nQ 56.984375 17.96875 50.515625 8.265625 \r\nQ 44.046875 -1.421875 31.78125 -1.421875 \r\nQ 19.53125 -1.421875 13.0625 8.265625 \r\nQ 6.59375 17.96875 6.59375 36.375 \r\nQ 6.59375 54.828125 13.0625 64.515625 \r\nQ 19.53125 74.21875 31.78125 74.21875 \r\nz\r\n\" id=\"DejaVuSans-30\"/>\r\n       <path d=\"M 10.6875 12.40625 \r\nL 21 12.40625 \r\nL 21 0 \r\nL 10.6875 0 \r\nz\r\n\" id=\"DejaVuSans-2e\"/>\r\n      </defs>\r\n      <g transform=\"translate(31.4875 254.356562)scale(0.1 -0.1)\">\r\n       <use xlink:href=\"#DejaVuSans-30\"/>\r\n       <use x=\"63.623047\" xlink:href=\"#DejaVuSans-2e\"/>\r\n       <use x=\"95.410156\" xlink:href=\"#DejaVuSans-30\"/>\r\n       <use x=\"159.033203\" xlink:href=\"#DejaVuSans-30\"/>\r\n      </g>\r\n     </g>\r\n    </g>\r\n    <g id=\"xtick_2\">\r\n     <g id=\"line2d_3\">\r\n      <path clip-path=\"url(#p6a17bca05d)\" d=\"M 84.470313 239.758125 \r\nL 84.470313 22.318125 \r\n\" style=\"fill:none;stroke:#b0b0b0;stroke-linecap:square;stroke-width:0.8;\"/>\r\n     </g>\r\n     <g id=\"line2d_4\">\r\n      <g>\r\n       <use style=\"stroke:#000000;stroke-width:0.8;\" x=\"84.470313\" xlink:href=\"#md801e432cb\" y=\"239.758125\"/>\r\n      </g>\r\n     </g>\r\n     <g id=\"text_2\">\r\n      <!-- 0.25 -->\r\n      <defs>\r\n       <path d=\"M 19.1875 8.296875 \r\nL 53.609375 8.296875 \r\nL 53.609375 0 \r\nL 7.328125 0 \r\nL 7.328125 8.296875 \r\nQ 12.9375 14.109375 22.625 23.890625 \r\nQ 32.328125 33.6875 34.8125 36.53125 \r\nQ 39.546875 41.84375 41.421875 45.53125 \r\nQ 43.3125 49.21875 43.3125 52.78125 \r\nQ 43.3125 58.59375 39.234375 62.25 \r\nQ 35.15625 65.921875 28.609375 65.921875 \r\nQ 23.96875 65.921875 18.8125 64.3125 \r\nQ 13.671875 62.703125 7.8125 59.421875 \r\nL 7.8125 69.390625 \r\nQ 13.765625 71.78125 18.9375 73 \r\nQ 24.125 74.21875 28.421875 74.21875 \r\nQ 39.75 74.21875 46.484375 68.546875 \r\nQ 53.21875 62.890625 53.21875 53.421875 \r\nQ 53.21875 48.921875 51.53125 44.890625 \r\nQ 49.859375 40.875 45.40625 35.40625 \r\nQ 44.1875 33.984375 37.640625 27.21875 \r\nQ 31.109375 20.453125 19.1875 8.296875 \r\nz\r\n\" id=\"DejaVuSans-32\"/>\r\n       <path d=\"M 10.796875 72.90625 \r\nL 49.515625 72.90625 \r\nL 49.515625 64.59375 \r\nL 19.828125 64.59375 \r\nL 19.828125 46.734375 \r\nQ 21.96875 47.46875 24.109375 47.828125 \r\nQ 26.265625 48.1875 28.421875 48.1875 \r\nQ 40.625 48.1875 47.75 41.5 \r\nQ 54.890625 34.8125 54.890625 23.390625 \r\nQ 54.890625 11.625 47.5625 5.09375 \r\nQ 40.234375 -1.421875 26.90625 -1.421875 \r\nQ 22.3125 -1.421875 17.546875 -0.640625 \r\nQ 12.796875 0.140625 7.71875 1.703125 \r\nL 7.71875 11.625 \r\nQ 12.109375 9.234375 16.796875 8.0625 \r\nQ 21.484375 6.890625 26.703125 6.890625 \r\nQ 35.15625 6.890625 40.078125 11.328125 \r\nQ 45.015625 15.765625 45.015625 23.390625 \r\nQ 45.015625 31 40.078125 35.4375 \r\nQ 35.15625 39.890625 26.703125 39.890625 \r\nQ 22.75 39.890625 18.8125 39.015625 \r\nQ 14.890625 38.140625 10.796875 36.28125 \r\nz\r\n\" id=\"DejaVuSans-35\"/>\r\n      </defs>\r\n      <g transform=\"translate(73.3375 254.356562)scale(0.1 -0.1)\">\r\n       <use xlink:href=\"#DejaVuSans-30\"/>\r\n       <use x=\"63.623047\" xlink:href=\"#DejaVuSans-2e\"/>\r\n       <use x=\"95.410156\" xlink:href=\"#DejaVuSans-32\"/>\r\n       <use x=\"159.033203\" xlink:href=\"#DejaVuSans-35\"/>\r\n      </g>\r\n     </g>\r\n    </g>\r\n    <g id=\"xtick_3\">\r\n     <g id=\"line2d_5\">\r\n      <path clip-path=\"url(#p6a17bca05d)\" d=\"M 126.320312 239.758125 \r\nL 126.320312 22.318125 \r\n\" style=\"fill:none;stroke:#b0b0b0;stroke-linecap:square;stroke-width:0.8;\"/>\r\n     </g>\r\n     <g id=\"line2d_6\">\r\n      <g>\r\n       <use style=\"stroke:#000000;stroke-width:0.8;\" x=\"126.320312\" xlink:href=\"#md801e432cb\" y=\"239.758125\"/>\r\n      </g>\r\n     </g>\r\n     <g id=\"text_3\">\r\n      <!-- 0.50 -->\r\n      <g transform=\"translate(115.1875 254.356562)scale(0.1 -0.1)\">\r\n       <use xlink:href=\"#DejaVuSans-30\"/>\r\n       <use x=\"63.623047\" xlink:href=\"#DejaVuSans-2e\"/>\r\n       <use x=\"95.410156\" xlink:href=\"#DejaVuSans-35\"/>\r\n       <use x=\"159.033203\" xlink:href=\"#DejaVuSans-30\"/>\r\n      </g>\r\n     </g>\r\n    </g>\r\n    <g id=\"xtick_4\">\r\n     <g id=\"line2d_7\">\r\n      <path clip-path=\"url(#p6a17bca05d)\" d=\"M 168.170313 239.758125 \r\nL 168.170313 22.318125 \r\n\" style=\"fill:none;stroke:#b0b0b0;stroke-linecap:square;stroke-width:0.8;\"/>\r\n     </g>\r\n     <g id=\"line2d_8\">\r\n      <g>\r\n       <use style=\"stroke:#000000;stroke-width:0.8;\" x=\"168.170313\" xlink:href=\"#md801e432cb\" y=\"239.758125\"/>\r\n      </g>\r\n     </g>\r\n     <g id=\"text_4\">\r\n      <!-- 0.75 -->\r\n      <defs>\r\n       <path d=\"M 8.203125 72.90625 \r\nL 55.078125 72.90625 \r\nL 55.078125 68.703125 \r\nL 28.609375 0 \r\nL 18.3125 0 \r\nL 43.21875 64.59375 \r\nL 8.203125 64.59375 \r\nz\r\n\" id=\"DejaVuSans-37\"/>\r\n      </defs>\r\n      <g transform=\"translate(157.0375 254.356562)scale(0.1 -0.1)\">\r\n       <use xlink:href=\"#DejaVuSans-30\"/>\r\n       <use x=\"63.623047\" xlink:href=\"#DejaVuSans-2e\"/>\r\n       <use x=\"95.410156\" xlink:href=\"#DejaVuSans-37\"/>\r\n       <use x=\"159.033203\" xlink:href=\"#DejaVuSans-35\"/>\r\n      </g>\r\n     </g>\r\n    </g>\r\n    <g id=\"xtick_5\">\r\n     <g id=\"line2d_9\">\r\n      <path clip-path=\"url(#p6a17bca05d)\" d=\"M 210.020313 239.758125 \r\nL 210.020313 22.318125 \r\n\" style=\"fill:none;stroke:#b0b0b0;stroke-linecap:square;stroke-width:0.8;\"/>\r\n     </g>\r\n     <g id=\"line2d_10\">\r\n      <g>\r\n       <use style=\"stroke:#000000;stroke-width:0.8;\" x=\"210.020313\" xlink:href=\"#md801e432cb\" y=\"239.758125\"/>\r\n      </g>\r\n     </g>\r\n     <g id=\"text_5\">\r\n      <!-- 1.00 -->\r\n      <defs>\r\n       <path d=\"M 12.40625 8.296875 \r\nL 28.515625 8.296875 \r\nL 28.515625 63.921875 \r\nL 10.984375 60.40625 \r\nL 10.984375 69.390625 \r\nL 28.421875 72.90625 \r\nL 38.28125 72.90625 \r\nL 38.28125 8.296875 \r\nL 54.390625 8.296875 \r\nL 54.390625 0 \r\nL 12.40625 0 \r\nz\r\n\" id=\"DejaVuSans-31\"/>\r\n      </defs>\r\n      <g transform=\"translate(198.8875 254.356562)scale(0.1 -0.1)\">\r\n       <use xlink:href=\"#DejaVuSans-31\"/>\r\n       <use x=\"63.623047\" xlink:href=\"#DejaVuSans-2e\"/>\r\n       <use x=\"95.410156\" xlink:href=\"#DejaVuSans-30\"/>\r\n       <use x=\"159.033203\" xlink:href=\"#DejaVuSans-30\"/>\r\n      </g>\r\n     </g>\r\n    </g>\r\n    <g id=\"xtick_6\">\r\n     <g id=\"line2d_11\">\r\n      <path clip-path=\"url(#p6a17bca05d)\" d=\"M 251.870313 239.758125 \r\nL 251.870313 22.318125 \r\n\" style=\"fill:none;stroke:#b0b0b0;stroke-linecap:square;stroke-width:0.8;\"/>\r\n     </g>\r\n     <g id=\"line2d_12\">\r\n      <g>\r\n       <use style=\"stroke:#000000;stroke-width:0.8;\" x=\"251.870313\" xlink:href=\"#md801e432cb\" y=\"239.758125\"/>\r\n      </g>\r\n     </g>\r\n     <g id=\"text_6\">\r\n      <!-- 1.25 -->\r\n      <g transform=\"translate(240.7375 254.356562)scale(0.1 -0.1)\">\r\n       <use xlink:href=\"#DejaVuSans-31\"/>\r\n       <use x=\"63.623047\" xlink:href=\"#DejaVuSans-2e\"/>\r\n       <use x=\"95.410156\" xlink:href=\"#DejaVuSans-32\"/>\r\n       <use x=\"159.033203\" xlink:href=\"#DejaVuSans-35\"/>\r\n      </g>\r\n     </g>\r\n    </g>\r\n    <g id=\"xtick_7\">\r\n     <g id=\"line2d_13\">\r\n      <path clip-path=\"url(#p6a17bca05d)\" d=\"M 293.720313 239.758125 \r\nL 293.720313 22.318125 \r\n\" style=\"fill:none;stroke:#b0b0b0;stroke-linecap:square;stroke-width:0.8;\"/>\r\n     </g>\r\n     <g id=\"line2d_14\">\r\n      <g>\r\n       <use style=\"stroke:#000000;stroke-width:0.8;\" x=\"293.720313\" xlink:href=\"#md801e432cb\" y=\"239.758125\"/>\r\n      </g>\r\n     </g>\r\n     <g id=\"text_7\">\r\n      <!-- 1.50 -->\r\n      <g transform=\"translate(282.5875 254.356562)scale(0.1 -0.1)\">\r\n       <use xlink:href=\"#DejaVuSans-31\"/>\r\n       <use x=\"63.623047\" xlink:href=\"#DejaVuSans-2e\"/>\r\n       <use x=\"95.410156\" xlink:href=\"#DejaVuSans-35\"/>\r\n       <use x=\"159.033203\" xlink:href=\"#DejaVuSans-30\"/>\r\n      </g>\r\n     </g>\r\n    </g>\r\n    <g id=\"xtick_8\">\r\n     <g id=\"line2d_15\">\r\n      <path clip-path=\"url(#p6a17bca05d)\" d=\"M 335.570312 239.758125 \r\nL 335.570312 22.318125 \r\n\" style=\"fill:none;stroke:#b0b0b0;stroke-linecap:square;stroke-width:0.8;\"/>\r\n     </g>\r\n     <g id=\"line2d_16\">\r\n      <g>\r\n       <use style=\"stroke:#000000;stroke-width:0.8;\" x=\"335.570312\" xlink:href=\"#md801e432cb\" y=\"239.758125\"/>\r\n      </g>\r\n     </g>\r\n     <g id=\"text_8\">\r\n      <!-- 1.75 -->\r\n      <g transform=\"translate(324.4375 254.356562)scale(0.1 -0.1)\">\r\n       <use xlink:href=\"#DejaVuSans-31\"/>\r\n       <use x=\"63.623047\" xlink:href=\"#DejaVuSans-2e\"/>\r\n       <use x=\"95.410156\" xlink:href=\"#DejaVuSans-37\"/>\r\n       <use x=\"159.033203\" xlink:href=\"#DejaVuSans-35\"/>\r\n      </g>\r\n     </g>\r\n    </g>\r\n    <g id=\"xtick_9\">\r\n     <g id=\"line2d_17\">\r\n      <path clip-path=\"url(#p6a17bca05d)\" d=\"M 377.420313 239.758125 \r\nL 377.420313 22.318125 \r\n\" style=\"fill:none;stroke:#b0b0b0;stroke-linecap:square;stroke-width:0.8;\"/>\r\n     </g>\r\n     <g id=\"line2d_18\">\r\n      <g>\r\n       <use style=\"stroke:#000000;stroke-width:0.8;\" x=\"377.420313\" xlink:href=\"#md801e432cb\" y=\"239.758125\"/>\r\n      </g>\r\n     </g>\r\n     <g id=\"text_9\">\r\n      <!-- 2.00 -->\r\n      <g transform=\"translate(366.2875 254.356562)scale(0.1 -0.1)\">\r\n       <use xlink:href=\"#DejaVuSans-32\"/>\r\n       <use x=\"63.623047\" xlink:href=\"#DejaVuSans-2e\"/>\r\n       <use x=\"95.410156\" xlink:href=\"#DejaVuSans-30\"/>\r\n       <use x=\"159.033203\" xlink:href=\"#DejaVuSans-30\"/>\r\n      </g>\r\n     </g>\r\n    </g>\r\n    <g id=\"text_10\">\r\n     <!-- Time -->\r\n     <defs>\r\n      <path d=\"M -0.296875 72.90625 \r\nL 61.375 72.90625 \r\nL 61.375 64.59375 \r\nL 35.5 64.59375 \r\nL 35.5 0 \r\nL 25.59375 0 \r\nL 25.59375 64.59375 \r\nL -0.296875 64.59375 \r\nz\r\n\" id=\"DejaVuSans-54\"/>\r\n      <path d=\"M 9.421875 54.6875 \r\nL 18.40625 54.6875 \r\nL 18.40625 0 \r\nL 9.421875 0 \r\nz\r\nM 9.421875 75.984375 \r\nL 18.40625 75.984375 \r\nL 18.40625 64.59375 \r\nL 9.421875 64.59375 \r\nz\r\n\" id=\"DejaVuSans-69\"/>\r\n      <path d=\"M 52 44.1875 \r\nQ 55.375 50.25 60.0625 53.125 \r\nQ 64.75 56 71.09375 56 \r\nQ 79.640625 56 84.28125 50.015625 \r\nQ 88.921875 44.046875 88.921875 33.015625 \r\nL 88.921875 0 \r\nL 79.890625 0 \r\nL 79.890625 32.71875 \r\nQ 79.890625 40.578125 77.09375 44.375 \r\nQ 74.3125 48.1875 68.609375 48.1875 \r\nQ 61.625 48.1875 57.5625 43.546875 \r\nQ 53.515625 38.921875 53.515625 30.90625 \r\nL 53.515625 0 \r\nL 44.484375 0 \r\nL 44.484375 32.71875 \r\nQ 44.484375 40.625 41.703125 44.40625 \r\nQ 38.921875 48.1875 33.109375 48.1875 \r\nQ 26.21875 48.1875 22.15625 43.53125 \r\nQ 18.109375 38.875 18.109375 30.90625 \r\nL 18.109375 0 \r\nL 9.078125 0 \r\nL 9.078125 54.6875 \r\nL 18.109375 54.6875 \r\nL 18.109375 46.1875 \r\nQ 21.1875 51.21875 25.484375 53.609375 \r\nQ 29.78125 56 35.6875 56 \r\nQ 41.65625 56 45.828125 52.96875 \r\nQ 50 49.953125 52 44.1875 \r\nz\r\n\" id=\"DejaVuSans-6d\"/>\r\n      <path d=\"M 56.203125 29.59375 \r\nL 56.203125 25.203125 \r\nL 14.890625 25.203125 \r\nQ 15.484375 15.921875 20.484375 11.0625 \r\nQ 25.484375 6.203125 34.421875 6.203125 \r\nQ 39.59375 6.203125 44.453125 7.46875 \r\nQ 49.3125 8.734375 54.109375 11.28125 \r\nL 54.109375 2.78125 \r\nQ 49.265625 0.734375 44.1875 -0.34375 \r\nQ 39.109375 -1.421875 33.890625 -1.421875 \r\nQ 20.796875 -1.421875 13.15625 6.1875 \r\nQ 5.515625 13.8125 5.515625 26.8125 \r\nQ 5.515625 40.234375 12.765625 48.109375 \r\nQ 20.015625 56 32.328125 56 \r\nQ 43.359375 56 49.78125 48.890625 \r\nQ 56.203125 41.796875 56.203125 29.59375 \r\nz\r\nM 47.21875 32.234375 \r\nQ 47.125 39.59375 43.09375 43.984375 \r\nQ 39.0625 48.390625 32.421875 48.390625 \r\nQ 24.90625 48.390625 20.390625 44.140625 \r\nQ 15.875 39.890625 15.1875 32.171875 \r\nz\r\n\" id=\"DejaVuSans-65\"/>\r\n     </defs>\r\n     <g transform=\"translate(197.632813 268.034687)scale(0.1 -0.1)\">\r\n      <use xlink:href=\"#DejaVuSans-54\"/>\r\n      <use x=\"61.037109\" xlink:href=\"#DejaVuSans-69\"/>\r\n      <use x=\"88.820312\" xlink:href=\"#DejaVuSans-6d\"/>\r\n      <use x=\"186.232422\" xlink:href=\"#DejaVuSans-65\"/>\r\n     </g>\r\n    </g>\r\n   </g>\r\n   <g id=\"matplotlib.axis_2\">\r\n    <g id=\"ytick_1\">\r\n     <g id=\"line2d_19\">\r\n      <path clip-path=\"url(#p6a17bca05d)\" d=\"M 42.620313 229.879188 \r\nL 377.420313 229.879188 \r\n\" style=\"fill:none;stroke:#b0b0b0;stroke-linecap:square;stroke-width:0.8;\"/>\r\n     </g>\r\n     <g id=\"line2d_20\">\r\n      <defs>\r\n       <path d=\"M 0 0 \r\nL -3.5 0 \r\n\" id=\"md4909c4001\" style=\"stroke:#000000;stroke-width:0.8;\"/>\r\n      </defs>\r\n      <g>\r\n       <use style=\"stroke:#000000;stroke-width:0.8;\" x=\"42.620313\" xlink:href=\"#md4909c4001\" y=\"229.879188\"/>\r\n      </g>\r\n     </g>\r\n     <g id=\"text_11\">\r\n      <!-- −6 -->\r\n      <defs>\r\n       <path d=\"M 10.59375 35.5 \r\nL 73.1875 35.5 \r\nL 73.1875 27.203125 \r\nL 10.59375 27.203125 \r\nz\r\n\" id=\"DejaVuSans-2212\"/>\r\n       <path d=\"M 33.015625 40.375 \r\nQ 26.375 40.375 22.484375 35.828125 \r\nQ 18.609375 31.296875 18.609375 23.390625 \r\nQ 18.609375 15.53125 22.484375 10.953125 \r\nQ 26.375 6.390625 33.015625 6.390625 \r\nQ 39.65625 6.390625 43.53125 10.953125 \r\nQ 47.40625 15.53125 47.40625 23.390625 \r\nQ 47.40625 31.296875 43.53125 35.828125 \r\nQ 39.65625 40.375 33.015625 40.375 \r\nz\r\nM 52.59375 71.296875 \r\nL 52.59375 62.3125 \r\nQ 48.875 64.0625 45.09375 64.984375 \r\nQ 41.3125 65.921875 37.59375 65.921875 \r\nQ 27.828125 65.921875 22.671875 59.328125 \r\nQ 17.53125 52.734375 16.796875 39.40625 \r\nQ 19.671875 43.65625 24.015625 45.921875 \r\nQ 28.375 48.1875 33.59375 48.1875 \r\nQ 44.578125 48.1875 50.953125 41.515625 \r\nQ 57.328125 34.859375 57.328125 23.390625 \r\nQ 57.328125 12.15625 50.6875 5.359375 \r\nQ 44.046875 -1.421875 33.015625 -1.421875 \r\nQ 20.359375 -1.421875 13.671875 8.265625 \r\nQ 6.984375 17.96875 6.984375 36.375 \r\nQ 6.984375 53.65625 15.1875 63.9375 \r\nQ 23.390625 74.21875 37.203125 74.21875 \r\nQ 40.921875 74.21875 44.703125 73.484375 \r\nQ 48.484375 72.75 52.59375 71.296875 \r\nz\r\n\" id=\"DejaVuSans-36\"/>\r\n      </defs>\r\n      <g transform=\"translate(20.878125 233.678407)scale(0.1 -0.1)\">\r\n       <use xlink:href=\"#DejaVuSans-2212\"/>\r\n       <use x=\"83.789062\" xlink:href=\"#DejaVuSans-36\"/>\r\n      </g>\r\n     </g>\r\n    </g>\r\n    <g id=\"ytick_2\">\r\n     <g id=\"line2d_21\">\r\n      <path clip-path=\"url(#p6a17bca05d)\" d=\"M 42.620313 196.822008 \r\nL 377.420313 196.822008 \r\n\" style=\"fill:none;stroke:#b0b0b0;stroke-linecap:square;stroke-width:0.8;\"/>\r\n     </g>\r\n     <g id=\"line2d_22\">\r\n      <g>\r\n       <use style=\"stroke:#000000;stroke-width:0.8;\" x=\"42.620313\" xlink:href=\"#md4909c4001\" y=\"196.822008\"/>\r\n      </g>\r\n     </g>\r\n     <g id=\"text_12\">\r\n      <!-- −4 -->\r\n      <defs>\r\n       <path d=\"M 37.796875 64.3125 \r\nL 12.890625 25.390625 \r\nL 37.796875 25.390625 \r\nz\r\nM 35.203125 72.90625 \r\nL 47.609375 72.90625 \r\nL 47.609375 25.390625 \r\nL 58.015625 25.390625 \r\nL 58.015625 17.1875 \r\nL 47.609375 17.1875 \r\nL 47.609375 0 \r\nL 37.796875 0 \r\nL 37.796875 17.1875 \r\nL 4.890625 17.1875 \r\nL 4.890625 26.703125 \r\nz\r\n\" id=\"DejaVuSans-34\"/>\r\n      </defs>\r\n      <g transform=\"translate(20.878125 200.621226)scale(0.1 -0.1)\">\r\n       <use xlink:href=\"#DejaVuSans-2212\"/>\r\n       <use x=\"83.789062\" xlink:href=\"#DejaVuSans-34\"/>\r\n      </g>\r\n     </g>\r\n    </g>\r\n    <g id=\"ytick_3\">\r\n     <g id=\"line2d_23\">\r\n      <path clip-path=\"url(#p6a17bca05d)\" d=\"M 42.620313 163.764827 \r\nL 377.420313 163.764827 \r\n\" style=\"fill:none;stroke:#b0b0b0;stroke-linecap:square;stroke-width:0.8;\"/>\r\n     </g>\r\n     <g id=\"line2d_24\">\r\n      <g>\r\n       <use style=\"stroke:#000000;stroke-width:0.8;\" x=\"42.620313\" xlink:href=\"#md4909c4001\" y=\"163.764827\"/>\r\n      </g>\r\n     </g>\r\n     <g id=\"text_13\">\r\n      <!-- −2 -->\r\n      <g transform=\"translate(20.878125 167.564046)scale(0.1 -0.1)\">\r\n       <use xlink:href=\"#DejaVuSans-2212\"/>\r\n       <use x=\"83.789062\" xlink:href=\"#DejaVuSans-32\"/>\r\n      </g>\r\n     </g>\r\n    </g>\r\n    <g id=\"ytick_4\">\r\n     <g id=\"line2d_25\">\r\n      <path clip-path=\"url(#p6a17bca05d)\" d=\"M 42.620313 130.707647 \r\nL 377.420313 130.707647 \r\n\" style=\"fill:none;stroke:#b0b0b0;stroke-linecap:square;stroke-width:0.8;\"/>\r\n     </g>\r\n     <g id=\"line2d_26\">\r\n      <g>\r\n       <use style=\"stroke:#000000;stroke-width:0.8;\" x=\"42.620313\" xlink:href=\"#md4909c4001\" y=\"130.707647\"/>\r\n      </g>\r\n     </g>\r\n     <g id=\"text_14\">\r\n      <!-- 0 -->\r\n      <g transform=\"translate(29.257813 134.506865)scale(0.1 -0.1)\">\r\n       <use xlink:href=\"#DejaVuSans-30\"/>\r\n      </g>\r\n     </g>\r\n    </g>\r\n    <g id=\"ytick_5\">\r\n     <g id=\"line2d_27\">\r\n      <path clip-path=\"url(#p6a17bca05d)\" d=\"M 42.620313 97.650466 \r\nL 377.420313 97.650466 \r\n\" style=\"fill:none;stroke:#b0b0b0;stroke-linecap:square;stroke-width:0.8;\"/>\r\n     </g>\r\n     <g id=\"line2d_28\">\r\n      <g>\r\n       <use style=\"stroke:#000000;stroke-width:0.8;\" x=\"42.620313\" xlink:href=\"#md4909c4001\" y=\"97.650466\"/>\r\n      </g>\r\n     </g>\r\n     <g id=\"text_15\">\r\n      <!-- 2 -->\r\n      <g transform=\"translate(29.257813 101.449685)scale(0.1 -0.1)\">\r\n       <use xlink:href=\"#DejaVuSans-32\"/>\r\n      </g>\r\n     </g>\r\n    </g>\r\n    <g id=\"ytick_6\">\r\n     <g id=\"line2d_29\">\r\n      <path clip-path=\"url(#p6a17bca05d)\" d=\"M 42.620313 64.593286 \r\nL 377.420313 64.593286 \r\n\" style=\"fill:none;stroke:#b0b0b0;stroke-linecap:square;stroke-width:0.8;\"/>\r\n     </g>\r\n     <g id=\"line2d_30\">\r\n      <g>\r\n       <use style=\"stroke:#000000;stroke-width:0.8;\" x=\"42.620313\" xlink:href=\"#md4909c4001\" y=\"64.593286\"/>\r\n      </g>\r\n     </g>\r\n     <g id=\"text_16\">\r\n      <!-- 4 -->\r\n      <g transform=\"translate(29.257813 68.392505)scale(0.1 -0.1)\">\r\n       <use xlink:href=\"#DejaVuSans-34\"/>\r\n      </g>\r\n     </g>\r\n    </g>\r\n    <g id=\"ytick_7\">\r\n     <g id=\"line2d_31\">\r\n      <path clip-path=\"url(#p6a17bca05d)\" d=\"M 42.620313 31.536105 \r\nL 377.420313 31.536105 \r\n\" style=\"fill:none;stroke:#b0b0b0;stroke-linecap:square;stroke-width:0.8;\"/>\r\n     </g>\r\n     <g id=\"line2d_32\">\r\n      <g>\r\n       <use style=\"stroke:#000000;stroke-width:0.8;\" x=\"42.620313\" xlink:href=\"#md4909c4001\" y=\"31.536105\"/>\r\n      </g>\r\n     </g>\r\n     <g id=\"text_17\">\r\n      <!-- 6 -->\r\n      <g transform=\"translate(29.257813 35.335324)scale(0.1 -0.1)\">\r\n       <use xlink:href=\"#DejaVuSans-36\"/>\r\n      </g>\r\n     </g>\r\n    </g>\r\n    <g id=\"text_18\">\r\n     <!-- Amplitude -->\r\n     <defs>\r\n      <path d=\"M 34.1875 63.1875 \r\nL 20.796875 26.90625 \r\nL 47.609375 26.90625 \r\nz\r\nM 28.609375 72.90625 \r\nL 39.796875 72.90625 \r\nL 67.578125 0 \r\nL 57.328125 0 \r\nL 50.6875 18.703125 \r\nL 17.828125 18.703125 \r\nL 11.1875 0 \r\nL 0.78125 0 \r\nz\r\n\" id=\"DejaVuSans-41\"/>\r\n      <path d=\"M 18.109375 8.203125 \r\nL 18.109375 -20.796875 \r\nL 9.078125 -20.796875 \r\nL 9.078125 54.6875 \r\nL 18.109375 54.6875 \r\nL 18.109375 46.390625 \r\nQ 20.953125 51.265625 25.265625 53.625 \r\nQ 29.59375 56 35.59375 56 \r\nQ 45.5625 56 51.78125 48.09375 \r\nQ 58.015625 40.1875 58.015625 27.296875 \r\nQ 58.015625 14.40625 51.78125 6.484375 \r\nQ 45.5625 -1.421875 35.59375 -1.421875 \r\nQ 29.59375 -1.421875 25.265625 0.953125 \r\nQ 20.953125 3.328125 18.109375 8.203125 \r\nz\r\nM 48.6875 27.296875 \r\nQ 48.6875 37.203125 44.609375 42.84375 \r\nQ 40.53125 48.484375 33.40625 48.484375 \r\nQ 26.265625 48.484375 22.1875 42.84375 \r\nQ 18.109375 37.203125 18.109375 27.296875 \r\nQ 18.109375 17.390625 22.1875 11.75 \r\nQ 26.265625 6.109375 33.40625 6.109375 \r\nQ 40.53125 6.109375 44.609375 11.75 \r\nQ 48.6875 17.390625 48.6875 27.296875 \r\nz\r\n\" id=\"DejaVuSans-70\"/>\r\n      <path d=\"M 9.421875 75.984375 \r\nL 18.40625 75.984375 \r\nL 18.40625 0 \r\nL 9.421875 0 \r\nz\r\n\" id=\"DejaVuSans-6c\"/>\r\n      <path d=\"M 18.3125 70.21875 \r\nL 18.3125 54.6875 \r\nL 36.8125 54.6875 \r\nL 36.8125 47.703125 \r\nL 18.3125 47.703125 \r\nL 18.3125 18.015625 \r\nQ 18.3125 11.328125 20.140625 9.421875 \r\nQ 21.96875 7.515625 27.59375 7.515625 \r\nL 36.8125 7.515625 \r\nL 36.8125 0 \r\nL 27.59375 0 \r\nQ 17.1875 0 13.234375 3.875 \r\nQ 9.28125 7.765625 9.28125 18.015625 \r\nL 9.28125 47.703125 \r\nL 2.6875 47.703125 \r\nL 2.6875 54.6875 \r\nL 9.28125 54.6875 \r\nL 9.28125 70.21875 \r\nz\r\n\" id=\"DejaVuSans-74\"/>\r\n      <path d=\"M 8.5 21.578125 \r\nL 8.5 54.6875 \r\nL 17.484375 54.6875 \r\nL 17.484375 21.921875 \r\nQ 17.484375 14.15625 20.5 10.265625 \r\nQ 23.53125 6.390625 29.59375 6.390625 \r\nQ 36.859375 6.390625 41.078125 11.03125 \r\nQ 45.3125 15.671875 45.3125 23.6875 \r\nL 45.3125 54.6875 \r\nL 54.296875 54.6875 \r\nL 54.296875 0 \r\nL 45.3125 0 \r\nL 45.3125 8.40625 \r\nQ 42.046875 3.421875 37.71875 1 \r\nQ 33.40625 -1.421875 27.6875 -1.421875 \r\nQ 18.265625 -1.421875 13.375 4.4375 \r\nQ 8.5 10.296875 8.5 21.578125 \r\nz\r\nM 31.109375 56 \r\nz\r\n\" id=\"DejaVuSans-75\"/>\r\n      <path d=\"M 45.40625 46.390625 \r\nL 45.40625 75.984375 \r\nL 54.390625 75.984375 \r\nL 54.390625 0 \r\nL 45.40625 0 \r\nL 45.40625 8.203125 \r\nQ 42.578125 3.328125 38.25 0.953125 \r\nQ 33.9375 -1.421875 27.875 -1.421875 \r\nQ 17.96875 -1.421875 11.734375 6.484375 \r\nQ 5.515625 14.40625 5.515625 27.296875 \r\nQ 5.515625 40.1875 11.734375 48.09375 \r\nQ 17.96875 56 27.875 56 \r\nQ 33.9375 56 38.25 53.625 \r\nQ 42.578125 51.265625 45.40625 46.390625 \r\nz\r\nM 14.796875 27.296875 \r\nQ 14.796875 17.390625 18.875 11.75 \r\nQ 22.953125 6.109375 30.078125 6.109375 \r\nQ 37.203125 6.109375 41.296875 11.75 \r\nQ 45.40625 17.390625 45.40625 27.296875 \r\nQ 45.40625 37.203125 41.296875 42.84375 \r\nQ 37.203125 48.484375 30.078125 48.484375 \r\nQ 22.953125 48.484375 18.875 42.84375 \r\nQ 14.796875 37.203125 14.796875 27.296875 \r\nz\r\n\" id=\"DejaVuSans-64\"/>\r\n     </defs>\r\n     <g transform=\"translate(14.798438 156.660781)rotate(-90)scale(0.1 -0.1)\">\r\n      <use xlink:href=\"#DejaVuSans-41\"/>\r\n      <use x=\"68.408203\" xlink:href=\"#DejaVuSans-6d\"/>\r\n      <use x=\"165.820312\" xlink:href=\"#DejaVuSans-70\"/>\r\n      <use x=\"229.296875\" xlink:href=\"#DejaVuSans-6c\"/>\r\n      <use x=\"257.080078\" xlink:href=\"#DejaVuSans-69\"/>\r\n      <use x=\"284.863281\" xlink:href=\"#DejaVuSans-74\"/>\r\n      <use x=\"324.072266\" xlink:href=\"#DejaVuSans-75\"/>\r\n      <use x=\"387.451172\" xlink:href=\"#DejaVuSans-64\"/>\r\n      <use x=\"450.927734\" xlink:href=\"#DejaVuSans-65\"/>\r\n     </g>\r\n    </g>\r\n   </g>\r\n   <g id=\"line2d_33\">\r\n    <path clip-path=\"url(#p6a17bca05d)\" d=\"M 42.620313 175.667157 \r\nL 45.968313 184.003664 \r\nL 49.316313 191.49966 \r\nL 50.990313 194.894955 \r\nL 52.664313 198.036931 \r\nL 54.338313 200.913189 \r\nL 56.012313 203.512378 \r\nL 57.686313 205.82424 \r\nL 59.360313 207.839651 \r\nL 61.034313 209.550658 \r\nL 62.708313 210.950507 \r\nL 64.382313 212.033674 \r\nL 66.056313 212.795885 \r\nL 67.730312 213.23413 \r\nL 69.404313 213.346682 \r\nL 71.078313 213.133095 \r\nL 72.752313 212.594212 \r\nL 74.426313 211.73216 \r\nL 76.100313 210.550342 \r\nL 77.774313 209.053421 \r\nL 79.448313 207.247305 \r\nL 81.122313 205.139122 \r\nL 82.796312 202.737192 \r\nL 84.470313 200.050994 \r\nL 86.144313 197.09113 \r\nL 87.818313 193.86928 \r\nL 91.166313 186.69147 \r\nL 94.514313 178.630761 \r\nL 97.862313 169.814276 \r\nL 101.210313 160.381056 \r\nL 106.232313 145.402362 \r\nL 121.298313 99.538141 \r\nL 124.646312 90.190959 \r\nL 127.994313 81.482749 \r\nL 131.342313 73.550846 \r\nL 134.690313 66.520339 \r\nL 136.364313 63.378363 \r\nL 138.038313 60.502104 \r\nL 139.712312 57.902915 \r\nL 141.386313 55.591053 \r\nL 143.060313 53.575642 \r\nL 144.734313 51.864636 \r\nL 146.408312 50.464787 \r\nL 148.082313 49.381619 \r\nL 149.756313 48.619409 \r\nL 151.430313 48.181163 \r\nL 153.104313 48.068612 \r\nL 154.778313 48.282199 \r\nL 156.452313 48.821082 \r\nL 158.126313 49.683133 \r\nL 159.800313 50.864952 \r\nL 161.474312 52.361873 \r\nL 163.148313 54.167989 \r\nL 164.822313 56.276172 \r\nL 166.496313 58.678102 \r\nL 168.170313 61.364299 \r\nL 169.844313 64.324164 \r\nL 171.518313 67.546013 \r\nL 174.866313 74.723824 \r\nL 178.214313 82.784532 \r\nL 181.562313 91.601017 \r\nL 184.910313 101.034237 \r\nL 189.932313 116.012931 \r\nL 204.998313 161.877153 \r\nL 208.346313 171.224335 \r\nL 211.694313 179.932544 \r\nL 215.042313 187.864448 \r\nL 218.390313 194.894955 \r\nL 220.064313 198.036931 \r\nL 221.738313 200.913189 \r\nL 223.412313 203.512378 \r\nL 225.086313 205.82424 \r\nL 226.760313 207.839651 \r\nL 228.434313 209.550658 \r\nL 230.108313 210.950507 \r\nL 231.782313 212.033674 \r\nL 233.456313 212.795885 \r\nL 235.130313 213.23413 \r\nL 236.804313 213.346682 \r\nL 238.478313 213.133095 \r\nL 240.152312 212.594212 \r\nL 241.826313 211.73216 \r\nL 243.500313 210.550342 \r\nL 245.174313 209.053421 \r\nL 246.848313 207.247305 \r\nL 248.522313 205.139122 \r\nL 250.196313 202.737192 \r\nL 251.870313 200.050994 \r\nL 253.544313 197.09113 \r\nL 255.218313 193.86928 \r\nL 258.566313 186.69147 \r\nL 261.914312 178.630761 \r\nL 265.262313 169.814276 \r\nL 268.610313 160.381056 \r\nL 273.632313 145.402362 \r\nL 288.698312 99.538141 \r\nL 292.046312 90.190959 \r\nL 295.394313 81.482749 \r\nL 298.742313 73.550846 \r\nL 302.090313 66.520339 \r\nL 303.764313 63.378363 \r\nL 305.438313 60.502104 \r\nL 307.112313 57.902915 \r\nL 308.786313 55.591053 \r\nL 310.460313 53.575642 \r\nL 312.134313 51.864636 \r\nL 313.808313 50.464787 \r\nL 315.482313 49.381619 \r\nL 317.156313 48.619409 \r\nL 318.830313 48.181163 \r\nL 320.504313 48.068612 \r\nL 322.178313 48.282199 \r\nL 323.852312 48.821082 \r\nL 325.526313 49.683133 \r\nL 327.200312 50.864952 \r\nL 328.874313 52.361873 \r\nL 330.548313 54.167989 \r\nL 332.222313 56.276172 \r\nL 333.896313 58.678102 \r\nL 335.570312 61.364299 \r\nL 337.244313 64.324164 \r\nL 338.918313 67.546013 \r\nL 342.266313 74.723824 \r\nL 345.614313 82.784532 \r\nL 348.962313 91.601017 \r\nL 352.310313 101.034237 \r\nL 357.332313 116.012931 \r\nL 372.398313 161.877153 \r\nL 375.746313 171.224335 \r\nL 379.094313 179.932544 \r\nL 382.442313 187.864448 \r\nL 385.790312 194.894955 \r\nL 387.464313 198.036931 \r\nL 389.138312 200.913189 \r\nL 390.812313 203.512378 \r\nL 392.486312 205.82424 \r\nL 394.160313 207.839651 \r\nL 395.834313 209.550658 \r\nL 396.753125 210.318996 \r\nL 396.753125 210.318996 \r\n\" style=\"fill:none;stroke:#1f77b4;stroke-linecap:square;stroke-width:1.5;\"/>\r\n   </g>\r\n   <g id=\"line2d_34\">\r\n    <path clip-path=\"url(#p6a17bca05d)\" d=\"M 42.620313 148.691451 \r\nL 44.294313 152.026054 \r\nL 45.968313 155.024452 \r\nL 47.642313 157.63936 \r\nL 49.316313 159.829539 \r\nL 50.990313 161.560449 \r\nL 52.664313 162.804791 \r\nL 54.338313 163.542942 \r\nL 56.012313 163.763261 \r\nL 57.686313 163.462273 \r\nL 59.360313 162.644725 \r\nL 61.034313 161.32351 \r\nL 62.708313 159.519465 \r\nL 64.382313 157.26104 \r\nL 66.056313 154.583852 \r\nL 67.730312 151.530123 \r\nL 69.404313 148.14801 \r\nL 72.752313 140.616326 \r\nL 77.774313 128.310884 \r\nL 81.122313 120.186833 \r\nL 84.470313 112.723843 \r\nL 86.144313 109.38924 \r\nL 87.818313 106.390841 \r\nL 89.492313 103.775933 \r\nL 91.166313 101.585754 \r\nL 92.840313 99.854845 \r\nL 94.514313 98.610503 \r\nL 96.188313 97.872352 \r\nL 97.862313 97.652033 \r\nL 99.536313 97.953021 \r\nL 101.210313 98.770569 \r\nL 102.884313 100.091783 \r\nL 104.558312 101.895829 \r\nL 106.232313 104.154253 \r\nL 107.906313 106.831441 \r\nL 109.580313 109.885171 \r\nL 111.254313 113.267283 \r\nL 114.602313 120.798968 \r\nL 119.624313 133.104409 \r\nL 122.972313 141.228461 \r\nL 126.320312 148.691451 \r\nL 127.994313 152.026054 \r\nL 129.668313 155.024452 \r\nL 131.342313 157.63936 \r\nL 133.016313 159.829539 \r\nL 134.690313 161.560449 \r\nL 136.364313 162.804791 \r\nL 138.038313 163.542942 \r\nL 139.712312 163.763261 \r\nL 141.386313 163.462273 \r\nL 143.060313 162.644725 \r\nL 144.734313 161.32351 \r\nL 146.408312 159.519465 \r\nL 148.082313 157.26104 \r\nL 149.756313 154.583852 \r\nL 151.430313 151.530123 \r\nL 153.104313 148.14801 \r\nL 156.452313 140.616326 \r\nL 161.474312 128.310884 \r\nL 164.822313 120.186833 \r\nL 168.170313 112.723843 \r\nL 169.844313 109.38924 \r\nL 171.518313 106.390841 \r\nL 173.192313 103.775933 \r\nL 174.866313 101.585754 \r\nL 176.540313 99.854845 \r\nL 178.214313 98.610503 \r\nL 179.888313 97.872352 \r\nL 181.562313 97.652033 \r\nL 183.236312 97.953021 \r\nL 184.910313 98.770569 \r\nL 186.584313 100.091783 \r\nL 188.258313 101.895829 \r\nL 189.932313 104.154253 \r\nL 191.606313 106.831441 \r\nL 193.280313 109.885171 \r\nL 194.954313 113.267283 \r\nL 198.302313 120.798968 \r\nL 203.324313 133.104409 \r\nL 206.672313 141.228461 \r\nL 210.020313 148.691451 \r\nL 211.694313 152.026054 \r\nL 213.368313 155.024452 \r\nL 215.042313 157.63936 \r\nL 216.716313 159.829539 \r\nL 218.390313 161.560449 \r\nL 220.064313 162.804791 \r\nL 221.738313 163.542942 \r\nL 223.412313 163.763261 \r\nL 225.086313 163.462273 \r\nL 226.760313 162.644725 \r\nL 228.434313 161.32351 \r\nL 230.108313 159.519465 \r\nL 231.782313 157.26104 \r\nL 233.456313 154.583852 \r\nL 235.130313 151.530123 \r\nL 236.804313 148.14801 \r\nL 240.152312 140.616326 \r\nL 245.174313 128.310884 \r\nL 248.522313 120.186833 \r\nL 251.870313 112.723843 \r\nL 253.544313 109.38924 \r\nL 255.218313 106.390841 \r\nL 256.892313 103.775933 \r\nL 258.566313 101.585754 \r\nL 260.240313 99.854845 \r\nL 261.914312 98.610503 \r\nL 263.588313 97.872352 \r\nL 265.262313 97.652033 \r\nL 266.936313 97.953021 \r\nL 268.610313 98.770569 \r\nL 270.284312 100.091783 \r\nL 271.958313 101.895829 \r\nL 273.632313 104.154253 \r\nL 275.306313 106.831441 \r\nL 276.980313 109.885171 \r\nL 278.654313 113.267283 \r\nL 282.002313 120.798968 \r\nL 287.024313 133.104409 \r\nL 290.372313 141.228461 \r\nL 293.720313 148.691451 \r\nL 295.394313 152.026054 \r\nL 297.068312 155.024452 \r\nL 298.742313 157.63936 \r\nL 300.416313 159.829539 \r\nL 302.090313 161.560449 \r\nL 303.764313 162.804791 \r\nL 305.438313 163.542942 \r\nL 307.112313 163.763261 \r\nL 308.786313 163.462273 \r\nL 310.460313 162.644725 \r\nL 312.134313 161.32351 \r\nL 313.808313 159.519465 \r\nL 315.482313 157.26104 \r\nL 317.156313 154.583852 \r\nL 318.830313 151.530123 \r\nL 320.504313 148.14801 \r\nL 323.852312 140.616326 \r\nL 328.874313 128.310884 \r\nL 332.222313 120.186833 \r\nL 335.570312 112.723843 \r\nL 337.244313 109.38924 \r\nL 338.918313 106.390841 \r\nL 340.592313 103.775933 \r\nL 342.266313 101.585754 \r\nL 343.940313 99.854845 \r\nL 345.614313 98.610503 \r\nL 347.288313 97.872352 \r\nL 348.962313 97.652033 \r\nL 350.636313 97.953021 \r\nL 352.310313 98.770569 \r\nL 353.984313 100.091783 \r\nL 355.658313 101.895829 \r\nL 357.332313 104.154253 \r\nL 359.006313 106.831441 \r\nL 360.680313 109.885171 \r\nL 362.354313 113.267283 \r\nL 365.702313 120.798968 \r\nL 370.724312 133.104409 \r\nL 374.072313 141.228461 \r\nL 377.420313 148.691451 \r\nL 379.094313 152.026054 \r\nL 380.768313 155.024452 \r\nL 382.442313 157.63936 \r\nL 384.116313 159.829539 \r\nL 385.790312 161.560449 \r\nL 387.464313 162.804791 \r\nL 389.138312 163.542942 \r\nL 390.812313 163.763261 \r\nL 392.486312 163.462273 \r\nL 394.160313 162.644725 \r\nL 395.834313 161.32351 \r\nL 396.753125 160.333319 \r\nL 396.753125 160.333319 \r\n\" style=\"fill:none;stroke:#ff7f0e;stroke-linecap:square;stroke-width:1.5;\"/>\r\n   </g>\r\n   <g id=\"line2d_35\">\r\n    <path clip-path=\"url(#p6a17bca05d)\" d=\"M 42.620313 184.659059 \r\nL 44.294313 203.658063 \r\nL 45.968313 218.073324 \r\nL 47.642313 226.999079 \r\nL 49.316313 229.874489 \r\nL 50.990313 226.518881 \r\nL 52.664313 217.143101 \r\nL 54.338313 202.336264 \r\nL 56.012313 183.028737 \r\nL 57.686313 160.433683 \r\nL 62.708313 87.610889 \r\nL 64.382313 66.752426 \r\nL 66.056313 49.912506 \r\nL 67.730312 38.149241 \r\nL 69.404313 32.201761 \r\nL 71.078313 32.443769 \r\nL 72.752313 38.860057 \r\nL 74.426313 51.047467 \r\nL 76.100313 68.240219 \r\nL 77.774313 89.358029 \r\nL 81.122313 137.897935 \r\nL 82.796312 162.270089 \r\nL 84.470313 184.659059 \r\nL 86.144313 203.658063 \r\nL 87.818313 218.073324 \r\nL 89.492313 226.999079 \r\nL 91.166313 229.874489 \r\nL 92.840313 226.518881 \r\nL 94.514313 217.143101 \r\nL 96.188313 202.336264 \r\nL 97.862313 183.028737 \r\nL 99.536313 160.433683 \r\nL 104.558312 87.610889 \r\nL 106.232313 66.752426 \r\nL 107.906313 49.912506 \r\nL 109.580313 38.149241 \r\nL 111.254313 32.201761 \r\nL 112.928313 32.443769 \r\nL 114.602313 38.860057 \r\nL 116.276313 51.047467 \r\nL 117.950312 68.240219 \r\nL 119.624313 89.358029 \r\nL 122.972313 137.897935 \r\nL 124.646312 162.270089 \r\nL 126.320312 184.659059 \r\nL 127.994313 203.658063 \r\nL 129.668313 218.073324 \r\nL 131.342313 226.999079 \r\nL 133.016313 229.874489 \r\nL 134.690313 226.518881 \r\nL 136.364313 217.143101 \r\nL 138.038313 202.336264 \r\nL 139.712312 183.028737 \r\nL 141.386313 160.433683 \r\nL 146.408312 87.610889 \r\nL 148.082313 66.752426 \r\nL 149.756313 49.912506 \r\nL 151.430313 38.149241 \r\nL 153.104313 32.201761 \r\nL 154.778313 32.443769 \r\nL 156.452313 38.860057 \r\nL 158.126313 51.047467 \r\nL 159.800313 68.240219 \r\nL 161.474312 89.358029 \r\nL 164.822313 137.897935 \r\nL 166.496313 162.270089 \r\nL 168.170313 184.659059 \r\nL 169.844313 203.658063 \r\nL 171.518313 218.073324 \r\nL 173.192313 226.999079 \r\nL 174.866313 229.874489 \r\nL 176.540313 226.518881 \r\nL 178.214313 217.143101 \r\nL 179.888313 202.336264 \r\nL 181.562313 183.028737 \r\nL 183.236312 160.433683 \r\nL 188.258313 87.610889 \r\nL 189.932313 66.752426 \r\nL 191.606313 49.912506 \r\nL 193.280313 38.149241 \r\nL 194.954313 32.201761 \r\nL 196.628313 32.443769 \r\nL 198.302313 38.860057 \r\nL 199.976313 51.047467 \r\nL 201.650313 68.240219 \r\nL 203.324313 89.358029 \r\nL 206.672313 137.897935 \r\nL 208.346313 162.270089 \r\nL 210.020313 184.659059 \r\nL 211.694313 203.658063 \r\nL 213.368313 218.073324 \r\nL 215.042313 226.999079 \r\nL 216.716313 229.874489 \r\nL 218.390313 226.518881 \r\nL 220.064313 217.143101 \r\nL 221.738313 202.336264 \r\nL 223.412313 183.028737 \r\nL 225.086313 160.433683 \r\nL 230.108313 87.610889 \r\nL 231.782313 66.752426 \r\nL 233.456313 49.912506 \r\nL 235.130313 38.149241 \r\nL 236.804313 32.201761 \r\nL 238.478313 32.443769 \r\nL 240.152312 38.860057 \r\nL 241.826313 51.047467 \r\nL 243.500313 68.240219 \r\nL 245.174313 89.358029 \r\nL 248.522313 137.897935 \r\nL 250.196313 162.270089 \r\nL 251.870313 184.659059 \r\nL 253.544313 203.658063 \r\nL 255.218313 218.073324 \r\nL 256.892313 226.999079 \r\nL 258.566313 229.874489 \r\nL 260.240313 226.518881 \r\nL 261.914312 217.143101 \r\nL 263.588313 202.336264 \r\nL 265.262313 183.028737 \r\nL 266.936313 160.433683 \r\nL 271.958313 87.610889 \r\nL 273.632313 66.752426 \r\nL 275.306313 49.912506 \r\nL 276.980313 38.149241 \r\nL 278.654313 32.201761 \r\nL 280.328312 32.443769 \r\nL 282.002313 38.860057 \r\nL 283.676312 51.047467 \r\nL 285.350312 68.240219 \r\nL 287.024313 89.358029 \r\nL 290.372313 137.897935 \r\nL 292.046312 162.270089 \r\nL 293.720313 184.659059 \r\nL 295.394313 203.658063 \r\nL 297.068312 218.073324 \r\nL 298.742313 226.999079 \r\nL 300.416313 229.874489 \r\nL 302.090313 226.518881 \r\nL 303.764313 217.143101 \r\nL 305.438313 202.336264 \r\nL 307.112313 183.028737 \r\nL 308.786313 160.433683 \r\nL 313.808313 87.610889 \r\nL 315.482313 66.752426 \r\nL 317.156313 49.912506 \r\nL 318.830313 38.149241 \r\nL 320.504313 32.201761 \r\nL 322.178313 32.443769 \r\nL 323.852312 38.860057 \r\nL 325.526313 51.047467 \r\nL 327.200312 68.240219 \r\nL 328.874313 89.358029 \r\nL 332.222313 137.897935 \r\nL 333.896313 162.270089 \r\nL 335.570312 184.659059 \r\nL 337.244313 203.658063 \r\nL 338.918313 218.073324 \r\nL 340.592313 226.999079 \r\nL 342.266313 229.874489 \r\nL 343.940313 226.518881 \r\nL 345.614313 217.143101 \r\nL 347.288313 202.336264 \r\nL 348.962313 183.028737 \r\nL 350.636313 160.433683 \r\nL 355.658313 87.610889 \r\nL 357.332313 66.752426 \r\nL 359.006313 49.912506 \r\nL 360.680313 38.149241 \r\nL 362.354313 32.201761 \r\nL 364.028313 32.443769 \r\nL 365.702313 38.860057 \r\nL 367.376313 51.047467 \r\nL 369.050313 68.240219 \r\nL 370.724312 89.358029 \r\nL 374.072313 137.897935 \r\nL 375.746313 162.270089 \r\nL 377.420313 184.659059 \r\nL 379.094313 203.658063 \r\nL 380.768313 218.073324 \r\nL 382.442313 226.999079 \r\nL 384.116313 229.874489 \r\nL 385.790312 226.518881 \r\nL 387.464313 217.143101 \r\nL 389.138312 202.336264 \r\nL 390.812313 183.028737 \r\nL 392.486312 160.433683 \r\nL 396.753125 98.242336 \r\nL 396.753125 98.242336 \r\n\" style=\"fill:none;stroke:#2ca02c;stroke-linecap:square;stroke-width:1.5;\"/>\r\n   </g>\r\n   <g id=\"patch_3\">\r\n    <path d=\"M 42.620313 239.758125 \r\nL 42.620313 22.318125 \r\n\" style=\"fill:none;stroke:#000000;stroke-linecap:square;stroke-linejoin:miter;stroke-width:0.8;\"/>\r\n   </g>\r\n   <g id=\"patch_4\">\r\n    <path d=\"M 377.420313 239.758125 \r\nL 377.420313 22.318125 \r\n\" style=\"fill:none;stroke:#000000;stroke-linecap:square;stroke-linejoin:miter;stroke-width:0.8;\"/>\r\n   </g>\r\n   <g id=\"patch_5\">\r\n    <path d=\"M 42.620313 239.758125 \r\nL 377.420313 239.758125 \r\n\" style=\"fill:none;stroke:#000000;stroke-linecap:square;stroke-linejoin:miter;stroke-width:0.8;\"/>\r\n   </g>\r\n   <g id=\"patch_6\">\r\n    <path d=\"M 42.620313 22.318125 \r\nL 377.420313 22.318125 \r\n\" style=\"fill:none;stroke:#000000;stroke-linecap:square;stroke-linejoin:miter;stroke-width:0.8;\"/>\r\n   </g>\r\n   <g id=\"text_19\">\r\n    <!-- Sine waves -->\r\n    <defs>\r\n     <path d=\"M 53.515625 70.515625 \r\nL 53.515625 60.890625 \r\nQ 47.90625 63.578125 42.921875 64.890625 \r\nQ 37.9375 66.21875 33.296875 66.21875 \r\nQ 25.25 66.21875 20.875 63.09375 \r\nQ 16.5 59.96875 16.5 54.203125 \r\nQ 16.5 49.359375 19.40625 46.890625 \r\nQ 22.3125 44.4375 30.421875 42.921875 \r\nL 36.375 41.703125 \r\nQ 47.40625 39.59375 52.65625 34.296875 \r\nQ 57.90625 29 57.90625 20.125 \r\nQ 57.90625 9.515625 50.796875 4.046875 \r\nQ 43.703125 -1.421875 29.984375 -1.421875 \r\nQ 24.8125 -1.421875 18.96875 -0.25 \r\nQ 13.140625 0.921875 6.890625 3.21875 \r\nL 6.890625 13.375 \r\nQ 12.890625 10.015625 18.65625 8.296875 \r\nQ 24.421875 6.59375 29.984375 6.59375 \r\nQ 38.421875 6.59375 43.015625 9.90625 \r\nQ 47.609375 13.234375 47.609375 19.390625 \r\nQ 47.609375 24.75 44.3125 27.78125 \r\nQ 41.015625 30.8125 33.5 32.328125 \r\nL 27.484375 33.5 \r\nQ 16.453125 35.6875 11.515625 40.375 \r\nQ 6.59375 45.0625 6.59375 53.421875 \r\nQ 6.59375 63.09375 13.40625 68.65625 \r\nQ 20.21875 74.21875 32.171875 74.21875 \r\nQ 37.3125 74.21875 42.625 73.28125 \r\nQ 47.953125 72.359375 53.515625 70.515625 \r\nz\r\n\" id=\"DejaVuSans-53\"/>\r\n     <path d=\"M 54.890625 33.015625 \r\nL 54.890625 0 \r\nL 45.90625 0 \r\nL 45.90625 32.71875 \r\nQ 45.90625 40.484375 42.875 44.328125 \r\nQ 39.84375 48.1875 33.796875 48.1875 \r\nQ 26.515625 48.1875 22.3125 43.546875 \r\nQ 18.109375 38.921875 18.109375 30.90625 \r\nL 18.109375 0 \r\nL 9.078125 0 \r\nL 9.078125 54.6875 \r\nL 18.109375 54.6875 \r\nL 18.109375 46.1875 \r\nQ 21.34375 51.125 25.703125 53.5625 \r\nQ 30.078125 56 35.796875 56 \r\nQ 45.21875 56 50.046875 50.171875 \r\nQ 54.890625 44.34375 54.890625 33.015625 \r\nz\r\n\" id=\"DejaVuSans-6e\"/>\r\n     <path id=\"DejaVuSans-20\"/>\r\n     <path d=\"M 4.203125 54.6875 \r\nL 13.1875 54.6875 \r\nL 24.421875 12.015625 \r\nL 35.59375 54.6875 \r\nL 46.1875 54.6875 \r\nL 57.421875 12.015625 \r\nL 68.609375 54.6875 \r\nL 77.59375 54.6875 \r\nL 63.28125 0 \r\nL 52.6875 0 \r\nL 40.921875 44.828125 \r\nL 29.109375 0 \r\nL 18.5 0 \r\nz\r\n\" id=\"DejaVuSans-77\"/>\r\n     <path d=\"M 34.28125 27.484375 \r\nQ 23.390625 27.484375 19.1875 25 \r\nQ 14.984375 22.515625 14.984375 16.5 \r\nQ 14.984375 11.71875 18.140625 8.90625 \r\nQ 21.296875 6.109375 26.703125 6.109375 \r\nQ 34.1875 6.109375 38.703125 11.40625 \r\nQ 43.21875 16.703125 43.21875 25.484375 \r\nL 43.21875 27.484375 \r\nz\r\nM 52.203125 31.203125 \r\nL 52.203125 0 \r\nL 43.21875 0 \r\nL 43.21875 8.296875 \r\nQ 40.140625 3.328125 35.546875 0.953125 \r\nQ 30.953125 -1.421875 24.3125 -1.421875 \r\nQ 15.921875 -1.421875 10.953125 3.296875 \r\nQ 6 8.015625 6 15.921875 \r\nQ 6 25.140625 12.171875 29.828125 \r\nQ 18.359375 34.515625 30.609375 34.515625 \r\nL 43.21875 34.515625 \r\nL 43.21875 35.40625 \r\nQ 43.21875 41.609375 39.140625 45 \r\nQ 35.0625 48.390625 27.6875 48.390625 \r\nQ 23 48.390625 18.546875 47.265625 \r\nQ 14.109375 46.140625 10.015625 43.890625 \r\nL 10.015625 52.203125 \r\nQ 14.9375 54.109375 19.578125 55.046875 \r\nQ 24.21875 56 28.609375 56 \r\nQ 40.484375 56 46.34375 49.84375 \r\nQ 52.203125 43.703125 52.203125 31.203125 \r\nz\r\n\" id=\"DejaVuSans-61\"/>\r\n     <path d=\"M 2.984375 54.6875 \r\nL 12.5 54.6875 \r\nL 29.59375 8.796875 \r\nL 46.6875 54.6875 \r\nL 56.203125 54.6875 \r\nL 35.6875 0 \r\nL 23.484375 0 \r\nz\r\n\" id=\"DejaVuSans-76\"/>\r\n     <path d=\"M 44.28125 53.078125 \r\nL 44.28125 44.578125 \r\nQ 40.484375 46.53125 36.375 47.5 \r\nQ 32.28125 48.484375 27.875 48.484375 \r\nQ 21.1875 48.484375 17.84375 46.4375 \r\nQ 14.5 44.390625 14.5 40.28125 \r\nQ 14.5 37.15625 16.890625 35.375 \r\nQ 19.28125 33.59375 26.515625 31.984375 \r\nL 29.59375 31.296875 \r\nQ 39.15625 29.25 43.1875 25.515625 \r\nQ 47.21875 21.78125 47.21875 15.09375 \r\nQ 47.21875 7.46875 41.1875 3.015625 \r\nQ 35.15625 -1.421875 24.609375 -1.421875 \r\nQ 20.21875 -1.421875 15.453125 -0.5625 \r\nQ 10.6875 0.296875 5.421875 2 \r\nL 5.421875 11.28125 \r\nQ 10.40625 8.6875 15.234375 7.390625 \r\nQ 20.0625 6.109375 24.8125 6.109375 \r\nQ 31.15625 6.109375 34.5625 8.28125 \r\nQ 37.984375 10.453125 37.984375 14.40625 \r\nQ 37.984375 18.0625 35.515625 20.015625 \r\nQ 33.0625 21.96875 24.703125 23.78125 \r\nL 21.578125 24.515625 \r\nQ 13.234375 26.265625 9.515625 29.90625 \r\nQ 5.8125 33.546875 5.8125 39.890625 \r\nQ 5.8125 47.609375 11.28125 51.796875 \r\nQ 16.75 56 26.8125 56 \r\nQ 31.78125 56 36.171875 55.265625 \r\nQ 40.578125 54.546875 44.28125 53.078125 \r\nz\r\n\" id=\"DejaVuSans-73\"/>\r\n    </defs>\r\n    <g transform=\"translate(176.190625 16.318125)scale(0.12 -0.12)\">\r\n     <use xlink:href=\"#DejaVuSans-53\"/>\r\n     <use x=\"63.476562\" xlink:href=\"#DejaVuSans-69\"/>\r\n     <use x=\"91.259766\" xlink:href=\"#DejaVuSans-6e\"/>\r\n     <use x=\"154.638672\" xlink:href=\"#DejaVuSans-65\"/>\r\n     <use x=\"216.162109\" xlink:href=\"#DejaVuSans-20\"/>\r\n     <use x=\"247.949219\" xlink:href=\"#DejaVuSans-77\"/>\r\n     <use x=\"329.736328\" xlink:href=\"#DejaVuSans-61\"/>\r\n     <use x=\"391.015625\" xlink:href=\"#DejaVuSans-76\"/>\r\n     <use x=\"450.195312\" xlink:href=\"#DejaVuSans-65\"/>\r\n     <use x=\"511.71875\" xlink:href=\"#DejaVuSans-73\"/>\r\n    </g>\r\n   </g>\r\n  </g>\r\n </g>\r\n <defs>\r\n  <clipPath id=\"p6a17bca05d\">\r\n   <rect height=\"217.44\" width=\"334.8\" x=\"42.620313\" y=\"22.318125\"/>\r\n  </clipPath>\r\n </defs>\r\n</svg>\r\n",
      "image/png": "[encoded data removed]"
     },
     "metadata": {}
    }
   ],
   "source": [
    "plt.plot(t, data[:,1], t, data[:,2], t, data[:,3])\n",
    "plt.title(\"Sine waves\")\n",
    "plt.xlabel('Time')\n",
    "plt.ylabel('Amplitude')\n",
    "plt.grid(True)\n",
    "plt.xlim([0, 2])\n",
    "\n",
    "plt.show()"
   ]
  },
  {
   "cell_type": "code",
   "execution_count": null,
   "metadata": {},
   "outputs": [],
   "source": [
    "# now we try to figure out which frequency component has the greatest amplitude\n"
   ]
  },
  {
   "cell_type": "code",
   "execution_count": 208,
   "metadata": {},
   "outputs": [
    {
     "output_type": "execute_result",
     "data": {
      "text/plain": "(1000, 3)"
     },
     "metadata": {},
     "execution_count": 208
    }
   ],
   "source": [
    "# computing FFT\n",
    "y_fft = np.fft.fft(data[:,1:], axis=0) / len(y)            # Normalize amplitude\n",
    "y_fft.shape\n"
   ]
  },
  {
   "cell_type": "code",
   "execution_count": 204,
   "metadata": {},
   "outputs": [],
   "source": [
    "# computing the frequency vector\n",
    "fft_fre = np.fft.fftfreq(n=len(data[:,0]), d=1/Fs)\n"
   ]
  },
  {
   "cell_type": "code",
   "execution_count": 236,
   "metadata": {
    "tags": []
   },
   "outputs": [
    {
     "output_type": "stream",
     "name": "stdout",
     "text": "[1. 2. 4.]\n"
    }
   ],
   "source": [
    "# finding the max value in the spectrum of each signal\n",
    "maxs = (np.abs(y_fft)).max(axis=0)\n",
    "\n",
    "#maxs = np.maximum(np.abs(y_fft),)\n",
    "\n",
    "# Get the indices of maximum elements for each signal\n",
    "max_indexs = np.abs(y_fft).argmax(axis=0)\n",
    "\n",
    "# print the frequency component of each signal with the maximun amplitude\n",
    "print(fft_fre[max_indexs])\n",
    "\n"
   ]
  },
  {
   "cell_type": "code",
   "execution_count": null,
   "metadata": {},
   "outputs": [],
   "source": [
    "y_fft_red = y_fft[range(int(len(y)/2))]   # Exclude sampling frequency\n",
    "\n",
    "tpCount     = len(y)\n",
    "values      = np.arange(int(tpCount/2))\n",
    "timePeriod  = tpCount / fs\n",
    "frequencies = values/timePeriod"
   ]
  },
  {
   "cell_type": "markdown",
   "metadata": {},
   "source": [
    "TODO: Explanation about example"
   ]
  },
  {
   "cell_type": "code",
   "execution_count": 239,
   "metadata": {},
   "outputs": [
    {
     "output_type": "execute_result",
     "data": {
      "text/plain": "array([ 0.,  1.,  2.,  3.,  4., -5., -4., -3., -2., -1.])"
     },
     "metadata": {},
     "execution_count": 239
    }
   ],
   "source": [
    "# Example 2 - working\n",
    "\n",
    "y = np.array([2, 4, 5, -1, -5, 8, 9, 15, -4, -5], dtype=float)\n",
    "y_ftt = np.fft.fft(y)\n",
    "n = y.size\n",
    "timestep = 0.1\n",
    "freq = np.fft.fftfreq(n, d=timestep)\n",
    "freq"
   ]
  },
  {
   "cell_type": "markdown",
   "metadata": {},
   "source": [
    "TODO Explanation about example\n",
    "\n",
    "It's important to notice that because of the presence of the imaginary component, the resulting vector has negative frequencies"
   ]
  },
  {
   "cell_type": "code",
   "execution_count": 243,
   "metadata": {},
   "outputs": [
    {
     "output_type": "error",
     "ename": "TypeError",
     "evalue": "unsupported operand type(s) for /: 'float' and 'str'",
     "traceback": [
      "\u001b[1;31m---------------------------------------------------------------------------\u001b[0m",
      "\u001b[1;31mTypeError\u001b[0m                                 Traceback (most recent call last)",
      "\u001b[1;32m<ipython-input-243-6e57973e6544>\u001b[0m in \u001b[0;36m<module>\u001b[1;34m()\u001b[0m\n\u001b[0;32m      5\u001b[0m \u001b[0mn\u001b[0m \u001b[1;33m=\u001b[0m \u001b[0my\u001b[0m\u001b[1;33m.\u001b[0m\u001b[0msize\u001b[0m\u001b[1;33m\u001b[0m\u001b[0m\n\u001b[0;32m      6\u001b[0m \u001b[0mtimestep\u001b[0m \u001b[1;33m=\u001b[0m \u001b[1;34m'a'\u001b[0m\u001b[1;33m\u001b[0m\u001b[0m\n\u001b[1;32m----> 7\u001b[1;33m \u001b[0mfreq\u001b[0m \u001b[1;33m=\u001b[0m \u001b[0mnp\u001b[0m\u001b[1;33m.\u001b[0m\u001b[0mfft\u001b[0m\u001b[1;33m.\u001b[0m\u001b[0mfftfreq\u001b[0m\u001b[1;33m(\u001b[0m\u001b[0mn\u001b[0m\u001b[1;33m,\u001b[0m \u001b[0md\u001b[0m\u001b[1;33m=\u001b[0m\u001b[0mtimestep\u001b[0m\u001b[1;33m)\u001b[0m\u001b[1;33m\u001b[0m\u001b[0m\n\u001b[0m\u001b[0;32m      8\u001b[0m \u001b[0mfreq\u001b[0m\u001b[1;33m\u001b[0m\u001b[0m\n",
      "\u001b[1;32mC:\\Programas\\Microsoft Visual Studio\\Shared\\Anaconda3_64\\lib\\site-packages\\numpy\\fft\\helper.py\u001b[0m in \u001b[0;36mfftfreq\u001b[1;34m(n, d)\u001b[0m\n\u001b[0;32m    166\u001b[0m     \u001b[1;32mif\u001b[0m \u001b[1;32mnot\u001b[0m \u001b[0misinstance\u001b[0m\u001b[1;33m(\u001b[0m\u001b[0mn\u001b[0m\u001b[1;33m,\u001b[0m \u001b[0minteger_types\u001b[0m\u001b[1;33m)\u001b[0m\u001b[1;33m:\u001b[0m\u001b[1;33m\u001b[0m\u001b[0m\n\u001b[0;32m    167\u001b[0m         \u001b[1;32mraise\u001b[0m \u001b[0mValueError\u001b[0m\u001b[1;33m(\u001b[0m\u001b[1;34m\"n should be an integer\"\u001b[0m\u001b[1;33m)\u001b[0m\u001b[1;33m\u001b[0m\u001b[0m\n\u001b[1;32m--> 168\u001b[1;33m     \u001b[0mval\u001b[0m \u001b[1;33m=\u001b[0m \u001b[1;36m1.0\u001b[0m \u001b[1;33m/\u001b[0m \u001b[1;33m(\u001b[0m\u001b[0mn\u001b[0m \u001b[1;33m*\u001b[0m \u001b[0md\u001b[0m\u001b[1;33m)\u001b[0m\u001b[1;33m\u001b[0m\u001b[0m\n\u001b[0m\u001b[0;32m    169\u001b[0m     \u001b[0mresults\u001b[0m \u001b[1;33m=\u001b[0m \u001b[0mempty\u001b[0m\u001b[1;33m(\u001b[0m\u001b[0mn\u001b[0m\u001b[1;33m,\u001b[0m \u001b[0mint\u001b[0m\u001b[1;33m)\u001b[0m\u001b[1;33m\u001b[0m\u001b[0m\n\u001b[0;32m    170\u001b[0m     \u001b[0mN\u001b[0m \u001b[1;33m=\u001b[0m \u001b[1;33m(\u001b[0m\u001b[0mn\u001b[0m\u001b[1;33m-\u001b[0m\u001b[1;36m1\u001b[0m\u001b[1;33m)\u001b[0m\u001b[1;33m//\u001b[0m\u001b[1;36m2\u001b[0m \u001b[1;33m+\u001b[0m \u001b[1;36m1\u001b[0m\u001b[1;33m\u001b[0m\u001b[0m\n",
      "\u001b[1;31mTypeError\u001b[0m: unsupported operand type(s) for /: 'float' and 'str'"
     ]
    }
   ],
   "source": [
    "# Example 3 - breaking (to illustrate when it breaks)\n",
    "\n",
    "y = np.array([2, 4, 5, -1, -5, 8, 9, 15, -4, -5], dtype=float)\n",
    "y_ftt = np.fft.fft(y)\n",
    "n = y.size\n",
    "timestep = 'a'\n",
    "freq = np.fft.fftfreq(n, d=timestep)\n",
    "freq"
   ]
  },
  {
   "cell_type": "markdown",
   "metadata": {},
   "source": [
    "The function only acept a scalar as a 'd' input parameter."
   ]
  },
  {
   "cell_type": "markdown",
   "metadata": {},
   "source": [
    "Some closing comments about when to use this function."
   ]
  },
  {
   "cell_type": "code",
   "execution_count": 244,
   "metadata": {
    "tags": []
   },
   "outputs": [
    {
     "output_type": "display_data",
     "data": {
      "text/plain": "<IPython.core.display.Javascript object>",
      "application/javascript": "window.require && require([\"base/js/namespace\"],function(Jupyter){Jupyter.notebook.save_checkpoint()})"
     },
     "metadata": {}
    },
    {
     "output_type": "stream",
     "name": "stdout",
     "text": "[jovian] Attempting to save notebook..\n[jovian] Updating notebook \"leosf/week3-as2-numpy-array-operations\" on https://jovian.ml/\n[jovian] Uploading notebook..\n[jovian] Capturing environment..\n[jovian] Committed successfully! https://jovian.ml/leosf/week3-as2-numpy-array-operations\n"
    },
    {
     "output_type": "execute_result",
     "data": {
      "text/plain": "'https://jovian.ml/leosf/week3-as2-numpy-array-operations'"
     },
     "metadata": {},
     "execution_count": 244
    }
   ],
   "source": [
    "jovian.commit(user='leosf', filename='numpy-array-operations.ipynb', project='week3_as2_numpy-array-operations')"
   ]
  },
  {
   "cell_type": "markdown",
   "metadata": {},
   "source": [
    "## Function 5 - numpy.fft.fftshift\n",
    "\n",
    "Shift the zero-frequency component to the center of the spectrum.\n",
    "\n",
    "This function swaps half-spaces for all axes listed (defaults to all). Note that y[0] is the Nyquist component only if len(x) is even."
   ]
  },
  {
   "cell_type": "code",
   "execution_count": 260,
   "metadata": {
    "tags": []
   },
   "outputs": [
    {
     "output_type": "stream",
     "name": "stdout",
     "text": "[ 0.  1.  2.  3.  4. -5. -4. -3. -2. -1.]\n[-5. -4. -3. -2. -1.  0.  1.  2.  3.  4.]\n"
    }
   ],
   "source": [
    "# Example 1 - working\n",
    "Fs = 10\n",
    "Ts = 1 / Fs\n",
    "\n",
    "N_samples = 10\n",
    "\n",
    "freq_vector = np.fft.fftfreq(N_samples, Ts)\n",
    "print (freq_vector)\n",
    "\n",
    "freq_vector_centered = np.fft.fftshift(freq_vector)\n",
    "print(freq_vector_centered)\n"
   ]
  },
  {
   "cell_type": "markdown",
   "metadata": {},
   "source": [
    "Explanation about example"
   ]
  },
  {
   "cell_type": "code",
   "execution_count": 268,
   "metadata": {
    "tags": []
   },
   "outputs": [
    {
     "output_type": "stream",
     "name": "stdout",
     "text": "[[ 0.  1.  2.  3.  4. -5. -4. -3. -2. -1.]\n [ 0.  1.  2.  3.  4. -5. -4. -3. -2. -1.]\n [ 0.  1.  2.  3.  4. -5. -4. -3. -2. -1.]]\n---\n[[-5. -4. -3. -2. -1.  0.  1.  2.  3.  4.]\n [-5. -4. -3. -2. -1.  0.  1.  2.  3.  4.]\n [-5. -4. -3. -2. -1.  0.  1.  2.  3.  4.]]\n"
    }
   ],
   "source": [
    "# Example 2 - working\n",
    "Fs = 10\n",
    "Ts = 1 / Fs\n",
    "\n",
    "N_samples = 10\n",
    "\n",
    "freqs_data = np.zeros((3,10))\n",
    "\n",
    "freqs_data[0,:] = np.fft.fftfreq(N_samples, Ts)\n",
    "freqs_data[1,:] = np.fft.fftfreq(N_samples, Ts)\n",
    "freqs_data[2,:] = np.fft.fftfreq(N_samples, Ts)\n",
    "print (freqs_data)\n",
    "\n",
    "print(\"---\")\n",
    "freq_vector_centered = np.fft.fftshift(freqs_data, axes=1)\n",
    "print(freq_vector_centered)"
   ]
  },
  {
   "cell_type": "markdown",
   "metadata": {},
   "source": [
    "TODO: Explanation about example"
   ]
  },
  {
   "cell_type": "code",
   "execution_count": 271,
   "metadata": {
    "tags": []
   },
   "outputs": [
    {
     "output_type": "stream",
     "name": "stdout",
     "text": "[[ 0.  1.  2.  3.  4.]\n [-5. -4. -3. -2. -1.]]\n\n"
    },
    {
     "output_type": "error",
     "ename": "IndexError",
     "evalue": "tuple index out of range",
     "traceback": [
      "\u001b[1;31m---------------------------------------------------------------------------\u001b[0m",
      "\u001b[1;31mIndexError\u001b[0m                                Traceback (most recent call last)",
      "\u001b[1;32m<ipython-input-271-da5041b2a18b>\u001b[0m in \u001b[0;36m<module>\u001b[1;34m()\u001b[0m\n\u001b[0;32m      6\u001b[0m \u001b[1;33m\u001b[0m\u001b[0m\n\u001b[0;32m      7\u001b[0m \u001b[0mprint\u001b[0m\u001b[1;33m(\u001b[0m\u001b[1;33m)\u001b[0m\u001b[1;33m\u001b[0m\u001b[0m\n\u001b[1;32m----> 8\u001b[1;33m \u001b[0mfreq_vector_centered\u001b[0m \u001b[1;33m=\u001b[0m \u001b[0mnp\u001b[0m\u001b[1;33m.\u001b[0m\u001b[0mfft\u001b[0m\u001b[1;33m.\u001b[0m\u001b[0mfftshift\u001b[0m\u001b[1;33m(\u001b[0m\u001b[0mfreq_vector\u001b[0m\u001b[1;33m,\u001b[0m \u001b[0mfrec_vector\u001b[0m\u001b[1;33m)\u001b[0m\u001b[1;33m\u001b[0m\u001b[0m\n\u001b[0m\u001b[0;32m      9\u001b[0m \u001b[0mprint\u001b[0m\u001b[1;33m(\u001b[0m\u001b[0mfreq_vector_centered\u001b[0m\u001b[1;33m)\u001b[0m\u001b[1;33m\u001b[0m\u001b[0m\n",
      "\u001b[1;32mC:\\Programas\\Microsoft Visual Studio\\Shared\\Anaconda3_64\\lib\\site-packages\\numpy\\fft\\helper.py\u001b[0m in \u001b[0;36mfftshift\u001b[1;34m(x, axes)\u001b[0m\n\u001b[0;32m     72\u001b[0m     \u001b[0my\u001b[0m \u001b[1;33m=\u001b[0m \u001b[0mtmp\u001b[0m\u001b[1;33m\u001b[0m\u001b[0m\n\u001b[0;32m     73\u001b[0m     \u001b[1;32mfor\u001b[0m \u001b[0mk\u001b[0m \u001b[1;32min\u001b[0m \u001b[0maxes\u001b[0m\u001b[1;33m:\u001b[0m\u001b[1;33m\u001b[0m\u001b[0m\n\u001b[1;32m---> 74\u001b[1;33m         \u001b[0mn\u001b[0m \u001b[1;33m=\u001b[0m \u001b[0mtmp\u001b[0m\u001b[1;33m.\u001b[0m\u001b[0mshape\u001b[0m\u001b[1;33m[\u001b[0m\u001b[0mk\u001b[0m\u001b[1;33m]\u001b[0m\u001b[1;33m\u001b[0m\u001b[0m\n\u001b[0m\u001b[0;32m     75\u001b[0m         \u001b[0mp2\u001b[0m \u001b[1;33m=\u001b[0m \u001b[1;33m(\u001b[0m\u001b[0mn\u001b[0m\u001b[1;33m+\u001b[0m\u001b[1;36m1\u001b[0m\u001b[1;33m)\u001b[0m\u001b[1;33m//\u001b[0m\u001b[1;36m2\u001b[0m\u001b[1;33m\u001b[0m\u001b[0m\n\u001b[0;32m     76\u001b[0m         \u001b[0mmylist\u001b[0m \u001b[1;33m=\u001b[0m \u001b[0mconcatenate\u001b[0m\u001b[1;33m(\u001b[0m\u001b[1;33m(\u001b[0m\u001b[0marange\u001b[0m\u001b[1;33m(\u001b[0m\u001b[0mp2\u001b[0m\u001b[1;33m,\u001b[0m \u001b[0mn\u001b[0m\u001b[1;33m)\u001b[0m\u001b[1;33m,\u001b[0m \u001b[0marange\u001b[0m\u001b[1;33m(\u001b[0m\u001b[0mp2\u001b[0m\u001b[1;33m)\u001b[0m\u001b[1;33m)\u001b[0m\u001b[1;33m)\u001b[0m\u001b[1;33m\u001b[0m\u001b[0m\n",
      "\u001b[1;31mIndexError\u001b[0m: tuple index out of range"
     ]
    }
   ],
   "source": [
    "# Example 3 - breaking (to illustrate when it breaks)\n",
    "\n",
    "\n",
    "freq_vector = np.fft.fftfreq(10, 0.1).reshape(2,5)\n",
    "print (freq_vector)\n",
    "\n",
    "print()\n",
    "freq_vector_centered = np.fft.fftshift(freq_vector, frec_vector)\n",
    "print(freq_vector_centered)"
   ]
  },
  {
   "cell_type": "markdown",
   "metadata": {},
   "source": [
    "The function only admit one input array-like as the argument"
   ]
  },
  {
   "cell_type": "markdown",
   "metadata": {},
   "source": []
  },
  {
   "cell_type": "code",
   "execution_count": 273,
   "metadata": {
    "tags": []
   },
   "outputs": [
    {
     "output_type": "display_data",
     "data": {
      "text/plain": "<IPython.core.display.Javascript object>",
      "application/javascript": "window.require && require([\"base/js/namespace\"],function(Jupyter){Jupyter.notebook.save_checkpoint()})"
     },
     "metadata": {}
    },
    {
     "output_type": "stream",
     "name": "stdout",
     "text": "[jovian] Attempting to save notebook..\n[jovian] Updating notebook \"leosf/week3-as2-numpy-array-operations\" on https://jovian.ml/\n[jovian] Uploading notebook..\n[jovian] Capturing environment..\n[jovian] Committed successfully! https://jovian.ml/leosf/week3-as2-numpy-array-operations\n"
    },
    {
     "output_type": "execute_result",
     "data": {
      "text/plain": "'https://jovian.ml/leosf/week3-as2-numpy-array-operations'"
     },
     "metadata": {},
     "execution_count": 273
    }
   ],
   "source": [
    "jovian.commit(user='leosf', filename='numpy-array-operations.ipynb', project='week3_as2_numpy-array-operations')"
   ]
  },
  {
   "cell_type": "markdown",
   "metadata": {},
   "source": [
    "## Conclusion\n",
    "\n",
    "TODO: Summarize what was covered in this notebook, and where to go next"
   ]
  },
  {
   "cell_type": "markdown",
   "metadata": {},
   "source": [
    "## Other functions to check:\n",
    "\n",
    "NumPy internals  \n",
    "https://numpy.org/doc/stable/reference/internals.html\n",
    "\n",
    "Mathematical functions  \n",
    "https://numpy.org/doc/stable/reference/routines.math.html#floating-point-routines\n",
    "\n",
    "Optionally Scipy-accelerated routines (numpy.dual)  \n",
    "https://numpy.org/doc/stable/reference/routines.dual.html\n",
    "\n",
    "Discrete Fourier Transform (numpy.fft)  \n",
    "https://numpy.org/doc/stable/reference/routines.fft.html\n",
    "\n",
    "NumPy C-API  \n",
    "https://numpy.org/doc/stable/reference/c-api/index.html\n",
    "\n",
    "Using NumPy C-API  \n",
    "https://numpy.org/doc/stable/user/c-info.html\n",
    "\n",
    "Statistics  \n",
    "https://numpy.org/doc/stable/reference/routines.statistics.html\n",
    "\n",
    "Floating point routines  \n",
    "https://numpy.org/doc/stable/reference/routines.math.html#floating-point-routines\n",
    "\n"
   ]
  }
 ],
 "metadata": {
  "kernelspec": {
   "display_name": "Python 3",
   "language": "python",
   "name": "python3"
  },
  "language_info": {
   "codemirror_mode": {
    "name": "ipython",
    "version": 3
   },
   "file_extension": ".py",
   "mimetype": "text/x-python",
   "name": "python",
   "nbconvert_exporter": "python",
   "pygments_lexer": "ipython3",
   "version": "3.6.4-final"
  }
 },
 "nbformat": 4,
 "nbformat_minor": 4
}