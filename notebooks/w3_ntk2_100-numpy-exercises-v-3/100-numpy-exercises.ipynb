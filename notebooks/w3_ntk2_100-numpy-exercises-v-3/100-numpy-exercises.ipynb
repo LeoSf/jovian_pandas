{
 "cells": [
  {
   "cell_type": "markdown",
   "metadata": {},
   "source": [
    "# Solutions for 100 numpy exercises\n",
    "Leandro D. Medus\n",
    "github LeoSf"
   ]
  },
  {
   "cell_type": "markdown",
   "metadata": {},
   "source": [
    "# 100 numpy exercises\n",
    "\n",
    "Source: https://github.com/rougier/numpy-100\n"
   ]
  },
  {
   "cell_type": "markdown",
   "metadata": {},
   "source": [
    "#### How to run this notebook\n",
    "\n",
    "The recommended way to run this notebook is to click the \"Run\" button at the top of this page, and select \"Run on Binder\". This will run the notebook on mybinder.org, a free online service for running Jupyter notebooks.\n",
    "\n",
    "#### How to get help\n",
    "\n",
    "If you are stuck, you can ask for help on the community forum: https://jovian.ml/forum/t/100-numpy-exercises-hints-discussions-help/10561 . You can get help with errors, ask for hints, and share your solutions with others.\n",
    "\n",
    "If you're new to Numpy, check out this notebook for a quick tutorial: https://jovian.ml/aakashns/python-numerical-computing-with-numpy\n",
    "\n",
    "\n",
    "#### Saving your work\n",
    "\n",
    "Remember to save a snapshot of your work from time to time using to your Jovian.ml account."
   ]
  },
  {
   "cell_type": "code",
   "execution_count": 1,
   "metadata": {},
   "outputs": [],
   "source": [
    "!pip install jovian --upgrade --quiet"
   ]
  },
  {
   "cell_type": "code",
   "execution_count": 2,
   "metadata": {},
   "outputs": [
    {
     "output_type": "display_data",
     "data": {
      "text/plain": "<IPython.core.display.Javascript object>",
      "application/javascript": "if (window.IPython && IPython.notebook.kernel) IPython.notebook.kernel.execute('jovian.utils.jupyter.get_notebook_name_saved = lambda: \"' + IPython.notebook.notebook_name + '\"')"
     },
     "metadata": {}
    }
   ],
   "source": [
    "import jovian"
   ]
  },
  {
   "cell_type": "code",
   "execution_count": 3,
   "metadata": {
    "tags": []
   },
   "outputs": [
    {
     "output_type": "display_data",
     "data": {
      "text/plain": "<IPython.core.display.Javascript object>",
      "application/javascript": "window.require && require([\"base/js/namespace\"],function(Jupyter){Jupyter.notebook.save_checkpoint()})"
     },
     "metadata": {}
    },
    {
     "output_type": "stream",
     "name": "stdout",
     "text": "[jovian] Attempting to save notebook..\n[jovian] Creating a new project \"leosf/week3_ntk2_100-numpy-exercises\"\n[jovian] Uploading notebook..\n[jovian] Capturing environment..\n[jovian] Committed successfully! https://jovian.ml/leosf/week3-ntk2-100-numpy-exercises\n"
    },
    {
     "output_type": "execute_result",
     "data": {
      "text/plain": "'https://jovian.ml/leosf/week3-ntk2-100-numpy-exercises'"
     },
     "metadata": {},
     "execution_count": 3
    }
   ],
   "source": [
    "#jovian.commit(project='100-numpy-exercises')\n",
    "#jovian.commit(user='leosf', filename='100-numpy-exercises.ipynb', project='week3_ntk2_100-numpy-exercises')"
   ]
  },
  {
   "cell_type": "markdown",
   "metadata": {},
   "source": [
    "`jovian.commit` uploads the notebook to your Jovian.ml account, captures the Python environment and creates a shareable link for your notebook as shown above. You can use this link to share your work and let anyone (including you) run your notebooks and reproduce your work. Learn more: https://jovian.ml/docs/\n"
   ]
  },
  {
   "cell_type": "code",
   "execution_count": 2,
   "metadata": {},
   "outputs": [],
   "source": [
    "# Ucomment the next line if you need install numpy\n",
    "# !pip install numpy --upgrade"
   ]
  },
  {
   "cell_type": "markdown",
   "metadata": {},
   "source": [
    "#### 1. Import the numpy package under the name `np` (★☆☆)"
   ]
  },
  {
   "cell_type": "code",
   "execution_count": 3,
   "metadata": {},
   "outputs": [],
   "source": [
    "import numpy as np"
   ]
  },
  {
   "cell_type": "markdown",
   "metadata": {},
   "source": [
    "#### 2. Print the numpy version and the configuration (★☆☆)"
   ]
  },
  {
   "cell_type": "code",
   "execution_count": 4,
   "metadata": {
    "tags": []
   },
   "outputs": [
    {
     "output_type": "stream",
     "name": "stdout",
     "text": "numpy version: 1.14.0\n\n\n\nCurrent configuration:\n----------------------\nmkl_info:\n    libraries = ['mkl_rt']\n    library_dirs = ['C:/Programas/Microsoft Visual Studio/Shared/Anaconda3_64\\\\Library\\\\lib']\n    define_macros = [('SCIPY_MKL_H', None), ('HAVE_CBLAS', None)]\n    include_dirs = ['C:\\\\Program Files (x86)\\\\IntelSWTools\\\\compilers_and_libraries_2016.4.246\\\\windows\\\\mkl', 'C:\\\\Program Files (x86)\\\\IntelSWTools\\\\compilers_and_libraries_2016.4.246\\\\windows\\\\mkl\\\\include', 'C:\\\\Program Files (x86)\\\\IntelSWTools\\\\compilers_and_libraries_2016.4.246\\\\windows\\\\mkl\\\\lib', 'C:/Programas/Microsoft Visual Studio/Shared/Anaconda3_64\\\\Library\\\\include']\nblas_mkl_info:\n    libraries = ['mkl_rt']\n    library_dirs = ['C:/Programas/Microsoft Visual Studio/Shared/Anaconda3_64\\\\Library\\\\lib']\n    define_macros = [('SCIPY_MKL_H', None), ('HAVE_CBLAS', None)]\n    include_dirs = ['C:\\\\Program Files (x86)\\\\IntelSWTools\\\\compilers_and_libraries_2016.4.246\\\\windows\\\\mkl', 'C:\\\\Program Files (x86)\\\\IntelSWTools\\\\compilers_and_libraries_2016.4.246\\\\windows\\\\mkl\\\\include', 'C:\\\\Program Files (x86)\\\\IntelSWTools\\\\compilers_and_libraries_2016.4.246\\\\windows\\\\mkl\\\\lib', 'C:/Programas/Microsoft Visual Studio/Shared/Anaconda3_64\\\\Library\\\\include']\nblas_opt_info:\n    libraries = ['mkl_rt']\n    library_dirs = ['C:/Programas/Microsoft Visual Studio/Shared/Anaconda3_64\\\\Library\\\\lib']\n    define_macros = [('SCIPY_MKL_H', None), ('HAVE_CBLAS', None)]\n    include_dirs = ['C:\\\\Program Files (x86)\\\\IntelSWTools\\\\compilers_and_libraries_2016.4.246\\\\windows\\\\mkl', 'C:\\\\Program Files (x86)\\\\IntelSWTools\\\\compilers_and_libraries_2016.4.246\\\\windows\\\\mkl\\\\include', 'C:\\\\Program Files (x86)\\\\IntelSWTools\\\\compilers_and_libraries_2016.4.246\\\\windows\\\\mkl\\\\lib', 'C:/Programas/Microsoft Visual Studio/Shared/Anaconda3_64\\\\Library\\\\include']\nlapack_mkl_info:\n    libraries = ['mkl_rt']\n    library_dirs = ['C:/Programas/Microsoft Visual Studio/Shared/Anaconda3_64\\\\Library\\\\lib']\n    define_macros = [('SCIPY_MKL_H', None), ('HAVE_CBLAS', None)]\n    include_dirs = ['C:\\\\Program Files (x86)\\\\IntelSWTools\\\\compilers_and_libraries_2016.4.246\\\\windows\\\\mkl', 'C:\\\\Program Files (x86)\\\\IntelSWTools\\\\compilers_and_libraries_2016.4.246\\\\windows\\\\mkl\\\\include', 'C:\\\\Program Files (x86)\\\\IntelSWTools\\\\compilers_and_libraries_2016.4.246\\\\windows\\\\mkl\\\\lib', 'C:/Programas/Microsoft Visual Studio/Shared/Anaconda3_64\\\\Library\\\\include']\nlapack_opt_info:\n    libraries = ['mkl_rt']\n    library_dirs = ['C:/Programas/Microsoft Visual Studio/Shared/Anaconda3_64\\\\Library\\\\lib']\n    define_macros = [('SCIPY_MKL_H', None), ('HAVE_CBLAS', None)]\n    include_dirs = ['C:\\\\Program Files (x86)\\\\IntelSWTools\\\\compilers_and_libraries_2016.4.246\\\\windows\\\\mkl', 'C:\\\\Program Files (x86)\\\\IntelSWTools\\\\compilers_and_libraries_2016.4.246\\\\windows\\\\mkl\\\\include', 'C:\\\\Program Files (x86)\\\\IntelSWTools\\\\compilers_and_libraries_2016.4.246\\\\windows\\\\mkl\\\\lib', 'C:/Programas/Microsoft Visual Studio/Shared/Anaconda3_64\\\\Library\\\\include']\nNone\n"
    }
   ],
   "source": [
    "print(\"numpy version: \" + np.__version__ + \"\\n\\n\")\n",
    "\n",
    "print(\"\"\"\n",
    "Current configuration:\n",
    "----------------------\"\"\")\n",
    "print(np.show_config())"
   ]
  },
  {
   "cell_type": "markdown",
   "metadata": {},
   "source": [
    "#### 3. Create a null vector of size 10 (★☆☆)"
   ]
  },
  {
   "cell_type": "code",
   "execution_count": 5,
   "metadata": {
    "tags": []
   },
   "outputs": [
    {
     "output_type": "stream",
     "name": "stdout",
     "text": "10\n<class 'numpy.ndarray'>\n"
    }
   ],
   "source": [
    "vec = np.zeros(10)\n",
    "print(len(vec))\n",
    "print(type(vec))"
   ]
  },
  {
   "cell_type": "markdown",
   "metadata": {},
   "source": [
    "#### 4. How to find the memory size of any array (★☆☆)"
   ]
  },
  {
   "cell_type": "code",
   "execution_count": 6,
   "metadata": {
    "tags": []
   },
   "outputs": [
    {
     "output_type": "stream",
     "name": "stdout",
     "text": "10\n8\nTotal size of the container: 80 bytes\n"
    }
   ],
   "source": [
    "print(np.size(vec))\n",
    "print((vec.itemsize))\n",
    "\n",
    "print(\"Total size of the container: {} bytes\".format(np.size(vec) * vec.itemsize))"
   ]
  },
  {
   "cell_type": "markdown",
   "metadata": {},
   "source": [
    "#### 5. How to get the documentation of the numpy add function from the command line? (★☆☆)"
   ]
  },
  {
   "cell_type": "code",
   "execution_count": 7,
   "metadata": {},
   "outputs": [
    {
     "output_type": "execute_result",
     "data": {
      "text/plain": "0"
     },
     "metadata": {},
     "execution_count": 7
    }
   ],
   "source": [
    "# from terminal \n",
    "# python -c \"import numpy as np; np.info(np.size)\"\n",
    "\n",
    "import os\n",
    "os.system('python -c \"import numpy as np; np.info(np.size)\"')"
   ]
  },
  {
   "cell_type": "markdown",
   "metadata": {},
   "source": [
    "the bad thing here is that we only get the return value of the function excecuted"
   ]
  },
  {
   "cell_type": "markdown",
   "metadata": {},
   "source": [
    "#### 6. Create a null vector of size 10 but the fifth value which is 1 (★☆☆)"
   ]
  },
  {
   "cell_type": "code",
   "execution_count": 8,
   "metadata": {
    "tags": []
   },
   "outputs": [
    {
     "output_type": "stream",
     "name": "stdout",
     "text": "[0. 0. 0. 0. 1. 0. 0. 0. 0. 0.]\n"
    }
   ],
   "source": [
    "vec = np.zeros(10)\n",
    "vec[4] = 1\n",
    "print(vec)"
   ]
  },
  {
   "cell_type": "markdown",
   "metadata": {},
   "source": [
    "#### 7. Create a vector with values ranging from 10 to 49 (★☆☆)"
   ]
  },
  {
   "cell_type": "code",
   "execution_count": 9,
   "metadata": {
    "tags": []
   },
   "outputs": [
    {
     "output_type": "stream",
     "name": "stdout",
     "text": "[10 11 12 13 14 15 16 17 18 19 20 21 22 23 24 25 26 27 28 29 30 31 32 33\n 34 35 36 37 38 39 40 41 42 43 44 45 46 47 48 49]\n"
    }
   ],
   "source": [
    "# from 10 to 49 included\n",
    "vec = np.arange(10, 50)\n",
    "print(vec)"
   ]
  },
  {
   "cell_type": "markdown",
   "metadata": {},
   "source": [
    "#### 8. Reverse a vector (first element becomes last) (★☆☆)"
   ]
  },
  {
   "cell_type": "code",
   "execution_count": 10,
   "metadata": {},
   "outputs": [
    {
     "output_type": "execute_result",
     "data": {
      "text/plain": "array([49, 48, 47, 46, 45, 44, 43, 42, 41, 40, 39, 38, 37, 36, 35, 34, 33,\n       32, 31, 30, 29, 28, 27, 26, 25, 24, 23, 22, 21, 20, 19, 18, 17, 16,\n       15, 14, 13, 12, 11, 10])"
     },
     "metadata": {},
     "execution_count": 10
    }
   ],
   "source": [
    "vec[::-1]"
   ]
  },
  {
   "cell_type": "code",
   "execution_count": 11,
   "metadata": {},
   "outputs": [
    {
     "output_type": "execute_result",
     "data": {
      "text/plain": "array([15, 14, 13, 12])"
     },
     "metadata": {},
     "execution_count": 11
    }
   ],
   "source": [
    "vec[5:1:-1]"
   ]
  },
  {
   "cell_type": "code",
   "execution_count": 12,
   "metadata": {},
   "outputs": [
    {
     "output_type": "execute_result",
     "data": {
      "text/plain": "array([11, 13, 15, 17, 19])"
     },
     "metadata": {},
     "execution_count": 12
    }
   ],
   "source": [
    "vec[1:10:2]"
   ]
  },
  {
   "cell_type": "markdown",
   "metadata": {},
   "source": [
    "#### 9. Create a 3x3 matrix with values ranging from 0 to 8 (★☆☆)"
   ]
  },
  {
   "cell_type": "code",
   "execution_count": 13,
   "metadata": {
    "tags": []
   },
   "outputs": [
    {
     "output_type": "stream",
     "name": "stdout",
     "text": "[[0 1 2]\n [3 4 5]\n [6 7 8]]\n"
    }
   ],
   "source": [
    "mat = np.arange(0,9).reshape(3,3)\n",
    "print(mat)"
   ]
  },
  {
   "cell_type": "markdown",
   "metadata": {},
   "source": [
    "#### 10. Find indices of non-zero elements from [1,2,0,0,4,0] (★☆☆)"
   ]
  },
  {
   "cell_type": "code",
   "execution_count": 14,
   "metadata": {
    "tags": []
   },
   "outputs": [
    {
     "output_type": "stream",
     "name": "stdout",
     "text": "[1 2 0 0 4 0]\nNon-zero elements - indeces: (array([0, 1, 4], dtype=int64),)\n    Zero elements - indeces: (array([2, 3, 5], dtype=int64),)\n"
    }
   ],
   "source": [
    "vec = np.array([1,2,0,0,4,0])\n",
    "print(vec)\n",
    "\n",
    "print(\"Non-zero elements - indeces: \" + str(vec.nonzero()))\n",
    "print(\"    Zero elements - indeces: \" + str(np.where(vec == 0)))"
   ]
  },
  {
   "cell_type": "markdown",
   "metadata": {},
   "source": [
    "Save your progress by commiting your work to Jovian"
   ]
  },
  {
   "cell_type": "code",
   "execution_count": 73,
   "metadata": {},
   "outputs": [],
   "source": [
    "import jovian"
   ]
  },
  {
   "cell_type": "code",
   "execution_count": 74,
   "metadata": {
    "tags": []
   },
   "outputs": [
    {
     "output_type": "display_data",
     "data": {
      "text/plain": "<IPython.core.display.Javascript object>",
      "application/javascript": "window.require && require([\"base/js/namespace\"],function(Jupyter){Jupyter.notebook.save_checkpoint()})"
     },
     "metadata": {}
    },
    {
     "output_type": "stream",
     "name": "stdout",
     "text": "[jovian] Attempting to save notebook..\n[jovian] Updating notebook \"leosf/week3-ntk2-100-numpy-exercises\" on https://jovian.ml/\n[jovian] Uploading notebook..\n[jovian] Capturing environment..\n[jovian] Committed successfully! https://jovian.ml/leosf/week3-ntk2-100-numpy-exercises\n"
    },
    {
     "output_type": "execute_result",
     "data": {
      "text/plain": "'https://jovian.ml/leosf/week3-ntk2-100-numpy-exercises'"
     },
     "metadata": {},
     "execution_count": 74
    }
   ],
   "source": [
    "#jovian.commit(project='numpy-100-exercises')\n",
    "#jovian.commit(user='leosf', filename='100-numpy-exercises.ipynb', project='week3_ntk2_100-numpy-exercises')"
   ]
  },
  {
   "cell_type": "markdown",
   "metadata": {},
   "source": [
    "#### 11. Create a 3x3 identity matrix (★☆☆)"
   ]
  },
  {
   "cell_type": "code",
   "execution_count": 15,
   "metadata": {},
   "outputs": [
    {
     "output_type": "execute_result",
     "data": {
      "text/plain": "array([[1., 0., 0.],\n       [0., 1., 0.],\n       [0., 0., 1.]])"
     },
     "metadata": {},
     "execution_count": 15
    }
   ],
   "source": [
    "np.eye(3,3)"
   ]
  },
  {
   "cell_type": "markdown",
   "metadata": {},
   "source": [
    "#### 12. Create a 3x3x3 array with random values (★☆☆)"
   ]
  },
  {
   "cell_type": "code",
   "execution_count": 16,
   "metadata": {},
   "outputs": [
    {
     "output_type": "execute_result",
     "data": {
      "text/plain": "array([[0.30474534, 0.79680043, 0.4507141 ],\n       [0.77858637, 0.39579172, 0.79282477],\n       [0.23038161, 0.65060631, 0.67819165]])"
     },
     "metadata": {},
     "execution_count": 16
    }
   ],
   "source": [
    "np.random.rand(3,3)"
   ]
  },
  {
   "cell_type": "markdown",
   "metadata": {},
   "source": [
    "#### 13. Create a 10x10 array with random values and find the minimum and maximum values (★☆☆)"
   ]
  },
  {
   "cell_type": "code",
   "execution_count": 17,
   "metadata": {
    "tags": []
   },
   "outputs": [
    {
     "output_type": "stream",
     "name": "stdout",
     "text": "[[-0.30144722 -0.90544928 -0.58111014  0.29070176  1.79295872 -0.42831155\n  -1.49393664 -0.18451038  0.36128442 -0.23415361]\n [ 2.78112367 -0.3054343   0.42203596  1.28183339  0.98721713 -0.91556558\n  -0.72664699 -0.90514011  1.21270869  0.94297424]\n [ 1.47095166 -0.76649949  1.55194668 -0.25899909  0.67479082 -0.27243267\n   0.5844576  -0.29676863  0.65498942 -1.27430283]\n [ 0.22257354 -1.3497808  -1.8816614   0.92848224  1.29990143  0.27104543\n   0.23966349 -0.07243425  0.14932817  0.06221398]\n [-0.56648013  0.49835522 -0.40075605 -0.55623177 -1.65252238  0.3685525\n   1.24826682 -0.92587679  1.48845041  0.92995642]\n [-0.86232633  0.8453872   0.65776673 -0.75092363 -1.1205374  -1.2518173\n   0.12605267  0.0063353  -0.53624907  0.85904184]\n [-1.11240377 -0.09175666 -1.94272646 -0.41686548  1.01047585 -1.2252658\n  -0.69225156 -1.25205458 -0.67573108  1.1820192 ]\n [-1.5942987  -1.42081675 -0.36658592  0.4608317  -0.97003442 -0.09017658\n   0.41002603 -1.43968852  0.07070815  0.33909859]\n [ 0.1766757  -0.19659625  0.45975483  0.8400142   0.5575315  -0.2965436\n   1.01633972 -0.88027727 -0.20909157 -1.01733544]\n [ 0.80080293  0.38374673  0.18299646  0.05538281  0.46554742 -1.03138722\n  -0.95059681  0.77646155  0.40374204  1.31525854]]\n"
    },
    {
     "output_type": "execute_result",
     "data": {
      "text/plain": "2.7811236683595553"
     },
     "metadata": {},
     "execution_count": 17
    }
   ],
   "source": [
    "mat = np.random.randn(10,10)\n",
    "\n",
    "print(mat)\n",
    "np.max(mat)"
   ]
  },
  {
   "cell_type": "markdown",
   "metadata": {},
   "source": [
    "#### 14. Create a random vector of size 30 and find the mean value (★☆☆)"
   ]
  },
  {
   "cell_type": "code",
   "execution_count": 18,
   "metadata": {},
   "outputs": [
    {
     "output_type": "execute_result",
     "data": {
      "text/plain": "-0.2881581657056644"
     },
     "metadata": {},
     "execution_count": 18
    }
   ],
   "source": [
    "vec = np.random.randn(30)\n",
    "np.mean(vec)"
   ]
  },
  {
   "cell_type": "markdown",
   "metadata": {},
   "source": [
    "#### 15. Create a 2d array with 1 on the border and 0 inside (★☆☆)"
   ]
  },
  {
   "cell_type": "code",
   "execution_count": 19,
   "metadata": {},
   "outputs": [
    {
     "output_type": "execute_result",
     "data": {
      "text/plain": "array([[1., 1., 1., 1., 1.],\n       [1., 0., 0., 0., 1.],\n       [1., 0., 0., 0., 1.],\n       [1., 0., 0., 0., 1.],\n       [1., 1., 1., 1., 1.]])"
     },
     "metadata": {},
     "execution_count": 19
    }
   ],
   "source": [
    "import numpy as np\n",
    "mat = np.ones([5,5])\n",
    "mat[1:-1, 1:-1] = 0\n",
    "\n",
    "#mat[1:-1, 1:-1] = np.zeros([3,3])\n",
    "mat"
   ]
  },
  {
   "cell_type": "markdown",
   "metadata": {},
   "source": [
    "#### 16. How to add a border (filled with 0's) around an existing array? (★☆☆)"
   ]
  },
  {
   "cell_type": "code",
   "execution_count": 20,
   "metadata": {},
   "outputs": [
    {
     "output_type": "execute_result",
     "data": {
      "text/plain": "array([[0., 0., 0., 0., 0., 0., 0.],\n       [0., 1., 1., 1., 1., 1., 0.],\n       [0., 1., 0., 0., 0., 1., 0.],\n       [0., 1., 0., 0., 0., 1., 0.],\n       [0., 1., 0., 0., 0., 1., 0.],\n       [0., 1., 1., 1., 1., 1., 0.],\n       [0., 0., 0., 0., 0., 0., 0.]])"
     },
     "metadata": {},
     "execution_count": 20
    }
   ],
   "source": [
    "# np.concatenate  --> to complex but still valid\n",
    "\n",
    "np.pad(mat,pad_width=1, mode='constant', constant_values=0)"
   ]
  },
  {
   "cell_type": "markdown",
   "metadata": {},
   "source": [
    "#### 17. What is the result of the following expression? (★☆☆)\n",
    "```python\n",
    "0 * np.nan\n",
    "np.nan == np.nan\n",
    "np.inf > np.nan\n",
    "np.nan - np.nan\n",
    "np.nan in set([np.nan])\n",
    "0.3 == 3 * 0.1\n",
    "```"
   ]
  },
  {
   "cell_type": "code",
   "execution_count": 21,
   "metadata": {
    "tags": []
   },
   "outputs": [
    {
     "output_type": "stream",
     "name": "stdout",
     "text": "nan\nFalse\nFalse\nnan\nTrue\nFalse\n<class 'float'>\n<class 'float'>\n"
    }
   ],
   "source": [
    "print( 0 * np.nan                 )\n",
    "print( np.nan == np.nan           )\n",
    "print( np.inf > np.nan            )\n",
    "print( np.nan - np.nan            )\n",
    "print( np.nan in set([np.nan])    )   \n",
    "print( 0.3 == 3 * 0.1             )    # flase, problem in comparison with floats due to rounding\n",
    "\n",
    "print( type(0.3)         )\n",
    "print( type(3 * 0.1)     )"
   ]
  },
  {
   "cell_type": "markdown",
   "metadata": {},
   "source": [
    "#### 18. Create a 5x5 matrix with values 1,2,3,4 just below the diagonal (★☆☆)"
   ]
  },
  {
   "cell_type": "code",
   "execution_count": 27,
   "metadata": {
    "tags": []
   },
   "outputs": [
    {
     "output_type": "stream",
     "name": "stdout",
     "text": "[[0. 0. 0. 0. 0.]\n [1. 0. 0. 0. 0.]\n [0. 2. 0. 0. 0.]\n [0. 0. 3. 0. 0.]\n [0. 0. 0. 4. 0.]]\n"
    }
   ],
   "source": [
    "mat = np.zeros([5,5])\n",
    "\n",
    "for i in range(4):\n",
    "    mat[i+1,i] = i+1\n",
    "\n",
    "print(mat)\n"
   ]
  },
  {
   "cell_type": "code",
   "execution_count": 36,
   "metadata": {
    "tags": []
   },
   "outputs": [
    {
     "output_type": "stream",
     "name": "stdout",
     "text": "[[0 0 0 0 0]\n [0 0 0 0 0]\n [0 1 0 0 0]\n [0 0 2 0 0]\n [0 0 0 3 0]]\n"
    }
   ],
   "source": [
    "# the pro way: (this build a matrix with  a specific diagonal)\n",
    "\n",
    "mat = np.diag(1+np.arange(4),k=-1)\n",
    "print(mat)"
   ]
  },
  {
   "cell_type": "code",
   "execution_count": 42,
   "metadata": {
    "tags": []
   },
   "outputs": [
    {
     "output_type": "stream",
     "name": "stdout",
     "text": "Matrix: x\n[[0 1 2]\n [3 4 5]\n [6 7 8]]\nPrinting element from x's diagonal\n[0 4 8]\nPrinting element from x's diagonal + 1\n[1 5]\nPrinting element from x's diagonal - 1\n[3 7]\n"
    }
   ],
   "source": [
    "x = np.arange(9).reshape(3,3)\n",
    "print(\"Matrix: x\")\n",
    "print(x)\n",
    "\n",
    "mat = np.diag(x)\n",
    "print(\"Printing element from x's diagonal\")\n",
    "print(mat)\n",
    "\n",
    "mat = np.diag(x, k=1)\n",
    "print(\"Printing element from x's diagonal + 1\")\n",
    "print(mat)\n",
    "\n",
    "mat = np.diag(x, k=-1)\n",
    "print(\"Printing element from x's diagonal - 1\")\n",
    "print(mat)"
   ]
  },
  {
   "cell_type": "markdown",
   "metadata": {},
   "source": [
    "#### 19. Create a 8x8 matrix and fill it with a checkerboard pattern (★☆☆)"
   ]
  },
  {
   "cell_type": "code",
   "execution_count": 57,
   "metadata": {
    "tags": []
   },
   "outputs": [
    {
     "output_type": "stream",
     "name": "stdout",
     "text": "[[0 1 0 1 0 1 0 1]\n [1 0 1 0 1 0 1 0]\n [0 1 0 1 0 1 0 1]\n [1 0 1 0 1 0 1 0]\n [0 1 0 1 0 1 0 1]\n [1 0 1 0 1 0 1 0]\n [0 1 0 1 0 1 0 1]\n [1 0 1 0 1 0 1 0]]\n"
    }
   ],
   "source": [
    "# chessboard style \n",
    "\n",
    "mat = np.zeros((8,8), dtype=int)\n",
    "mat[1::2,::2] = 1\n",
    "mat[::2,1::2] = 1\n",
    "\n",
    "print(mat)"
   ]
  },
  {
   "cell_type": "markdown",
   "metadata": {},
   "source": [
    "#### 20. Consider a (6,7,8) shape array, what is the index (x,y,z) of the 100th element?"
   ]
  },
  {
   "cell_type": "code",
   "execution_count": 66,
   "metadata": {
    "tags": []
   },
   "outputs": [
    {
     "output_type": "stream",
     "name": "stdout",
     "text": "mat[0,0,0]: 0\nmat[0,1,0]: 8\nmat[0,2,0]: 16\n\n1 5 3\n99\n"
    }
   ],
   "source": [
    "mat = np.arange(6*7*8).reshape(6,7,8)\n",
    "\n",
    "nx = 6\n",
    "ny = 7 \n",
    "nz = 8\n",
    "\n",
    "print(\"mat[0,0,0]: {}\".format(mat[0,0,0]))\n",
    "print(\"mat[0,1,0]: {}\".format(mat[0,1,0]))\n",
    "print(\"mat[0,2,0]: {}\".format(mat[0,2,0]))\n",
    "print()\n",
    "\n",
    "n = 100-1\n",
    "z = n % nz\n",
    "\n",
    "x = int(np.floor(n / (ny * nz)))\n",
    "y = int(np.floor((n % (ny * nz)) / nz))\n",
    "\n",
    "print (x, y , z)\n",
    "print (mat[x,y,z])"
   ]
  },
  {
   "cell_type": "code",
   "execution_count": 65,
   "metadata": {
    "tags": []
   },
   "outputs": [
    {
     "output_type": "stream",
     "name": "stdout",
     "text": "(1, 5, 3)\n"
    }
   ],
   "source": [
    "# the pro way\n",
    "\n",
    "z = np.unravel_index(99, (6,7,8))\n",
    "print(z)"
   ]
  },
  {
   "cell_type": "markdown",
   "metadata": {},
   "source": [
    "Save your progress by commiting your work to Jovian"
   ]
  },
  {
   "cell_type": "code",
   "execution_count": 67,
   "metadata": {},
   "outputs": [
    {
     "output_type": "display_data",
     "data": {
      "text/plain": "<IPython.core.display.Javascript object>",
      "application/javascript": "if (window.IPython && IPython.notebook.kernel) IPython.notebook.kernel.execute('jovian.utils.jupyter.get_notebook_name_saved = lambda: \"' + IPython.notebook.notebook_name + '\"')"
     },
     "metadata": {}
    }
   ],
   "source": [
    "import jovian"
   ]
  },
  {
   "cell_type": "code",
   "execution_count": 68,
   "metadata": {
    "tags": []
   },
   "outputs": [
    {
     "output_type": "display_data",
     "data": {
      "text/plain": "<IPython.core.display.Javascript object>",
      "application/javascript": "window.require && require([\"base/js/namespace\"],function(Jupyter){Jupyter.notebook.save_checkpoint()})"
     },
     "metadata": {}
    },
    {
     "output_type": "stream",
     "name": "stdout",
     "text": "[jovian] Attempting to save notebook..\n[jovian] Updating notebook \"leosf/week3-ntk2-100-numpy-exercises\" on https://jovian.ml/\n[jovian] Uploading notebook..\n[jovian] Capturing environment..\n[jovian] Committed successfully! https://jovian.ml/leosf/week3-ntk2-100-numpy-exercises\n"
    },
    {
     "output_type": "execute_result",
     "data": {
      "text/plain": "'https://jovian.ml/leosf/week3-ntk2-100-numpy-exercises'"
     },
     "metadata": {},
     "execution_count": 68
    }
   ],
   "source": [
    "#jovian.commit(user='leosf', filename='100-numpy-exercises.ipynb', project='week3_ntk2_100-numpy-exercises')"
   ]
  },
  {
   "cell_type": "markdown",
   "metadata": {},
   "source": [
    "#### 21. Create a checkerboard 8x8 matrix using the tile function (★☆☆)"
   ]
  },
  {
   "cell_type": "code",
   "execution_count": 74,
   "metadata": {},
   "outputs": [
    {
     "output_type": "execute_result",
     "data": {
      "text/plain": "array([[0, 1, 0, 1, 0, 1, 0, 1],\n       [1, 0, 1, 0, 1, 0, 1, 0],\n       [0, 1, 0, 1, 0, 1, 0, 1],\n       [1, 0, 1, 0, 1, 0, 1, 0],\n       [0, 1, 0, 1, 0, 1, 0, 1],\n       [1, 0, 1, 0, 1, 0, 1, 0],\n       [0, 1, 0, 1, 0, 1, 0, 1],\n       [1, 0, 1, 0, 1, 0, 1, 0]])"
     },
     "metadata": {},
     "execution_count": 74
    }
   ],
   "source": [
    "x = np.array([[0,1],[1,0]])\n",
    "np.tile(x,(4,4))"
   ]
  },
  {
   "cell_type": "markdown",
   "metadata": {},
   "source": [
    "#### 22. Normalize a 5x5 random matrix (★☆☆)"
   ]
  },
  {
   "cell_type": "code",
   "execution_count": 81,
   "metadata": {
    "tags": []
   },
   "outputs": [
    {
     "output_type": "stream",
     "name": "stdout",
     "text": "-0.052122356278250945\n0.9004901761568984\nClose because it's just a few elements\n-0.000335691301142513\n1.001069266797396\nnow we are talking\n"
    }
   ],
   "source": [
    "mat = np.random.randn(5,5)\n",
    "\n",
    "print(np.mean(mat))\n",
    "print(np.std(mat))\n",
    "print(\"Close because it's just a few elements\")\n",
    "\n",
    "\n",
    "mat = np.random.randn(500,500)\n",
    "\n",
    "print(np.mean(mat))\n",
    "print(np.std(mat))\n",
    "print(\"now we are talking\")"
   ]
  },
  {
   "cell_type": "code",
   "execution_count": 82,
   "metadata": {
    "tags": []
   },
   "outputs": [
    {
     "output_type": "stream",
     "name": "stdout",
     "text": "0.5006880189086779\n0.28897704097777177\n\n-1.5003820408310275e-16\n1.0000000000000002\n"
    }
   ],
   "source": [
    "# normalizing a random matrix\n",
    "\n",
    "mat = np.random.rand(500,500)\n",
    "\n",
    "print(np.mean(mat))\n",
    "print(np.std(mat))\n",
    "print()\n",
    "\n",
    "\n",
    "mat = ( mat-np.mean(mat) )/ np.std(mat)\n",
    "print(np.mean(mat))\n",
    "print(np.std(mat))"
   ]
  },
  {
   "cell_type": "markdown",
   "metadata": {},
   "source": [
    "#### 23. Create a custom dtype that describes a color as four unsigned bytes (RGBA) (★☆☆)"
   ]
  },
  {
   "cell_type": "code",
   "execution_count": 100,
   "metadata": {
    "tags": []
   },
   "outputs": [
    {
     "output_type": "execute_result",
     "data": {
      "text/plain": "dtype([('r', 'u1'), ('g', 'u1'), ('b', 'u1'), ('a', 'u1')])"
     },
     "metadata": {},
     "execution_count": 100
    }
   ],
   "source": [
    "color = np.dtype([(\"r\", np.ubyte, 1 ),\n",
    "                  (\"g\", np.ubyte, 1),\n",
    "                  (\"b\", np.ubyte, 1),\n",
    "                  (\"a\", np.ubyte, 1)])\n",
    "color\n",
    "\n",
    "# TODO: pending analysis"
   ]
  },
  {
   "cell_type": "markdown",
   "metadata": {},
   "source": [
    "#### 24. Multiply a 5x3 matrix by a 3x2 matrix (real matrix product) (★☆☆)"
   ]
  },
  {
   "cell_type": "code",
   "execution_count": 102,
   "metadata": {},
   "outputs": [
    {
     "output_type": "execute_result",
     "data": {
      "text/plain": "array([[ True,  True],\n       [ True,  True],\n       [ True,  True],\n       [ True,  True],\n       [ True,  True]])"
     },
     "metadata": {},
     "execution_count": 102
    }
   ],
   "source": [
    "mat_1 = np.random.randn(5,3)\n",
    "mat_2 = np.random.randn(3,2)\n",
    "\n",
    "result_1 = mat_1 @ mat_2\n",
    "result_2 = np.matmul(mat_1, mat_2)\n",
    "\n",
    "result_1 == result_2"
   ]
  },
  {
   "cell_type": "markdown",
   "metadata": {},
   "source": [
    "#### 25. Given a 1D array, negate all elements which are between 3 and 8, in place. (★☆☆)"
   ]
  },
  {
   "cell_type": "code",
   "execution_count": 125,
   "metadata": {
    "tags": []
   },
   "outputs": [
    {
     "output_type": "stream",
     "name": "stdout",
     "text": "[7 1 6 6 6 5 1 3 9 2]\n[0 1 2 3 4 5 6 7 8 9]\n[-7  1 -6 -6 -6 -5  1  3  9  2]\n[ 0  1  2  3 -4 -5 -6 -7  8  9]\n"
    }
   ],
   "source": [
    "x = np.floor(np.random.rand(10)*10).astype(int)\n",
    "print(x)\n",
    "\n",
    "x2 = np.arange(10)\n",
    "print(x2)\n",
    "\n",
    "x[(3 < x) & (x < 8)] *= -1\n",
    "print(x)\n",
    "\n",
    "x2[(3 < x2) & (x2 < 8)] *= -1\n",
    "print(x2)\n"
   ]
  },
  {
   "cell_type": "markdown",
   "metadata": {},
   "source": [
    "#### 26. What is the output of the following script? (★☆☆)\n",
    "```python\n",
    "# Author: Jake VanderPlas\n",
    "\n",
    "print(sum(range(5),-1))\n",
    "from numpy import *\n",
    "print(sum(range(5),-1))\n",
    "```"
   ]
  },
  {
   "cell_type": "code",
   "execution_count": 18,
   "metadata": {
    "tags": []
   },
   "outputs": [
    {
     "output_type": "stream",
     "name": "stdout",
     "text": "9\n10\n[4 6]\n[3 7]\n[3 7]\n"
    }
   ],
   "source": [
    "# 1. 9\n",
    "\n",
    "print(sum(range(5),-1))     # ----> 9, ok!\n",
    "# secod parameter is another number to sum\n",
    "\n",
    "# from numpy import *\n",
    "# print(sum(range(5),-1))     # -> 10 wtf\n",
    "# this overrides sum function\n",
    "\n",
    "import numpy as np\n",
    "print(np.sum(range(5),-1))\n",
    "# secod parameter is axis\n",
    "\n",
    "print(np.sum([[1,2],[3,4]],0))\n",
    "print(np.sum([[1,2],[3,4]],1))\n",
    "print(np.sum([[1,2],[3,4]],-1))\n",
    "# sumer check"
   ]
  },
  {
   "cell_type": "markdown",
   "metadata": {},
   "source": [
    "#### 27. Consider an integer vector Z, which of these expressions are legal? (★☆☆)\n",
    "```python\n",
    "Z**Z\n",
    "2 << Z >> 2\n",
    "Z <- Z\n",
    "1j*Z\n",
    "Z/1/1\n",
    "Z<Z>Z\n",
    "```"
   ]
  },
  {
   "cell_type": "code",
   "execution_count": 41,
   "metadata": {
    "tags": []
   },
   "outputs": [
    {
     "output_type": "stream",
     "name": "stdout",
     "text": "[0 1 2 3 4 5 6 7 8]\n[       1        1        4       27      256     3125    46656   823543\n 16777216]\n[  2   4   8  16  32  64 128 256 512]\n[  0   1   2   4   8  16  32  64 128]\n[False False False False False False False False False]\n[0.+0.j 0.+1.j 0.+2.j 0.+3.j 0.+4.j 0.+5.j 0.+6.j 0.+7.j 0.+8.j]\n[0. 1. 2. 3. 4. 5. 6. 7. 8.]\n"
    },
    {
     "output_type": "error",
     "ename": "ValueError",
     "evalue": "The truth value of an array with more than one element is ambiguous. Use a.any() or a.all()",
     "traceback": [
      "\u001b[1;31m---------------------------------------------------------------------------\u001b[0m",
      "\u001b[1;31mValueError\u001b[0m                                Traceback (most recent call last)",
      "\u001b[1;32m<ipython-input-41-cda93dd72994>\u001b[0m in \u001b[0;36m<module>\u001b[1;34m()\u001b[0m\n\u001b[0;32m      8\u001b[0m \u001b[0mprint\u001b[0m\u001b[1;33m(\u001b[0m\u001b[1;36m1j\u001b[0m\u001b[1;33m*\u001b[0m\u001b[0mZ\u001b[0m\u001b[1;33m)\u001b[0m                 \u001b[1;31m# converting each number to the imaginary part of a complex number\u001b[0m\u001b[1;33m\u001b[0m\u001b[0m\n\u001b[0;32m      9\u001b[0m \u001b[0mprint\u001b[0m\u001b[1;33m(\u001b[0m\u001b[0mZ\u001b[0m\u001b[1;33m/\u001b[0m\u001b[1;36m1\u001b[0m\u001b[1;33m/\u001b[0m\u001b[1;36m1\u001b[0m\u001b[1;33m)\u001b[0m                \u001b[1;31m# interesting... converting ints to floats because the division involved\u001b[0m\u001b[1;33m\u001b[0m\u001b[0m\n\u001b[1;32m---> 10\u001b[1;33m \u001b[0mZ\u001b[0m\u001b[1;33m<\u001b[0m\u001b[0mZ\u001b[0m\u001b[1;33m>\u001b[0m\u001b[0mZ\u001b[0m                       \u001b[1;31m# error: 2nd operation: compearing bool with ints\u001b[0m\u001b[1;33m\u001b[0m\u001b[0m\n\u001b[0m",
      "\u001b[1;31mValueError\u001b[0m: The truth value of an array with more than one element is ambiguous. Use a.any() or a.all()"
     ]
    }
   ],
   "source": [
    "Z = np.arange(9).astype(int)\n",
    "print(Z)\n",
    "\n",
    "print(Z**Z)                 # pow element-wise \n",
    "print(2 << Z)               # logical shift. base 2 multiplication\n",
    "print(2 << Z >> 2)          # after previous step, each number is divided by 4\n",
    "print(Z <- Z)               # bool comparison Z < -Z\n",
    "print(1j*Z)                 # converting each number to the imaginary part of a complex number\n",
    "print(Z/1/1)                # interesting... converting ints to floats because the division involved    \n",
    "Z<Z>Z                       # error: 2nd operation: compearing bool with ints"
   ]
  },
  {
   "cell_type": "markdown",
   "metadata": {},
   "source": [
    "#### 28. What are the result of the following expressions? (★☆☆)\n",
    "```python\n",
    "np.array(0) / np.array(0)\n",
    "np.array(0) // np.array(0)\n",
    "np.array([np.nan]).astype(int).astype(float)\n",
    "```\n"
   ]
  },
  {
   "cell_type": "code",
   "execution_count": 44,
   "metadata": {
    "tags": []
   },
   "outputs": [
    {
     "output_type": "stream",
     "name": "stdout",
     "text": "nan\n0\n[-2.14748365e+09]\n"
    }
   ],
   "source": [
    "print(np.array(0) / np.array(0))\n",
    "print(np.array(0) // np.array(0))\n",
    "print(np.array([np.nan]).astype(int).astype(float))"
   ]
  },
  {
   "cell_type": "markdown",
   "metadata": {},
   "source": [
    "#### 29. How to round away from zero a float array ? (★☆☆)"
   ]
  },
  {
   "cell_type": "code",
   "execution_count": 53,
   "metadata": {
    "tags": []
   },
   "outputs": [
    {
     "output_type": "stream",
     "name": "stdout",
     "text": "[-7.08953612  7.22139107 -8.89378231  7.83660483  4.34563835  4.40093583\n  6.15762025 -7.10372816  2.95704917 -6.27984883]\n[-8.  8. -9.  8.  5.  5.  7. -8.  3. -7.]\n[-8.  8. -9.  8.  5.  5.  7. -8.  3. -7.]\n[-8.  8. -9.  8.  5.  5.  7. -8.  3. -7.]\n"
    }
   ],
   "source": [
    "x = np.random.uniform(-10,+10,10)\n",
    "print(x)\n",
    "\n",
    "x[x <0] = np.floor(x[x <0])\n",
    "x[x >0] = np.ceil(x[x >0])\n",
    "print(x)\n",
    "\n",
    "print(np.copysign(np.ceil(np.abs(x)), x))\n",
    "\n",
    "# More readable but less efficient\n",
    "print(np.where(x>0, np.ceil(x), np.floor(x)))\n"
   ]
  },
  {
   "cell_type": "code",
   "execution_count": 77,
   "metadata": {},
   "outputs": [],
   "source": [
    "N = 10**8"
   ]
  },
  {
   "cell_type": "code",
   "execution_count": 78,
   "metadata": {
    "tags": []
   },
   "outputs": [
    {
     "output_type": "stream",
     "name": "stdout",
     "text": "100000000\nWall time: 2.32 s\nWall time: 2.21 s\n"
    }
   ],
   "source": [
    "x = np.random.uniform(-10,+10,N)\n",
    "print(len(x))\n",
    "\n",
    "%time x[x <0] = np.floor(x[x <0])\n",
    "%time x[x >0] = np.ceil(x[x >0])\n"
   ]
  },
  {
   "cell_type": "code",
   "execution_count": 79,
   "metadata": {
    "tags": []
   },
   "outputs": [
    {
     "output_type": "stream",
     "name": "stdout",
     "text": "100000000\nWall time: 2.64 s\n"
    }
   ],
   "source": [
    "x = np.random.uniform(-10,+10,N)\n",
    "print(len(x))\n",
    "\n",
    "%time x = np.copysign(np.ceil(np.abs(x)), x)"
   ]
  },
  {
   "cell_type": "code",
   "execution_count": 80,
   "metadata": {
    "tags": []
   },
   "outputs": [
    {
     "output_type": "stream",
     "name": "stdout",
     "text": "100000000\nWall time: 4.38 s\n"
    }
   ],
   "source": [
    "x = np.random.uniform(-10,+10,N)\n",
    "print(len(x))\n",
    "\n",
    "# More readable but less efficient\n",
    "%time x=np.where(x>0, np.ceil(x), np.floor(x))"
   ]
  },
  {
   "cell_type": "markdown",
   "metadata": {},
   "source": [
    "#### 30. How to find common values between two arrays? (★☆☆)"
   ]
  },
  {
   "cell_type": "code",
   "execution_count": 82,
   "metadata": {
    "tags": []
   },
   "outputs": [
    {
     "output_type": "stream",
     "name": "stdout",
     "text": "[2 6 8]\n"
    }
   ],
   "source": [
    "x1 = np.random.randint(0,10,10)\n",
    "x2 = np.random.randint(0,10,10)\n",
    "print(np.intersect1d(x1, x2))"
   ]
  },
  {
   "cell_type": "markdown",
   "metadata": {},
   "source": [
    "Save your progress by commiting your work to Jovian"
   ]
  },
  {
   "cell_type": "code",
   "execution_count": 83,
   "metadata": {},
   "outputs": [
    {
     "output_type": "display_data",
     "data": {
      "text/plain": "<IPython.core.display.Javascript object>",
      "application/javascript": "if (window.IPython && IPython.notebook.kernel) IPython.notebook.kernel.execute('jovian.utils.jupyter.get_notebook_name_saved = lambda: \"' + IPython.notebook.notebook_name + '\"')"
     },
     "metadata": {}
    }
   ],
   "source": [
    "import jovian"
   ]
  },
  {
   "cell_type": "code",
   "execution_count": 84,
   "metadata": {
    "tags": []
   },
   "outputs": [
    {
     "output_type": "display_data",
     "data": {
      "text/plain": "<IPython.core.display.Javascript object>",
      "application/javascript": "window.require && require([\"base/js/namespace\"],function(Jupyter){Jupyter.notebook.save_checkpoint()})"
     },
     "metadata": {}
    },
    {
     "output_type": "stream",
     "name": "stdout",
     "text": "[jovian] Attempting to save notebook..\n[jovian] Updating notebook \"leosf/week3-ntk2-100-numpy-exercises\" on https://jovian.ml/\n[jovian] Uploading notebook..\n[jovian] Capturing environment..\n[jovian] Committed successfully! https://jovian.ml/leosf/week3-ntk2-100-numpy-exercises\n"
    },
    {
     "output_type": "execute_result",
     "data": {
      "text/plain": "'https://jovian.ml/leosf/week3-ntk2-100-numpy-exercises'"
     },
     "metadata": {},
     "execution_count": 84
    }
   ],
   "source": [
    "#jovian.commit(user='leosf', filename='100-numpy-exercises.ipynb', project='week3_ntk2_100-numpy-exercises')"
   ]
  },
  {
   "cell_type": "markdown",
   "metadata": {},
   "source": [
    "#### 31. How to ignore all numpy warnings (not recommended)? (★☆☆)"
   ]
  },
  {
   "cell_type": "code",
   "execution_count": 88,
   "metadata": {},
   "outputs": [
    {
     "output_type": "execute_result",
     "data": {
      "text/plain": "array([nan, inf, inf])"
     },
     "metadata": {},
     "execution_count": 88
    }
   ],
   "source": [
    "# Suicide mode on\n",
    "defaults = np.seterr(all=\"ignore\")\n",
    "Z = np.ones(1) / 0\n",
    "\n",
    "# Back to sanity (I'm crying hahahahaha)\n",
    "_ = np.seterr(**defaults)\n",
    "\n",
    "# Equivalently with a context manager\n",
    "with np.errstate(all=\"ignore\"):\n",
    "    np.arange(3) / 0\n",
    "\n",
    "np.arange(3) / 0"
   ]
  },
  {
   "cell_type": "markdown",
   "metadata": {},
   "source": [
    "#### 32. Is the following expressions true? (★☆☆)\n",
    "```python\n",
    "np.sqrt(-1) == np.emath.sqrt(-1)\n",
    "```"
   ]
  },
  {
   "cell_type": "code",
   "execution_count": 93,
   "metadata": {
    "tags": []
   },
   "outputs": [
    {
     "output_type": "stream",
     "name": "stdout",
     "text": "False\nnan\n1j\n"
    }
   ],
   "source": [
    "print(np.sqrt(-1) == np.emath.sqrt(-1))\n",
    "print(np.sqrt(-1))\n",
    "print(np.emath.sqrt(-1))"
   ]
  },
  {
   "cell_type": "markdown",
   "metadata": {},
   "source": [
    "#### 33. How to get the dates of yesterday, today and tomorrow? (★☆☆)"
   ]
  },
  {
   "cell_type": "code",
   "execution_count": 95,
   "metadata": {
    "tags": []
   },
   "outputs": [
    {
     "output_type": "stream",
     "name": "stdout",
     "text": "2020-09-04\n2020-09-05\n2020-09-06\n"
    }
   ],
   "source": [
    "yesterday = np.datetime64('today') - np.timedelta64(1)\n",
    "today     = np.datetime64('today')\n",
    "tomorrow  = np.datetime64('today') + np.timedelta64(1)\n",
    "\n",
    "print(yesterday)\n",
    "print(today)\n",
    "print(tomorrow)"
   ]
  },
  {
   "cell_type": "markdown",
   "metadata": {},
   "source": [
    "#### 34. How to get all the dates corresponding to the month of July 2016? (★★☆)"
   ]
  },
  {
   "cell_type": "code",
   "execution_count": 96,
   "metadata": {
    "tags": []
   },
   "outputs": [
    {
     "output_type": "stream",
     "name": "stdout",
     "text": "['2016-07-01' '2016-07-02' '2016-07-03' '2016-07-04' '2016-07-05'\n '2016-07-06' '2016-07-07' '2016-07-08' '2016-07-09' '2016-07-10'\n '2016-07-11' '2016-07-12' '2016-07-13' '2016-07-14' '2016-07-15'\n '2016-07-16' '2016-07-17' '2016-07-18' '2016-07-19' '2016-07-20'\n '2016-07-21' '2016-07-22' '2016-07-23' '2016-07-24' '2016-07-25'\n '2016-07-26' '2016-07-27' '2016-07-28' '2016-07-29' '2016-07-30'\n '2016-07-31']\n"
    }
   ],
   "source": [
    "Z = np.arange('2016-07', '2016-08', dtype='datetime64[D]')\n",
    "print(Z)"
   ]
  },
  {
   "cell_type": "markdown",
   "metadata": {},
   "source": [
    "#### 35. How to compute ((A+B)*(-A/2)) in place (without copy)? (★★☆)"
   ]
  },
  {
   "cell_type": "code",
   "execution_count": 109,
   "metadata": {},
   "outputs": [],
   "source": [
    "N = 10**8"
   ]
  },
  {
   "cell_type": "code",
   "execution_count": 110,
   "metadata": {},
   "outputs": [
    {
     "output_type": "execute_result",
     "data": {
      "text/plain": "array([-1.5, -1.5, -1.5, ..., -1.5, -1.5, -1.5])"
     },
     "metadata": {},
     "execution_count": 110
    }
   ],
   "source": [
    "A = np.ones(N)*1\n",
    "B = np.ones(N)*2\n",
    "C = np.ones(N)*3\n",
    "np.add(A,B,out=B)\n",
    "np.divide(A,2,out=A)\n",
    "np.negative(A,out=A)\n",
    "np.multiply(A,B,out=A)"
   ]
  },
  {
   "cell_type": "code",
   "execution_count": 111,
   "metadata": {
    "tags": []
   },
   "outputs": [
    {
     "output_type": "stream",
     "name": "stdout",
     "text": "Wall time: 3.65 s\n"
    }
   ],
   "source": [
    "def funct_1():\n",
    "    A = np.ones(N)*1\n",
    "    B = np.ones(N)*2\n",
    "    C = np.ones(N)*3\n",
    "    np.add(A,B,out=B)\n",
    "    np.divide(A,2,out=A)\n",
    "    np.negative(A,out=A)\n",
    "    np.multiply(A,B,out=A)\n",
    "\n",
    "%time funct_1()"
   ]
  },
  {
   "cell_type": "code",
   "execution_count": 112,
   "metadata": {
    "tags": []
   },
   "outputs": [
    {
     "output_type": "stream",
     "name": "stdout",
     "text": "Wall time: 5.16 s\n"
    }
   ],
   "source": [
    "def funct_2():\n",
    "    A = np.ones(N)*1\n",
    "    B = np.ones(N)*2\n",
    "    C = np.ones(N)*3\n",
    "    A = ((A+B)*(-A/2))\n",
    "\n",
    "%time funct_2()"
   ]
  },
  {
   "cell_type": "markdown",
   "metadata": {},
   "source": [
    "#### 36. Extract the integer part of a random array of positive numbers using 4 different methods (★★☆)"
   ]
  },
  {
   "cell_type": "code",
   "execution_count": 118,
   "metadata": {
    "tags": []
   },
   "outputs": [
    {
     "output_type": "stream",
     "name": "stdout",
     "text": "[-22.5399474  -34.42516006  -4.47876689 -15.02363068   3.14744663\n   9.49039001   4.10061709  -2.21330653  -7.86887024  -5.1919368 ]\n"
    },
    {
     "output_type": "execute_result",
     "data": {
      "text/plain": "array([-22., -34.,  -4., -15.,   3.,   9.,   4.,  -2.,  -7.,  -5.])"
     },
     "metadata": {},
     "execution_count": 118
    }
   ],
   "source": [
    "#method 1\n",
    "x = np.random.randn(10) * 10\n",
    "print(x)\n",
    "np.trunc(x)"
   ]
  },
  {
   "cell_type": "code",
   "execution_count": 120,
   "metadata": {
    "tags": []
   },
   "outputs": [
    {
     "output_type": "stream",
     "name": "stdout",
     "text": "[-22.5399474  -34.42516006  -4.47876689 -15.02363068   3.14744663\n   9.49039001   4.10061709  -2.21330653  -7.86887024  -5.1919368 ]\n"
    },
    {
     "output_type": "execute_result",
     "data": {
      "text/plain": "array([-22, -34,  -4, -15,   3,   9,   4,  -2,  -7,  -5])"
     },
     "metadata": {},
     "execution_count": 120
    }
   ],
   "source": [
    "# method 2\n",
    "\n",
    "print(x)\n",
    "x.astype(int)\n"
   ]
  },
  {
   "cell_type": "code",
   "execution_count": 121,
   "metadata": {
    "tags": []
   },
   "outputs": [
    {
     "output_type": "stream",
     "name": "stdout",
     "text": "[-22.5399474  -34.42516006  -4.47876689 -15.02363068   3.14744663\n   9.49039001   4.10061709  -2.21330653  -7.86887024  -5.1919368 ]\n"
    },
    {
     "output_type": "execute_result",
     "data": {
      "text/plain": "array([-23., -35.,  -5., -16.,   3.,   9.,   4.,  -3.,  -8.,  -6.])"
     },
     "metadata": {},
     "execution_count": 121
    }
   ],
   "source": [
    "# method 3\n",
    "\n",
    "\n",
    "print(x)\n",
    "x//1"
   ]
  },
  {
   "cell_type": "code",
   "execution_count": null,
   "metadata": {},
   "outputs": [],
   "source": [
    "# pending ... \n",
    "# could it be floor and ceil, but is another kind of aproximation like the last one"
   ]
  },
  {
   "cell_type": "markdown",
   "metadata": {},
   "source": [
    "#### 37. Create a 5x5 matrix with row values ranging from 0 to 4 (★★☆)"
   ]
  },
  {
   "cell_type": "code",
   "execution_count": 122,
   "metadata": {
    "tags": []
   },
   "outputs": [
    {
     "output_type": "stream",
     "name": "stdout",
     "text": "[[0. 1. 2. 3. 4.]\n [0. 1. 2. 3. 4.]\n [0. 1. 2. 3. 4.]\n [0. 1. 2. 3. 4.]\n [0. 1. 2. 3. 4.]]\n"
    }
   ],
   "source": [
    "Z = np.zeros((5,5))\n",
    "Z += np.arange(5)\n",
    "print(Z)"
   ]
  },
  {
   "cell_type": "markdown",
   "metadata": {},
   "source": [
    "#### 38. Consider a generator function that generates 10 integers and use it to build an array (★☆☆)"
   ]
  },
  {
   "cell_type": "code",
   "execution_count": 137,
   "metadata": {
    "tags": []
   },
   "outputs": [
    {
     "output_type": "stream",
     "name": "stdout",
     "text": "[0. 1. 2. 3. 4. 5. 6. 7. 8. 9.]\n"
    }
   ],
   "source": [
    "def generate():\n",
    "    for x in range(10):\n",
    "        yield x\n",
    "Z = np.fromiter(generate(),dtype=float,count=-1)\n",
    "print(Z)"
   ]
  },
  {
   "cell_type": "markdown",
   "metadata": {},
   "source": [
    "yield is a keyword that is used like return, except the function will return a generator.\n",
    "3rd parameter of from iter is: --count-- int, optional\n",
    "The number of items to read from iterable. The default is -1, which means all data is read."
   ]
  },
  {
   "cell_type": "code",
   "execution_count": 136,
   "metadata": {
    "tags": []
   },
   "outputs": [
    {
     "output_type": "stream",
     "name": "stdout",
     "text": "0\n1\n4\n"
    }
   ],
   "source": [
    "# Generators\n",
    "# Generators are iterators, a kind of iterable you can only iterate over once. Generators do not store all the values in memory, they generate the values on the fly:\n",
    "\n",
    "mygenerator = (x*x for x in range(3))\n",
    "for i in mygenerator:\n",
    "    print(i)\n",
    "\n",
    "for i in mygenerator:\n",
    "    print(i)"
   ]
  },
  {
   "cell_type": "markdown",
   "metadata": {},
   "source": [
    "it is just the same except you used () instead of []. BUT, you cannot perform for i in mygenerator a second time since generators can only be used once: they calculate 0, then forget about it and calculate 1, and end calculating 4, one by one"
   ]
  },
  {
   "cell_type": "markdown",
   "metadata": {},
   "source": [
    "#### 39. Create a vector of size 10 with values ranging from 0 to 1, both excluded (★★☆)"
   ]
  },
  {
   "cell_type": "code",
   "execution_count": 141,
   "metadata": {
    "tags": []
   },
   "outputs": [
    {
     "output_type": "stream",
     "name": "stdout",
     "text": "0.9736031416836449\n0.015090965238816145\n"
    }
   ],
   "source": [
    "x = np.random.rand(10)\n",
    "\n",
    "print(max(x))\n",
    "print(min(x))"
   ]
  },
  {
   "cell_type": "code",
   "execution_count": 145,
   "metadata": {
    "tags": []
   },
   "outputs": [
    {
     "output_type": "stream",
     "name": "stdout",
     "text": "[0.09090909 0.18181818 0.27272727 0.36363636 0.45454545 0.54545455\n 0.63636364 0.72727273 0.81818182 0.90909091]\n"
    }
   ],
   "source": [
    "# still valid: linearly spaced samples\n",
    "x = np.linspace(0,1,11,endpoint=False)[1:]\n",
    "print(x)"
   ]
  },
  {
   "cell_type": "markdown",
   "metadata": {},
   "source": [
    "#### 40. Create a random vector of size 10 and sort it (★★☆)"
   ]
  },
  {
   "cell_type": "code",
   "execution_count": 147,
   "metadata": {
    "tags": []
   },
   "outputs": [
    {
     "output_type": "stream",
     "name": "stdout",
     "text": "[0.53244266 0.92488065 0.06826649 0.44808376 0.4465072  0.92961973\n 0.96181219 0.76231455 0.55963291 0.25239053]\n[0.06826649 0.25239053 0.4465072  0.44808376 0.53244266 0.55963291\n 0.76231455 0.92488065 0.92961973 0.96181219]\n[0.53244266 0.92488065 0.06826649 0.44808376 0.4465072  0.92961973\n 0.96181219 0.76231455 0.55963291 0.25239053]\n"
    }
   ],
   "source": [
    "x = np.random.rand(10)\n",
    "print(x)\n",
    "\n",
    "print(np.sort(x))\n",
    "\n",
    "print(x)"
   ]
  },
  {
   "cell_type": "markdown",
   "metadata": {},
   "source": [
    "Save your progress by commiting your work to Jovian"
   ]
  },
  {
   "cell_type": "code",
   "execution_count": 148,
   "metadata": {},
   "outputs": [],
   "source": [
    "import jovian"
   ]
  },
  {
   "cell_type": "code",
   "execution_count": 149,
   "metadata": {
    "tags": []
   },
   "outputs": [
    {
     "output_type": "display_data",
     "data": {
      "text/plain": "<IPython.core.display.Javascript object>",
      "application/javascript": "window.require && require([\"base/js/namespace\"],function(Jupyter){Jupyter.notebook.save_checkpoint()})"
     },
     "metadata": {}
    },
    {
     "output_type": "stream",
     "name": "stdout",
     "text": "[jovian] Attempting to save notebook..\n[jovian] Updating notebook \"leosf/week3-ntk2-100-numpy-exercises\" on https://jovian.ml/\n[jovian] Uploading notebook..\n[jovian] Capturing environment..\n[jovian] Committed successfully! https://jovian.ml/leosf/week3-ntk2-100-numpy-exercises\n"
    },
    {
     "output_type": "execute_result",
     "data": {
      "text/plain": "'https://jovian.ml/leosf/week3-ntk2-100-numpy-exercises'"
     },
     "metadata": {},
     "execution_count": 149
    }
   ],
   "source": [
    "#jovian.commit(user='leosf', filename='100-numpy-exercises.ipynb', project='week3_ntk2_100-numpy-exercises')"
   ]
  },
  {
   "cell_type": "markdown",
   "metadata": {},
   "source": [
    "#### 41. How to sum a small array faster than np.sum? (★★☆)"
   ]
  },
  {
   "cell_type": "code",
   "execution_count": 154,
   "metadata": {
    "tags": []
   },
   "outputs": [
    {
     "output_type": "stream",
     "name": "stdout",
     "text": "Wall time: 1.37 s\nWall time: 1.45 s\n"
    },
    {
     "output_type": "execute_result",
     "data": {
      "text/plain": "499995978.1594768"
     },
     "metadata": {},
     "execution_count": 154
    }
   ],
   "source": [
    "N = 10 ** 9\n",
    "\n",
    "x = np.random.rand(N)\n",
    "\n",
    "%time np.add.reduce(x)\n",
    "%time np.sum(x)"
   ]
  },
  {
   "cell_type": "markdown",
   "metadata": {},
   "source": [
    "#### 42. Consider two random array A and B, check if they are equal (★★☆)"
   ]
  },
  {
   "cell_type": "code",
   "execution_count": 155,
   "metadata": {},
   "outputs": [
    {
     "output_type": "execute_result",
     "data": {
      "text/plain": "array([ True,  True,  True,  True,  True,  True,  True,  True,  True,\n        True])"
     },
     "metadata": {},
     "execution_count": 155
    }
   ],
   "source": [
    "x = np.random.rand(10)\n",
    "\n",
    "x == x"
   ]
  },
  {
   "cell_type": "code",
   "execution_count": 157,
   "metadata": {
    "tags": []
   },
   "outputs": [
    {
     "output_type": "stream",
     "name": "stdout",
     "text": "[1 1 1 1 1]\n[0 1 1 1 1]\nFalse\nFalse\n"
    }
   ],
   "source": [
    "A = np.random.randint(0,2,5)\n",
    "B = np.random.randint(0,2,5)\n",
    "print(A)\n",
    "print(B)\n",
    "# Assuming identical shape of the arrays and a tolerance for the comparison of values\n",
    "equal = np.allclose(A,B)\n",
    "print(equal)\n",
    "\n",
    "# Checking both the shape and the element values, no tolerance (values have to be exactly equal)\n",
    "equal = np.array_equal(A,B)\n",
    "print(equal)"
   ]
  },
  {
   "cell_type": "markdown",
   "metadata": {},
   "source": [
    "numpy.allclose(a, b, rtol=1e-05, atol=1e-08, equal_nan=False)\n",
    "    rtolfloat - The relative tolerance parameter\n",
    "    atolfloat - The absolute tolerance parameter (see Notes).\n",
    "    equal_nanbool - \n",
    "    Whether to compare NaN’s as equal. If True, NaN’s in a will be considered equal to NaN’s in b in the output array."
   ]
  },
  {
   "cell_type": "markdown",
   "metadata": {},
   "source": [
    "#### 43. Make an array immutable (read-only) (★★☆)"
   ]
  },
  {
   "cell_type": "code",
   "execution_count": 159,
   "metadata": {},
   "outputs": [
    {
     "output_type": "error",
     "ename": "ValueError",
     "evalue": "assignment destination is read-only",
     "traceback": [
      "\u001b[1;31m---------------------------------------------------------------------------\u001b[0m",
      "\u001b[1;31mValueError\u001b[0m                                Traceback (most recent call last)",
      "\u001b[1;32m<ipython-input-159-50d3306bb5ff>\u001b[0m in \u001b[0;36m<module>\u001b[1;34m()\u001b[0m\n\u001b[0;32m      1\u001b[0m \u001b[0mx\u001b[0m \u001b[1;33m=\u001b[0m \u001b[0mnp\u001b[0m\u001b[1;33m.\u001b[0m\u001b[0mzeros\u001b[0m\u001b[1;33m(\u001b[0m\u001b[1;36m10\u001b[0m\u001b[1;33m)\u001b[0m\u001b[1;33m\u001b[0m\u001b[0m\n\u001b[0;32m      2\u001b[0m \u001b[0mx\u001b[0m\u001b[1;33m.\u001b[0m\u001b[0mflags\u001b[0m\u001b[1;33m.\u001b[0m\u001b[0mwriteable\u001b[0m \u001b[1;33m=\u001b[0m \u001b[1;32mFalse\u001b[0m\u001b[1;33m\u001b[0m\u001b[0m\n\u001b[1;32m----> 3\u001b[1;33m \u001b[0mx\u001b[0m\u001b[1;33m[\u001b[0m\u001b[1;36m0\u001b[0m\u001b[1;33m]\u001b[0m \u001b[1;33m=\u001b[0m \u001b[1;36m1\u001b[0m\u001b[1;33m\u001b[0m\u001b[0m\n\u001b[0m",
      "\u001b[1;31mValueError\u001b[0m: assignment destination is read-only"
     ]
    }
   ],
   "source": [
    "x = np.zeros(10)\n",
    "x.flags.writeable = False\n",
    "x[0] = 1"
   ]
  },
  {
   "cell_type": "markdown",
   "metadata": {},
   "source": [
    "#### 44. Consider a random 10x2 matrix representing cartesian coordinates, convert them to polar coordinates (★★☆)"
   ]
  },
  {
   "cell_type": "code",
   "execution_count": 180,
   "metadata": {
    "tags": []
   },
   "outputs": [
    {
     "output_type": "stream",
     "name": "stdout",
     "text": "[[5 0]\n [8 8]\n [0 7]\n [9 5]\n [8 2]]\n[5.0, 0.0]\n[11.313708498984761, 0.7853981633974483]\n[7.0, 1.5707963267948966]\n[10.295630140987, 0.507098504392337]\n[8.246211251235321, 0.24497866312686414]\n"
    }
   ],
   "source": [
    "cart = np.random.randint(0, 10, size=(5,2))\n",
    "\n",
    "# visualizing a some coordinates\n",
    "print(cart[:5,:])\n",
    "\n",
    "def to_polar(x, y):\n",
    "    mod = np.sqrt(x**2 + y**2) \n",
    "    angle = np.arctan(y / x)        # [rads]\n",
    "    return [mod, angle]\n",
    "\n",
    "for x, y in cart:\n",
    "    print(to_polar(x,y))\n",
    "\n"
   ]
  },
  {
   "cell_type": "markdown",
   "metadata": {},
   "source": [
    "#### 45. Create random vector of size 10 and replace the maximum value by 0 (★★☆)"
   ]
  },
  {
   "cell_type": "code",
   "execution_count": 190,
   "metadata": {
    "tags": []
   },
   "outputs": [
    {
     "output_type": "stream",
     "name": "stdout",
     "text": "[4 9 0 8 1 3 2 7 1 1]\n9 1\n[4 0 0 8 1 3 2 7 1 1]\n"
    }
   ],
   "source": [
    "x = np.random.randint(0,10,10)\n",
    "print(x)\n",
    "\n",
    "val = np.max(x)\n",
    "idx = np.argmax(x)\n",
    "print(val, idx)\n",
    "\n",
    "x[x.argmax()] = 0\n",
    "print(x)\n",
    "\n",
    "\n"
   ]
  },
  {
   "cell_type": "code",
   "execution_count": 201,
   "metadata": {
    "tags": []
   },
   "outputs": [
    {
     "output_type": "stream",
     "name": "stdout",
     "text": "[2 5 4 6 7 8 4 8 6 1]\n[5 7]\n[2 5 4 6 7 0 4 0 6 1]\n(array([4], dtype=int64),)\n[2 5 4 6 0 0 4 0 6 1]\n"
    }
   ],
   "source": [
    "# another method \n",
    "x = np.random.randint(0,10,10)\n",
    "print(x)\n",
    "\n",
    "idx = np.where(x == np.max(x))\n",
    "print(idx[0])\n",
    "x[idx[0]] = 0\n",
    "print(x)"
   ]
  },
  {
   "cell_type": "markdown",
   "metadata": {},
   "source": [
    "#### 46. Create a structured array with `x` and `y` coordinates covering the [0,1]x[0,1] area (★★☆)"
   ]
  },
  {
   "cell_type": "code",
   "execution_count": 206,
   "metadata": {
    "tags": []
   },
   "outputs": [
    {
     "output_type": "stream",
     "name": "stdout",
     "text": "[[(0.  , 0.  ) (0.25, 0.  ) (0.5 , 0.  ) (0.75, 0.  ) (1.  , 0.  )]\n [(0.  , 0.25) (0.25, 0.25) (0.5 , 0.25) (0.75, 0.25) (1.  , 0.25)]\n [(0.  , 0.5 ) (0.25, 0.5 ) (0.5 , 0.5 ) (0.75, 0.5 ) (1.  , 0.5 )]\n [(0.  , 0.75) (0.25, 0.75) (0.5 , 0.75) (0.75, 0.75) (1.  , 0.75)]\n [(0.  , 1.  ) (0.25, 1.  ) (0.5 , 1.  ) (0.75, 1.  ) (1.  , 1.  )]]\n[[0.   0.25 0.5  0.75 1.  ]\n [0.   0.25 0.5  0.75 1.  ]\n [0.   0.25 0.5  0.75 1.  ]\n [0.   0.25 0.5  0.75 1.  ]\n [0.   0.25 0.5  0.75 1.  ]]\n"
    },
    {
     "output_type": "execute_result",
     "data": {
      "text/plain": "array([0.  , 0.25, 0.5 , 0.75, 1.  ])"
     },
     "metadata": {},
     "execution_count": 206
    }
   ],
   "source": [
    "Z = np.zeros((5,5), [('x',float),('y',float)])\n",
    "Z['x'], Z['y'] = np.meshgrid(np.linspace(0, 1, 5, endpoint=True,),\n",
    "                             np.linspace(0, 1, 5, endpoint=True))\n",
    "print(Z)\n",
    "\n",
    "print(Z['x'])\n",
    "np.linspace(0,1,5)"
   ]
  },
  {
   "cell_type": "markdown",
   "metadata": {},
   "source": [
    "#### 47. Given two arrays, X and Y, construct the Cauchy matrix C (Cij =1/(xi - yj))"
   ]
  },
  {
   "cell_type": "code",
   "execution_count": 214,
   "metadata": {
    "tags": []
   },
   "outputs": [
    {
     "output_type": "stream",
     "name": "stdout",
     "text": "[[  0.7901747    0.67609977   0.92572179  -5.34176742   3.57868655]\n [  0.93176259   0.77714359   1.12621491  -2.63496199  11.4778975 ]\n [  1.78315151   1.29143309   2.66311533  -1.12114908  -2.35124854]\n [ -3.51318833 -14.06212706  -2.12790181  -0.57557647  -0.78693529]\n [  4.3745743    2.26181707  23.10060833  -0.81689121  -1.32010218]]\n17476.96669803768\n\n[[  0.7901747    0.67609977   0.92572179  -5.34176742   3.57868655]\n [  0.93176259   0.77714359   1.12621491  -2.63496199  11.4778975 ]\n [  1.78315151   1.29143309   2.66311533  -1.12114908  -2.35124854]\n [ -3.51318833 -14.06212706  -2.12790181  -0.57557647  -0.78693529]\n [  4.3745743    2.26181707  23.10060833  -0.81689121  -1.32010218]]\n17476.96669803768\n"
    }
   ],
   "source": [
    "x = np.random.randn(5)\n",
    "y = np.random.randn(5)\n",
    "c =np.zeros((len(x), len(y)))\n",
    "\n",
    "#for xi, yi, i in zip(x, y, range(len(c))):\n",
    "#    c[i] = 1/(xi - yi)\n",
    "\n",
    "for i in range(len(x)):\n",
    "    for j in range(len(y)): \n",
    "        c[i,j] = 1/(x[i] - y[j])\n",
    "print(c)\n",
    "print(np.linalg.det(c))\n",
    "print()\n",
    "\n",
    "# interesting use of outer !\n",
    "C = 1.0 / np.subtract.outer(x, y)\n",
    "print(C)\n",
    "print(np.linalg.det(C))"
   ]
  },
  {
   "cell_type": "markdown",
   "metadata": {},
   "source": [
    "#### 48. Print the minimum and maximum representable value for each numpy scalar type (★★☆)"
   ]
  },
  {
   "cell_type": "code",
   "execution_count": 225,
   "metadata": {
    "tags": []
   },
   "outputs": [
    {
     "output_type": "stream",
     "name": "stdout",
     "text": "np.iinfo(dtype).min: -128\nnp.iinfo(dtype).max: 127\nnp.iinfo(dtype).min: -2147483648\nnp.iinfo(dtype).max: 2147483647\nnp.iinfo(dtype).min: -9223372036854775808\nnp.iinfo(dtype).max: 9223372036854775807\n-3.4028235e+38\n3.4028235e+38\n1.1920929e-07\n-1.7976931348623157e+308\n1.7976931348623157e+308\n2.220446049250313e-16\n"
    }
   ],
   "source": [
    "for dtype in [np.int8, np.int32, np.int64]:\n",
    "   print(\"np.iinfo(dtype).min: {}\".format(np.iinfo(dtype).min))\n",
    "   print(\"np.iinfo(dtype).max: {}\".format(np.iinfo(dtype).max))\n",
    "   \n",
    "for dtype in [np.float32, np.float64]:\n",
    "    print(np.finfo(dtype).min)\n",
    "    print(np.finfo(dtype).max)\n",
    "    print(np.finfo(dtype).eps)\n",
    "    #print(\"np.finfo(dtype).min: {}\".format(np.iinfo(dtype).min, 'f'))\n",
    "    #print(\"np.iinfo(dtype).max: {}\".format(np.iinfo(dtype).max, 'f'))\n",
    "    #print(\"np.iinfo(dtype).eps: {}\".format(np.iinfo(dtype).eps))"
   ]
  },
  {
   "cell_type": "markdown",
   "metadata": {},
   "source": [
    "#### 49. How to print all the values of an array? (★★☆)"
   ]
  },
  {
   "cell_type": "code",
   "execution_count": 226,
   "metadata": {
    "tags": []
   },
   "outputs": [
    {
     "output_type": "stream",
     "name": "stdout",
     "text": "[[0. 0. 0. 0. 0. 0. 0. 0. 0. 0. 0. 0. 0. 0. 0. 0.]\n [0. 0. 0. 0. 0. 0. 0. 0. 0. 0. 0. 0. 0. 0. 0. 0.]\n [0. 0. 0. 0. 0. 0. 0. 0. 0. 0. 0. 0. 0. 0. 0. 0.]\n [0. 0. 0. 0. 0. 0. 0. 0. 0. 0. 0. 0. 0. 0. 0. 0.]\n [0. 0. 0. 0. 0. 0. 0. 0. 0. 0. 0. 0. 0. 0. 0. 0.]\n [0. 0. 0. 0. 0. 0. 0. 0. 0. 0. 0. 0. 0. 0. 0. 0.]\n [0. 0. 0. 0. 0. 0. 0. 0. 0. 0. 0. 0. 0. 0. 0. 0.]\n [0. 0. 0. 0. 0. 0. 0. 0. 0. 0. 0. 0. 0. 0. 0. 0.]\n [0. 0. 0. 0. 0. 0. 0. 0. 0. 0. 0. 0. 0. 0. 0. 0.]\n [0. 0. 0. 0. 0. 0. 0. 0. 0. 0. 0. 0. 0. 0. 0. 0.]\n [0. 0. 0. 0. 0. 0. 0. 0. 0. 0. 0. 0. 0. 0. 0. 0.]\n [0. 0. 0. 0. 0. 0. 0. 0. 0. 0. 0. 0. 0. 0. 0. 0.]\n [0. 0. 0. 0. 0. 0. 0. 0. 0. 0. 0. 0. 0. 0. 0. 0.]\n [0. 0. 0. 0. 0. 0. 0. 0. 0. 0. 0. 0. 0. 0. 0. 0.]\n [0. 0. 0. 0. 0. 0. 0. 0. 0. 0. 0. 0. 0. 0. 0. 0.]\n [0. 0. 0. 0. 0. 0. 0. 0. 0. 0. 0. 0. 0. 0. 0. 0.]]\n"
    }
   ],
   "source": [
    "np.set_printoptions(threshold=float(\"inf\"))\n",
    "Z = np.zeros((16,16))\n",
    "print(Z)"
   ]
  },
  {
   "cell_type": "markdown",
   "metadata": {},
   "source": [
    "#### 50. How to find the closest value (to a given scalar) in a vector? (★★☆)"
   ]
  },
  {
   "cell_type": "markdown",
   "metadata": {},
   "source": [
    "there is a lack of a good explanation for this exercise... \n",
    "if you have two vectors, you want to know which of the pair of elementes is the closest one"
   ]
  },
  {
   "cell_type": "code",
   "execution_count": 227,
   "metadata": {
    "tags": []
   },
   "outputs": [
    {
     "output_type": "stream",
     "name": "stdout",
     "text": "30\n"
    }
   ],
   "source": [
    "Z = np.arange(100)\n",
    "v = np.random.uniform(0,100)\n",
    "index = (np.abs(Z-v)).argmin()\n",
    "print(Z[index])"
   ]
  },
  {
   "cell_type": "markdown",
   "metadata": {},
   "source": [
    "Save and commit your work."
   ]
  },
  {
   "cell_type": "code",
   "execution_count": 228,
   "metadata": {},
   "outputs": [],
   "source": [
    "import jovian"
   ]
  },
  {
   "cell_type": "code",
   "execution_count": 229,
   "metadata": {
    "tags": []
   },
   "outputs": [
    {
     "output_type": "display_data",
     "data": {
      "text/plain": "<IPython.core.display.Javascript object>",
      "application/javascript": "window.require && require([\"base/js/namespace\"],function(Jupyter){Jupyter.notebook.save_checkpoint()})"
     },
     "metadata": {}
    },
    {
     "output_type": "stream",
     "name": "stdout",
     "text": "[jovian] Attempting to save notebook..\n[jovian] Updating notebook \"leosf/week3-ntk2-100-numpy-exercises\" on https://jovian.ml/\n[jovian] Uploading notebook..\n[jovian] Capturing environment..\n[jovian] Committed successfully! https://jovian.ml/leosf/week3-ntk2-100-numpy-exercises\n"
    },
    {
     "output_type": "execute_result",
     "data": {
      "text/plain": "'https://jovian.ml/leosf/week3-ntk2-100-numpy-exercises'"
     },
     "metadata": {},
     "execution_count": 229
    }
   ],
   "source": [
    "#jovian.commit(user='leosf', filename='100-numpy-exercises.ipynb', project='week3_ntk2_100-numpy-exercises')"
   ]
  },
  {
   "cell_type": "markdown",
   "metadata": {},
   "source": [
    "#### 51. Create a structured array representing a position (x,y) and a color (r,g,b) (★★☆)"
   ]
  },
  {
   "cell_type": "code",
   "execution_count": 248,
   "metadata": {
    "tags": []
   },
   "outputs": [
    {
     "output_type": "stream",
     "name": "stdout",
     "text": "[((0., 0.), (0., 0., 0.)) ((0., 0.), (0., 0., 0.))\n ((0., 0.), (0., 0., 0.)) ((0., 0.), (0., 0., 0.))\n ((0., 0.), (0., 0., 0.)) ((0., 0.), (0., 0., 0.))\n ((0., 0.), (0., 0., 0.)) ((0., 0.), (0., 0., 0.))\n ((0., 0.), (0., 0., 0.)) ((0., 0.), (0., 0., 0.))]\n(10,)\n((0., 0.), (0., 0., 0.))\n((1., 0.), (0., 0., 0.))\n((1., 0.), (2., 3., 4.))\n<class 'numpy.void'>\n"
    }
   ],
   "source": [
    "mat = np.zeros(10, [ ('position', [ ('x', float, 1),\n",
    "                                    ('y', float, 1)\n",
    "                                    ]),\n",
    "                     ('color',    [ ('r', float, 1),\n",
    "                                    ('g', float, 1),\n",
    "                                    ('b', float, 1)\n",
    "                                    ])\n",
    "                    ])\n",
    "print(mat)\n",
    "\n",
    "print(mat.shape)\n",
    "print(mat[0])\n",
    "mat[0][0][0] = 1   # 1st element, 1st parameter (position), 1st coordinate\n",
    "print(mat[0])\n",
    "mat[0]['color']['r'] = 2\n",
    "mat[0]['color'] = (2,3,4)\n",
    "print(mat[0])\n",
    "\n",
    "print(type(mat[0]))\n"
   ]
  },
  {
   "cell_type": "markdown",
   "metadata": {},
   "source": [
    "#### 52. Consider a random vector with shape (100,2) representing coordinates, find point by point distances (★★☆)"
   ]
  },
  {
   "cell_type": "code",
   "execution_count": 1,
   "metadata": {
    "tags": []
   },
   "outputs": [
    {
     "output_type": "stream",
     "name": "stdout",
     "text": "[[0.         0.44858243 0.89318133 0.25723835 0.62365714 0.86916848\n  0.79275478 0.80902017 0.66806069 0.59906298]\n [0.44858243 0.         0.50132166 0.45879561 0.25750109 0.55021978\n  0.34971306 0.36255338 0.26983935 0.27690672]\n [0.89318133 0.50132166 0.         0.77331205 0.59520699 0.18455036\n  0.40614355 0.27010198 0.54608878 0.30049928]\n [0.25723835 0.45879561 0.77331205 0.         0.70019648 0.70220897\n  0.79727902 0.76948078 0.72508203 0.47557381]\n [0.62365714 0.25750109 0.59520699 0.70019648 0.         0.70754653\n  0.24605782 0.35164732 0.06388682 0.48296435]\n [0.86916848 0.55021978 0.18455036 0.70220897 0.70754653 0.\n  0.55896338 0.42821013 0.66890839 0.28448076]\n [0.79275478 0.34971306 0.40614355 0.79727902 0.24605782 0.55896338\n  0.         0.13612238 0.18268895 0.42511479]\n [0.80902017 0.36255338 0.27010198 0.76948078 0.35164732 0.42821013\n  0.13612238 0.         0.29394229 0.34041619]\n [0.66806069 0.26983935 0.54608878 0.72508203 0.06388682 0.66890839\n  0.18268895 0.29394229 0.         0.46270464]\n [0.59906298 0.27690672 0.30049928 0.47557381 0.48296435 0.28448076\n  0.42511479 0.34041619 0.46270464 0.        ]]\n"
    }
   ],
   "source": [
    "# I've no idea what is asking about...\n",
    "import numpy as np\n",
    "\n",
    "Z = np.random.random((10,2))\n",
    "X,Y = np.atleast_2d(Z[:,0], Z[:,1])\n",
    "D = np.sqrt( (X-X.T)**2 + (Y-Y.T)**2)\n",
    "print(D)\n",
    "\n",
    "# Much faster with scipy\n",
    "#import scipy\n",
    "# Thanks Gavin Heverly-Coulson (#issue 1)\n",
    "#import scipy.spatial\n",
    "\n",
    "#Z = np.random.random((10,2))\n",
    "#D = scipy.spatial.distance.cdist(Z,Z)\n",
    "#print(D)"
   ]
  },
  {
   "cell_type": "markdown",
   "metadata": {},
   "source": [
    "#### 53. How to convert a float (32 bits) array into an integer (32 bits) in place?"
   ]
  },
  {
   "cell_type": "code",
   "execution_count": 8,
   "metadata": {
    "tags": []
   },
   "outputs": [
    {
     "output_type": "stream",
     "name": "stdout",
     "text": "<class 'numpy.ndarray'>\n[54.57846  78.32195  78.76746  66.425224 51.15471  77.573814 37.35282\n 14.859395 96.951416 70.57344 ]\n[54 78 78 66 51 77 37 14 96 70]\n0x1e5a427bad0\n0x1e5a427bb20\n"
    }
   ],
   "source": [
    "# Thanks Vikas (https://stackoverflow.com/a/10622758/5989906)\n",
    "# & unutbu (https://stackoverflow.com/a/4396247/5989906)\n",
    "Z = (np.random.rand(10)*100).astype(np.float32)\n",
    "print(type(Z))\n",
    "print(Z)\n",
    "\n",
    "Y = Z.view(np.int32)\n",
    "Y[:] = Z\n",
    "print(Y)\n",
    "\n",
    "print(hex(id(Z)))   # memory position of Z\n",
    "print(hex(id(Y)))   # memory position of Y"
   ]
  },
  {
   "cell_type": "markdown",
   "metadata": {},
   "source": [
    "a.view() is used two different ways:\n",
    "\n",
    "a.view(some_dtype) or a.view(dtype=some_dtype) constructs a view of the array’s memory with a different data-type. This can cause a reinterpretation of the bytes of memory.\n",
    "\n",
    "a.view(ndarray_subclass) or a.view(type=ndarray_subclass) just returns an instance of ndarray_subclass that looks at the same array (same shape, dtype, etc.) This does not cause a reinterpretation of the memory."
   ]
  },
  {
   "cell_type": "markdown",
   "metadata": {},
   "source": [
    "#### 54. How to read the following file? (★★☆)\n",
    "```\n",
    "1, 2, 3, 4, 5\n",
    "6,  ,  , 7, 8\n",
    " ,  , 9,10,11\n",
    "```"
   ]
  },
  {
   "cell_type": "code",
   "execution_count": 10,
   "metadata": {
    "tags": []
   },
   "outputs": [
    {
     "output_type": "stream",
     "name": "stdout",
     "text": "[[ 1  2  3  4  5]\n [ 6 -1 -1  7  8]\n [-1 -1  9 10 11]]\n"
    }
   ],
   "source": [
    "# working with files\n",
    "with open(\"ex_54.txt\", 'r') as fh:\n",
    "    data = np.genfromtxt(fh, delimiter=\",\", dtype=np.int)\n",
    "    print(data)"
   ]
  },
  {
   "cell_type": "code",
   "execution_count": 17,
   "metadata": {},
   "outputs": [],
   "source": [
    "# also interesting \n",
    "\n",
    "# generating a fake file\n",
    "# Fake file\n",
    "from io import StringIO\n",
    "s = StringIO('''1, 2, 3, 4, 5\n",
    "\n",
    "                6,  ,  , 7, 8\n",
    "\n",
    "                 ,  , 9,10,11\n",
    "''')\n"
   ]
  },
  {
   "cell_type": "markdown",
   "metadata": {},
   "source": [
    "#### 55. What is the equivalent of enumerate for numpy arrays? (★★☆)"
   ]
  },
  {
   "cell_type": "code",
   "execution_count": 20,
   "metadata": {
    "tags": []
   },
   "outputs": [
    {
     "output_type": "stream",
     "name": "stdout",
     "text": "(0, 0, 0) 0\n(0, 0, 1) 1\n(0, 1, 0) 2\n(0, 1, 1) 3\n(1, 0, 0) 4\n(1, 0, 1) 5\n(1, 1, 0) 6\n(1, 1, 1) 7\n(2, 0, 0) 8\n(2, 0, 1) 9\n(2, 1, 0) 10\n(2, 1, 1) 11\n\n(0, 0, 0) 0\n(0, 0, 1) 1\n(0, 1, 0) 2\n(0, 1, 1) 3\n(1, 0, 0) 4\n(1, 0, 1) 5\n(1, 1, 0) 6\n(1, 1, 1) 7\n(2, 0, 0) 8\n(2, 0, 1) 9\n(2, 1, 0) 10\n(2, 1, 1) 11\n"
    }
   ],
   "source": [
    "Z = np.arange(12).reshape(3,2,2)\n",
    "for index, value in np.ndenumerate(Z):      # ndenumerate:  Return an iterator yielding pairs of \n",
    "    print(index, value)                     #               array coordinates and values.\n",
    "\n",
    "print()\n",
    "for index in np.ndindex(Z.shape):\n",
    "    print(index, Z[index])"
   ]
  },
  {
   "cell_type": "markdown",
   "metadata": {},
   "source": [
    "#### 56. Generate a generic 2D Gaussian-like array (★★☆)"
   ]
  },
  {
   "cell_type": "code",
   "execution_count": 23,
   "metadata": {
    "tags": []
   },
   "outputs": [
    {
     "output_type": "stream",
     "name": "stdout",
     "text": "[[ 0.56848255  0.35048751  0.75015222 -0.34606661  2.74643061]\n [-0.05812293  1.12024083  0.12907107 -0.83265863 -0.67630056]\n [ 0.1716029   0.63130114 -0.87618665 -0.01560609 -0.08734569]\n [-1.93062388 -0.23644223  1.291571    1.18559422 -0.68189664]\n [ 0.15588834 -1.95838733  1.61248647  1.31939837  0.90755527]]\n"
    }
   ],
   "source": [
    "x = np.random.randn(5,5)\n",
    "print(x)"
   ]
  },
  {
   "cell_type": "code",
   "execution_count": 44,
   "metadata": {
    "tags": []
   },
   "outputs": [
    {
     "output_type": "stream",
     "name": "stdout",
     "text": "[[0.36787944 0.44822088 0.51979489 0.57375342 0.60279818 0.60279818\n  0.57375342 0.51979489 0.44822088 0.36787944]\n [0.44822088 0.54610814 0.63331324 0.69905581 0.73444367 0.73444367\n  0.69905581 0.63331324 0.54610814 0.44822088]\n [0.51979489 0.63331324 0.73444367 0.81068432 0.85172308 0.85172308\n  0.81068432 0.73444367 0.63331324 0.51979489]\n [0.57375342 0.69905581 0.81068432 0.89483932 0.9401382  0.9401382\n  0.89483932 0.81068432 0.69905581 0.57375342]\n [0.60279818 0.73444367 0.85172308 0.9401382  0.98773022 0.98773022\n  0.9401382  0.85172308 0.73444367 0.60279818]\n [0.60279818 0.73444367 0.85172308 0.9401382  0.98773022 0.98773022\n  0.9401382  0.85172308 0.73444367 0.60279818]\n [0.57375342 0.69905581 0.81068432 0.89483932 0.9401382  0.9401382\n  0.89483932 0.81068432 0.69905581 0.57375342]\n [0.51979489 0.63331324 0.73444367 0.81068432 0.85172308 0.85172308\n  0.81068432 0.73444367 0.63331324 0.51979489]\n [0.44822088 0.54610814 0.63331324 0.69905581 0.73444367 0.73444367\n  0.69905581 0.63331324 0.54610814 0.44822088]\n [0.36787944 0.44822088 0.51979489 0.57375342 0.60279818 0.60279818\n  0.57375342 0.51979489 0.44822088 0.36787944]]\n"
    }
   ],
   "source": [
    "# this is the correct answer\n",
    "X, Y = np.meshgrid(np.linspace(-1,1,10), np.linspace(-1,1,10))\n",
    "D = np.sqrt(X*X+Y*Y)\n",
    "sigma, mu = 1.0, 0.0\n",
    "G = np.exp(-( (D-mu)**2 / ( 2.0 * sigma**2 ) ) )\n",
    "print(G)"
   ]
  },
  {
   "cell_type": "code",
   "execution_count": 49,
   "metadata": {
    "tags": []
   },
   "outputs": [
    {
     "output_type": "stream",
     "name": "stdout",
     "text": "[[ 0  1  2  3  4  5  6  7  8 10]\n [ 0  1  2  3  4  5  6  7  8 10]\n [ 0  1  2  3  4  5  6  7  8 10]\n [ 0  1  2  3  4  5  6  7  8 10]\n [ 0  1  2  3  4  5  6  7  8 10]\n [ 0  1  2  3  4  5  6  7  8 10]\n [ 0  1  2  3  4  5  6  7  8 10]\n [ 0  1  2  3  4  5  6  7  8 10]\n [ 0  1  2  3  4  5  6  7  8 10]\n [ 0  1  2  3  4  5  6  7  8 10]]\n\n[[ 0  0  0  0  0  0  0  0  0  0]\n [ 1  1  1  1  1  1  1  1  1  1]\n [ 2  2  2  2  2  2  2  2  2  2]\n [ 3  3  3  3  3  3  3  3  3  3]\n [ 4  4  4  4  4  4  4  4  4  4]\n [ 5  5  5  5  5  5  5  5  5  5]\n [ 6  6  6  6  6  6  6  6  6  6]\n [ 7  7  7  7  7  7  7  7  7  7]\n [ 8  8  8  8  8  8  8  8  8  8]\n [10 10 10 10 10 10 10 10 10 10]]\n"
    }
   ],
   "source": [
    "#X, Y = np.meshgrid(np.linspace(-1,1,10), np.linspace(-1,1,10))\n",
    "X, Y = np.meshgrid(np.linspace(0,10,10).astype(int), np.linspace(0,10,10).astype(int))\n",
    "\n",
    "print(X)\n",
    "print()\n",
    "print(Y)"
   ]
  },
  {
   "cell_type": "markdown",
   "metadata": {},
   "source": [
    "#### 57. How to randomly place p elements in a 2D array? (★★☆)"
   ]
  },
  {
   "cell_type": "code",
   "execution_count": 50,
   "metadata": {
    "tags": []
   },
   "outputs": [
    {
     "output_type": "stream",
     "name": "stdout",
     "text": "[[0. 0. 0. 0. 1. 0. 0. 0. 0. 0.]\n [0. 0. 0. 0. 0. 0. 0. 0. 0. 0.]\n [0. 0. 0. 0. 0. 0. 0. 0. 0. 0.]\n [0. 0. 0. 0. 0. 0. 0. 0. 1. 0.]\n [0. 0. 0. 1. 0. 0. 0. 0. 0. 0.]\n [0. 0. 0. 0. 0. 0. 0. 0. 0. 0.]\n [0. 0. 0. 0. 0. 0. 0. 0. 0. 0.]\n [0. 0. 0. 0. 0. 0. 0. 0. 0. 0.]\n [0. 0. 0. 0. 0. 0. 0. 0. 0. 0.]\n [0. 0. 0. 0. 0. 0. 0. 0. 0. 0.]]\n"
    }
   ],
   "source": [
    "n = 10  # dimension\n",
    "p = 3   # N elements to place\n",
    "\n",
    "Z = np.zeros((n,n))\n",
    "np.put(Z, np.random.choice(range(n*n), p, replace=False), 1)\n",
    "print(Z)"
   ]
  },
  {
   "cell_type": "markdown",
   "metadata": {},
   "source": [
    "#### 58. Subtract the mean of each row of a matrix (★★☆)"
   ]
  },
  {
   "cell_type": "code",
   "execution_count": 8,
   "metadata": {
    "tags": []
   },
   "outputs": [
    {
     "output_type": "stream",
     "name": "stdout",
     "text": "[[0.67995542 0.6290281  2.84860139 4.82382184 9.54423484 7.60695927]\n [7.44928023 3.7518681  4.64512364 0.04191091 5.85133005 8.52227594]\n [7.384609   6.24307571 0.62529728 1.32913924 1.71133788 2.0070744 ]\n [1.56617647 2.68697449 3.8875445  2.7917876  5.61945087 5.51248633]]\n\n(4, 1)\n[[4.35543348]\n [5.04363148]\n [3.21675559]\n [3.67740338]]\n\n4.355433476175201\n5.043631479987664\n\n[[-3.67547805 -3.72640537 -1.50683209  0.46838836  5.18880136  3.25152579]\n [ 2.40564875 -1.29176338 -0.39850784 -5.00172057  0.80769857  3.47864446]\n [ 4.16785342  3.02632012 -2.5914583  -1.88761635 -1.50541771 -1.20968118]\n [-2.11122691 -0.99042889  0.21014113 -0.88561578  1.94204749  1.83508296]]\n"
    }
   ],
   "source": [
    "import numpy as np\n",
    "x = np.random.rand(4,6)*10\n",
    "print(x)\n",
    "print()\n",
    "\n",
    "mean = x.mean(axis=1, keepdims=True)\n",
    "print(mean.shape)\n",
    "print(mean)\n",
    "print()\n",
    "\n",
    "print(np.mean(x[0,:]))\n",
    "print(np.mean(x[1,:]))\n",
    "print()\n",
    "\n",
    "x -= np.mean(x, axis=1, keepdims=True)\n",
    "print(x)"
   ]
  },
  {
   "cell_type": "markdown",
   "metadata": {},
   "source": [
    "#### 59. How to sort an array by the nth column? (★★☆)"
   ]
  },
  {
   "cell_type": "code",
   "execution_count": 15,
   "metadata": {
    "tags": []
   },
   "outputs": [
    {
     "output_type": "stream",
     "name": "stdout",
     "text": "[[6 5 2]\n [6 7 0]\n [4 6 4]]\n\n[[6 5 2]\n [4 6 4]\n [6 7 0]]\n\n"
    }
   ],
   "source": [
    "# this is the same case than a shopping list like\n",
    "\n",
    "# argsort: Returns the indices that would sort an array.\n",
    "\n",
    "Z = np.random.randint(0, 10, (3,3))\n",
    "print(Z)\n",
    "print()\n",
    "\n",
    "col = 1\n",
    "print( Z[ Z[:, col].argsort() ] )\n",
    "print()\n"
   ]
  },
  {
   "cell_type": "markdown",
   "metadata": {},
   "source": [
    "#### 60. How to tell if a given 2D array has null columns? (★★☆)"
   ]
  },
  {
   "cell_type": "code",
   "execution_count": 32,
   "metadata": {
    "tags": []
   },
   "outputs": [
    {
     "output_type": "stream",
     "name": "stdout",
     "text": "[[2 2 0 1 1 0 2 2 2 0]\n [2 2 0 1 1 0 2 1 2 0]\n [2 0 0 2 0 0 0 2 1 1]]\n\n[ True  True False  True  True False  True  True  True  True]\n\nTrue\n"
    }
   ],
   "source": [
    "# any:  Test whether any array element along a given axis evaluates to True. \n",
    "#       Returns single boolean unless axis is not None\n",
    "\n",
    "Z = np.random.randint(0,3,(3,10))\n",
    "Z[:,2] = 0\n",
    "print(Z)\n",
    "print()\n",
    "\n",
    "print(Z.any(axis=0))\n",
    "print()\n",
    "\n",
    "print((~Z.any(axis=0)).any())"
   ]
  },
  {
   "cell_type": "markdown",
   "metadata": {},
   "source": [
    "\n",
    "Save and commit your work."
   ]
  },
  {
   "cell_type": "code",
   "execution_count": 33,
   "metadata": {},
   "outputs": [
    {
     "output_type": "display_data",
     "data": {
      "text/plain": "<IPython.core.display.Javascript object>",
      "application/javascript": "if (window.IPython && IPython.notebook.kernel) IPython.notebook.kernel.execute('jovian.utils.jupyter.get_notebook_name_saved = lambda: \"' + IPython.notebook.notebook_name + '\"')"
     },
     "metadata": {}
    }
   ],
   "source": [
    "import jovian"
   ]
  },
  {
   "cell_type": "code",
   "execution_count": 34,
   "metadata": {
    "tags": []
   },
   "outputs": [
    {
     "output_type": "display_data",
     "data": {
      "text/plain": "<IPython.core.display.Javascript object>",
      "application/javascript": "window.require && require([\"base/js/namespace\"],function(Jupyter){Jupyter.notebook.save_checkpoint()})"
     },
     "metadata": {}
    },
    {
     "output_type": "stream",
     "name": "stdout",
     "text": "[jovian] Attempting to save notebook..\n[jovian] Updating notebook \"leosf/week3-ntk2-100-numpy-exercises\" on https://jovian.ml/\n[jovian] Uploading notebook..\n[jovian] Capturing environment..\n[jovian] Committed successfully! https://jovian.ml/leosf/week3-ntk2-100-numpy-exercises\n"
    },
    {
     "output_type": "execute_result",
     "data": {
      "text/plain": "'https://jovian.ml/leosf/week3-ntk2-100-numpy-exercises'"
     },
     "metadata": {},
     "execution_count": 34
    }
   ],
   "source": [
    "#jovian.commit(user='leosf', filename='100-numpy-exercises.ipynb', project='week3_ntk2_100-numpy-exercises')"
   ]
  },
  {
   "cell_type": "markdown",
   "metadata": {},
   "source": [
    "#### 61. Find the nearest value from a given value in an array (★★☆)"
   ]
  },
  {
   "cell_type": "code",
   "execution_count": 45,
   "metadata": {
    "tags": []
   },
   "outputs": [
    {
     "output_type": "stream",
     "name": "stdout",
     "text": "[65 28 81 28 56 68 44 68 14 15 57 60 57 26  3]\n28\n\n[[24 24 90 31  3 77 18 28 16 38 62 74 22 60 88]\n [ 8 36 30 50 19  1 42 26 24 22 53 21 28  4 57]\n [ 7 47 18  0 84 48 27 87 91 53 50 16 33 78 84]\n [ 3 90 44 34  6 58 67 84 36  5 84 75 13 48 34]]\n24\n"
    }
   ],
   "source": [
    "x = np.random.randint(0,100, 15)\n",
    "print(x)\n",
    "\n",
    "val = 35\n",
    "print(x[np.argmin(np.abs(x-val))])\n",
    "print()\n",
    "\n",
    "x = np.random.randint(0,100, (4,15))\n",
    "print(x)\n",
    "val = 25\n",
    "print(x.flat[np.argmin(np.abs(x-val))])"
   ]
  },
  {
   "cell_type": "markdown",
   "metadata": {},
   "source": [
    "#### 62. Considering two arrays with shape (1,3) and (3,1), how to compute their sum using an iterator? (★★☆)"
   ]
  },
  {
   "cell_type": "code",
   "execution_count": 49,
   "metadata": {
    "tags": []
   },
   "outputs": [
    {
     "output_type": "stream",
     "name": "stdout",
     "text": "[[0]\n [1]\n [2]]\n\n[[0 1 2]]\n\n[[0 1 2]\n [1 2 3]\n [2 3 4]]\n"
    }
   ],
   "source": [
    "# TODO: analyze better\n",
    "\n",
    "A = np.arange(3).reshape(3,1)\n",
    "B = np.arange(3).reshape(1,3)\n",
    "print(A)\n",
    "print()\n",
    "print(B)\n",
    "print()\n",
    "\n",
    "it = np.nditer([A, B, None])\n",
    "for x,y,z in it: z[...] = x + y\n",
    "\n",
    "print(it.operands[2])"
   ]
  },
  {
   "cell_type": "markdown",
   "metadata": {},
   "source": [
    "#### 63. Create an array class that has a name attribute (★★☆)"
   ]
  },
  {
   "cell_type": "code",
   "execution_count": 61,
   "metadata": {
    "tags": []
   },
   "outputs": [
    {
     "output_type": "stream",
     "name": "stdout",
     "text": "range_10\nno name\n"
    }
   ],
   "source": [
    "class NamedArray(np.ndarray):\n",
    "    def __new__(cls, array, name=\"no name\"):\n",
    "        obj = np.asarray(array).view(cls)\n",
    "        obj.name = name\n",
    "        return obj\n",
    "\n",
    "    def __array_finalize__(self, obj):\n",
    "        if obj is None: return\n",
    "        self.info = getattr(obj, 'name', \"no name\")\n",
    "\n",
    "Z = NamedArray(np.arange(10), \"range_10\")\n",
    "print (Z.name)\n",
    "\n",
    "Z = NamedArray(np.arange(10))\n",
    "print (Z.name)"
   ]
  },
  {
   "cell_type": "markdown",
   "metadata": {},
   "source": [
    "#### 64. Consider a given vector, how to add 1 to each element indexed by a second vector (be careful with repeated indices)? (★★★)"
   ]
  },
  {
   "cell_type": "markdown",
   "metadata": {},
   "source": [
    "for each occurrence on the second vector add 1 to the first vector using the value of the second vector as the index of the first one:\n",
    "```python\n",
    "          v1[ v2[i] ] += 1   \n",
    "```\n",
    "with i=0.. len(v2)"
   ]
  },
  {
   "cell_type": "code",
   "execution_count": 84,
   "metadata": {
    "tags": []
   },
   "outputs": [
    {
     "output_type": "stream",
     "name": "stdout",
     "text": "[1. 1. 1. 1. 1. 1. 1. 1. 1. 1.]\n[3, 1, 0, 4, 5, 9, 1, 5, 3, 1, 5, 3, 0, 3, 8, 8, 1, 4, 4, 2]\n\n[2 4 1 4 3 3 0 0 2 1 0 0]\n[2 4 1 4 3 3 0 0 2 1]\n\n[3. 5. 2. 5. 4. 4. 1. 1. 3. 2.]\n[3. 5. 2. 5. 4. 4. 1. 1. 3. 2.]\n"
    }
   ],
   "source": [
    "Z = np.ones(10)\n",
    "print(Z)\n",
    "#I = np.random.randint(0,len(Z),20)\n",
    "# making I constant to make the repeatable\n",
    "I = [3, 1, 0, 4, 5, 9, 1, 5, 3, 1, 5, 3 ,0, 3,8, 8, 1, 4, 4, 2]\n",
    "print(I)\n",
    "print()\n",
    "\n",
    "bins = np.bincount(I, minlength=12)\n",
    "print(bins)\n",
    "bins = np.bincount(I, minlength=10)\n",
    "print(bins)\n",
    "print()\n",
    "\n",
    "Z1 = Z + np.bincount(I, minlength=len(Z))\n",
    "print(Z1)\n",
    "Z2 = Z + np.bincount(I, minlength=1)\n",
    "print(Z2)"
   ]
  },
  {
   "cell_type": "markdown",
   "metadata": {},
   "source": [
    "#### 65. How to accumulate elements of a vector (X) to an array (F) based on an index list (I)? (★★★)"
   ]
  },
  {
   "cell_type": "code",
   "execution_count": 85,
   "metadata": {
    "tags": []
   },
   "outputs": [
    {
     "output_type": "stream",
     "name": "stdout",
     "text": "[0. 7. 0. 6. 5. 0. 0. 0. 0. 3.]\n"
    }
   ],
   "source": [
    "X = [1,2,3,4,5,6]\n",
    "I = [1,3,9,3,4,1]\n",
    "F = np.bincount(I,X)\n",
    "print(F)\n",
    "\n",
    "# numpy.bincount(x, weights=None, minlength=0)\n",
    "# If weights is specified the input array is weighted by it, \n",
    "# i.e. if a value n is found at position i, out[n] += weight[i] instead of out[n] += 1.\n",
    "\n",
    "# TODO: ni idea como funciona"
   ]
  },
  {
   "cell_type": "markdown",
   "metadata": {},
   "source": [
    "#### 66. Considering a (w,h,3) image of (dtype=ubyte), compute the number of unique colors (★★★)"
   ]
  },
  {
   "cell_type": "code",
   "execution_count": 2,
   "metadata": {
    "tags": []
   },
   "outputs": [
    {
     "output_type": "stream",
     "name": "stdout",
     "text": "396\n(20, 20)\n16777216\n"
    }
   ],
   "source": [
    "import numpy as np\n",
    "w,h = 20,20\n",
    "\n",
    "bits = 8\n",
    "\n",
    "img = np.random.randint(0, 2**bits, (h,w,3)).astype(np.ubyte)\n",
    "\n",
    "F = img[...,0] * 256 * 256 + img[...,1] * 256 + img[...,2]\n",
    "\n",
    "n = len(np.unique(F))\n",
    "print(n)\n",
    "print(F.shape)\n",
    "#print(np.unique(F))\n",
    "\n",
    "print(256*256*256)"
   ]
  },
  {
   "cell_type": "code",
   "execution_count": 104,
   "metadata": {
    "tags": []
   },
   "outputs": [
    {
     "output_type": "stream",
     "name": "stdout",
     "text": "<class 'numpy.uint8'>\n(2, 3, 3)\n\n[[[0 0 1]\n  [1 1 0]\n  [0 1 1]]\n\n [[1 0 0]\n  [1 0 1]\n  [1 1 0]]]\n\n[[0 0 1]\n [1 1 0]\n [0 1 1]]\n[[0 1 0]\n [1 1 1]]\n"
    }
   ],
   "source": [
    "h=2\n",
    "w=3\n",
    "\n",
    "img = np.random.randint(0,2,(h,w,3)).astype(np.ubyte)\n",
    "print(type(img[0,0,0]))\n",
    "print(img.shape)\n",
    "print()\n",
    "\n",
    "print(img)\n",
    "print()\n",
    "\n",
    "print(img[0,...])\n",
    "print(img[...,0])\n"
   ]
  },
  {
   "cell_type": "markdown",
   "metadata": {},
   "source": [
    "#### 67. Considering a four dimensions array, how to get sum over the last two axis at once? (★★★)"
   ]
  },
  {
   "cell_type": "code",
   "execution_count": 5,
   "metadata": {
    "tags": []
   },
   "outputs": [
    {
     "output_type": "stream",
     "name": "stdout",
     "text": "[[ 8.57533482  7.67772492  6.6464955   7.76397838]\n [ 6.66720346  6.56879743 10.19102365  8.15644424]\n [ 8.918444    8.04990326  6.59074499  9.69468555]\n [ 8.2884057   9.50909508  8.26411434  5.5284602 ]]\n"
    }
   ],
   "source": [
    "x = np.random.rand(4,4,4,4)\n",
    "\n",
    "s = np.sum(x, axis=(-2,-1))\n",
    "print(s)\n"
   ]
  },
  {
   "cell_type": "markdown",
   "metadata": {},
   "source": [
    "#### 68. Considering a one-dimensional vector D, how to compute means of subsets of D using a vector S of same size describing subset  indices? (★★★)"
   ]
  },
  {
   "cell_type": "code",
   "execution_count": 9,
   "metadata": {
    "tags": []
   },
   "outputs": [
    {
     "output_type": "stream",
     "name": "stdout",
     "text": "[0.34568004 0.46382073 0.84586101 0.05587356 0.27295365 0.2587523\n 0.77853552 0.97270198 0.19189911 0.30085829]\n(100,)\nmeans:\n[0.61541838 0.30317156 0.46077945 0.51402387 0.50290878 0.33185854\n 0.43839138 0.60426293 0.41306925 0.57347672]\n0    0.615418\n1    0.303172\n2    0.460779\n3    0.514024\n4    0.502909\n5    0.331859\n6    0.438391\n7    0.604263\n8    0.413069\n9    0.573477\ndtype: float64\n"
    }
   ],
   "source": [
    "# TODO: pending...\n",
    "D = np.random.uniform(0,1,100)\n",
    "S = np.random.randint(0,10,100)\n",
    "\n",
    "print(D[:10])\n",
    "print(D.shape)\n",
    "\n",
    "D_sums = np.bincount(S, weights=D)\n",
    "D_counts = np.bincount(S)\n",
    "D_means = D_sums / D_counts\n",
    "print(\"means:\")\n",
    "print(D_means)\n",
    "\n",
    "# Pandas solution as a reference due to more intuitive code\n",
    "import pandas as pd\n",
    "print(pd.Series(D).groupby(S).mean())"
   ]
  },
  {
   "cell_type": "markdown",
   "metadata": {},
   "source": [
    "#### 69. How to get the diagonal of a dot product? (★★★)"
   ]
  },
  {
   "cell_type": "code",
   "execution_count": 13,
   "metadata": {
    "tags": []
   },
   "outputs": [
    {
     "output_type": "execute_result",
     "data": {
      "text/plain": "array([1.16480846, 1.62881935, 1.61416087, 1.81135963, 1.96887561])"
     },
     "metadata": {},
     "execution_count": 13
    }
   ],
   "source": [
    "# dot product for 2D\n",
    "\n",
    "A = np.random.uniform(0,1,(5,5))\n",
    "B = np.random.uniform(0,1,(5,5))\n",
    "\n",
    "# Slow version\n",
    "y = np.diag(np.dot(A, B))\n",
    "\n",
    "# Fast version\n",
    "np.sum(A * B.T, axis=1)\n",
    "\n",
    "# Faster version\n",
    "np.einsum(\"ij,ji->i\", A, B)"
   ]
  },
  {
   "cell_type": "markdown",
   "metadata": {},
   "source": [
    "#### 70. Consider the vector [1, 2, 3, 4, 5], how to build a new vector with 3 consecutive zeros interleaved between each value? (★★★)"
   ]
  },
  {
   "cell_type": "code",
   "execution_count": 14,
   "metadata": {
    "tags": []
   },
   "outputs": [
    {
     "output_type": "stream",
     "name": "stdout",
     "text": "[1. 0. 0. 0. 2. 0. 0. 0. 3. 0. 0. 0. 4. 0. 0. 0. 5.]\n"
    }
   ],
   "source": [
    "Z = np.array([1,2,3,4,5])\n",
    "nz = 3\n",
    "Z0 = np.zeros(len(Z) + (len(Z)-1)*(nz))\n",
    "Z0[::nz+1] = Z\n",
    "print(Z0)"
   ]
  },
  {
   "cell_type": "code",
   "execution_count": null,
   "metadata": {},
   "outputs": [],
   "source": []
  },
  {
   "cell_type": "markdown",
   "metadata": {},
   "source": [
    "Save and commit your work"
   ]
  },
  {
   "cell_type": "code",
   "execution_count": 15,
   "metadata": {},
   "outputs": [
    {
     "output_type": "display_data",
     "data": {
      "text/plain": "<IPython.core.display.Javascript object>",
      "application/javascript": "if (window.IPython && IPython.notebook.kernel) IPython.notebook.kernel.execute('jovian.utils.jupyter.get_notebook_name_saved = lambda: \"' + IPython.notebook.notebook_name + '\"')"
     },
     "metadata": {}
    }
   ],
   "source": [
    "import jovian"
   ]
  },
  {
   "cell_type": "code",
   "execution_count": 16,
   "metadata": {
    "tags": []
   },
   "outputs": [
    {
     "output_type": "display_data",
     "data": {
      "text/plain": "<IPython.core.display.Javascript object>",
      "application/javascript": "window.require && require([\"base/js/namespace\"],function(Jupyter){Jupyter.notebook.save_checkpoint()})"
     },
     "metadata": {}
    },
    {
     "output_type": "stream",
     "name": "stdout",
     "text": "[jovian] Attempting to save notebook..\n[jovian] Updating notebook \"leosf/week3-ntk2-100-numpy-exercises\" on https://jovian.ml/\n[jovian] Uploading notebook..\n[jovian] Capturing environment..\n[jovian] Committed successfully! https://jovian.ml/leosf/week3-ntk2-100-numpy-exercises\n"
    },
    {
     "output_type": "execute_result",
     "data": {
      "text/plain": "'https://jovian.ml/leosf/week3-ntk2-100-numpy-exercises'"
     },
     "metadata": {},
     "execution_count": 16
    }
   ],
   "source": [
    "#jovian.commit(user='leosf', filename='100-numpy-exercises.ipynb', project='week3_ntk2_100-numpy-exercises')"
   ]
  },
  {
   "cell_type": "markdown",
   "metadata": {},
   "source": [
    "#### 71. Consider an array of dimension (5,5,3), how to mulitply it by an array with dimensions (5,5)? (★★★)"
   ]
  },
  {
   "cell_type": "code",
   "execution_count": 19,
   "metadata": {
    "tags": []
   },
   "outputs": [
    {
     "output_type": "stream",
     "name": "stdout",
     "text": "[[[6. 6. 6.]\n  [6. 6. 6.]]\n\n [[6. 6. 6.]\n  [6. 6. 6.]]]\n"
    }
   ],
   "source": [
    "A = 3*np.ones((2,2,3))\n",
    "B = 2*np.ones((2,2))\n",
    "print(A * B[:,:,None])\n",
    "\n",
    "# no tiene sentido esto, sería interesante ver una interpetación real de esto"
   ]
  },
  {
   "cell_type": "markdown",
   "metadata": {},
   "source": [
    "#### 72. How to swap two rows of an array? (★★★)"
   ]
  },
  {
   "cell_type": "code",
   "execution_count": 24,
   "metadata": {
    "tags": []
   },
   "outputs": [
    {
     "output_type": "stream",
     "name": "stdout",
     "text": "[[ 5  6  7  8  9]\n [ 0  1  2  3  4]\n [10 11 12 13 14]\n [15 16 17 18 19]\n [20 21 22 23 24]]\n"
    }
   ],
   "source": [
    "A = np.arange(25).reshape(5,5)\n",
    "A[[0,1]] = A[[1,0]]\n",
    "print(A)"
   ]
  },
  {
   "cell_type": "code",
   "execution_count": 25,
   "metadata": {
    "tags": []
   },
   "outputs": [
    {
     "output_type": "stream",
     "name": "stdout",
     "text": "[[ 5  6  7  8  9]\n [ 5  6  7  8  9]\n [ 0  1  2  3  4]\n [15 16 17 18 19]\n [20 21 22 23 24]]\n"
    }
   ],
   "source": [
    "A = np.arange(25).reshape(5,5)\n",
    "A[[0,2]] = A[[1,0]]\n",
    "print(A)"
   ]
  },
  {
   "cell_type": "code",
   "execution_count": 27,
   "metadata": {
    "tags": []
   },
   "outputs": [
    {
     "output_type": "stream",
     "name": "stdout",
     "text": "[[ 1  0  2  3  4]\n [ 6  5  7  8  9]\n [11 10 12 13 14]\n [16 15 17 18 19]\n [21 20 22 23 24]]\n"
    }
   ],
   "source": [
    "#swapping two columns\n",
    "\n",
    "A = np.arange(25).reshape(5,5)\n",
    "A[:,[0,1]] = A[:,[1,0]]\n",
    "print(A)"
   ]
  },
  {
   "cell_type": "markdown",
   "metadata": {},
   "source": [
    "#### 73. Consider a set of 10 triplets describing 10 triangles (with shared vertices), find the set of unique line segments composing all the  triangles (★★★)"
   ]
  },
  {
   "cell_type": "code",
   "execution_count": 31,
   "metadata": {
    "tags": []
   },
   "outputs": [
    {
     "output_type": "stream",
     "name": "stdout",
     "text": "[(12, 48) (12, 78) (14, 69) (14, 84) (20, 88) (20, 99) (29, 62) (29, 79)\n (32, 40) (32, 58) (33, 34) (33, 87) (34, 87) (38, 78) (38, 82) (40, 58)\n (42, 55) (42, 98) (43, 45) (43, 64) (43, 81) (43, 82) (45, 82) (48, 78)\n (55, 98) (62, 79) (64, 81) (69, 84) (78, 82) (88, 99)]\n"
    }
   ],
   "source": [
    "# TODO\n",
    "faces = np.random.randint(0,100,(10,3))\n",
    "F = np.roll(faces.repeat(2,axis=1),-1,axis=1)\n",
    "F = F.reshape(len(F)*3,2)\n",
    "F = np.sort(F,axis=1)\n",
    "G = F.view( dtype=[('p0',F.dtype),('p1',F.dtype)] )\n",
    "G = np.unique(G)\n",
    "print(G)"
   ]
  },
  {
   "cell_type": "markdown",
   "metadata": {},
   "source": [
    "#### 74. Given an array C that is a bincount, how to produce an array A such that np.bincount(A) == C? (★★★)"
   ]
  },
  {
   "cell_type": "code",
   "execution_count": 32,
   "metadata": {
    "tags": []
   },
   "outputs": [
    {
     "output_type": "stream",
     "name": "stdout",
     "text": "[1 1 2 3 4 4 6]\n"
    }
   ],
   "source": [
    "# TODO\n",
    "C = np.bincount([1,1,2,3,4,4,6])\n",
    "A = np.repeat(np.arange(len(C)), C)\n",
    "print(A)"
   ]
  },
  {
   "cell_type": "markdown",
   "metadata": {},
   "source": [
    "#### 75. How to compute averages using a sliding window over an array? (★★★)"
   ]
  },
  {
   "cell_type": "code",
   "execution_count": 48,
   "metadata": {
    "tags": []
   },
   "outputs": [
    {
     "output_type": "stream",
     "name": "stdout",
     "text": "[ 1.  2.  3.  4.  5.  6.  7.  8.  9. 10.]\n[ 1.  3.  6. 10. 15. 21. 28. 36. 45. 55.]\n\n[0 1 2 3 4 5 6 7 8 9]\n7\n[1.5 2.5 3.5 4.5 5.5 6.5 7.5]\n"
    }
   ],
   "source": [
    "a = np.linspace(1,10,10)\n",
    "print(a)\n",
    "print(a.cumsum())   # cumulative sum of elements along a given axis\n",
    "print()\n",
    "\n",
    "def moving_average(a, n=3) :\n",
    "    \"\"\" \n",
    "    This is a beautiful masterpiece\n",
    "    \"\"\"\n",
    "    ret = np.cumsum(a, dtype=float)\n",
    "    ret[n:] = ret[n:] - ret[:-n]\n",
    "    return ret[n - 1:] / n\n",
    "\n",
    "Z = np.arange(10)\n",
    "print(Z)\n",
    "\n",
    "avgs = moving_average(Z, n=4)\n",
    "print(len(avgs))\n",
    "print(avgs)"
   ]
  },
  {
   "cell_type": "code",
   "execution_count": 47,
   "metadata": {
    "tags": []
   },
   "outputs": [
    {
     "output_type": "stream",
     "name": "stdout",
     "text": "[0 1 2 3 4 5 6 7 8 9]\n------\n[ 0.  1.  3.  6. 10. 15. 21. 28. 36. 45.]\n[10. 15. 21. 28. 36. 45.]\n[ 0.  1.  3.  6. 10. 15.]\n[10. 14. 18. 22. 26. 30.]\n[ 0.  1.  3.  6. 10. 15. 21. 28. 36. 45.]\n----\n7\n[1.5 2.5 3.5 4.5 5.5 6.5 7.5]\n"
    }
   ],
   "source": [
    "# debuging the function and auto contained explanation thru console output\n",
    "def moving_average(a, n=3) :\n",
    "    ret = np.cumsum(a, dtype=float)\n",
    "    print(\"------\")\n",
    "    print(ret)\n",
    "    print(ret[n:])\n",
    "    print(ret[:-n])\n",
    "    print(ret[n:]-ret[:-n])\n",
    "    print(ret)\n",
    "    ret[n:] = ret[n:] - ret[:-n]\n",
    "    return ret[n - 1:] / n\n",
    "\n",
    "Z = np.arange(10)\n",
    "print(Z)\n",
    "\n",
    "avgs = moving_average(Z, n=4)\n",
    "print(\"----\")\n",
    "print(len(avgs))\n",
    "print(avgs)"
   ]
  },
  {
   "cell_type": "markdown",
   "metadata": {},
   "source": [
    "#### 76. Consider a one-dimensional array Z, build a two-dimensional array whose first row is (Z[0],Z[1],Z[2]) and each subsequent row is  shifted by 1 (last row should be (Z[-3],Z[-2],Z[-1]) (★★★)"
   ]
  },
  {
   "cell_type": "code",
   "execution_count": 51,
   "metadata": {
    "tags": []
   },
   "outputs": [
    {
     "output_type": "stream",
     "name": "stdout",
     "text": "[[0 1 2]\n [1 2 3]\n [2 3 4]\n [3 4 5]\n [4 5 6]\n [5 6 7]\n [6 7 8]\n [7 8 9]]\n"
    }
   ],
   "source": [
    "# hint: numpy.lib.stride_tricks.as_strided\n",
    "# beautiful warning from docs: This function has to be used with extreme care, see notes.\n",
    "from numpy.lib import stride_tricks\n",
    "\n",
    "def rolling(a, window):\n",
    "    shape = (a.size - window + 1, window)\n",
    "    strides = (a.itemsize, a.itemsize)\n",
    "    return stride_tricks.as_strided(a, shape=shape, strides=strides)\n",
    "    \n",
    "Z = rolling(np.arange(10), 3)\n",
    "print(Z)"
   ]
  },
  {
   "cell_type": "markdown",
   "metadata": {},
   "source": [
    "#### 77. How to negate a boolean, or to change the sign of a float inplace? (★★★)"
   ]
  },
  {
   "cell_type": "code",
   "execution_count": 57,
   "metadata": {
    "tags": []
   },
   "outputs": [
    {
     "output_type": "stream",
     "name": "stdout",
     "text": "[1 1 0 0 0 0 0 0 0 0]\n[0 0 1 1 1 1 1 1 1 1]\n\n[-0.85006847  0.51908504 -0.0635212  -0.36763693 -0.14019119  0.47036782\n  0.21806036  0.49934278  0.10948809  0.60667783]\n[ 0.85006847 -0.51908504  0.0635212   0.36763693  0.14019119 -0.47036782\n -0.21806036 -0.49934278 -0.10948809 -0.60667783]\n"
    }
   ],
   "source": [
    "Z = np.random.randint(0,2,10)\n",
    "print(Z)\n",
    "np.logical_not(Z, out=Z)\n",
    "print(Z)\n",
    "print()\n",
    "\n",
    "Z = np.random.uniform(-1.0,1.0,10)\n",
    "print(Z)\n",
    "np.negative(Z, out=Z)\n",
    "print(Z)"
   ]
  },
  {
   "cell_type": "markdown",
   "metadata": {},
   "source": [
    "#### 78. Consider 2 sets of points P0,P1 describing lines (2d) and a point p, how to compute distance from p to each line i (P0[i],P1[i])? (★★★)"
   ]
  },
  {
   "cell_type": "code",
   "execution_count": 58,
   "metadata": {
    "tags": []
   },
   "outputs": [
    {
     "output_type": "stream",
     "name": "stdout",
     "text": "[ 5.19472307  2.6995979  13.65655311 10.39584757  6.76470885  7.46004833\n  9.85016664 14.90481259  6.6727541   4.42820387]\n"
    }
   ],
   "source": [
    "# what kind of distance ¿?  --- no hint\n",
    "# NP: supongo que es la deducción matemática pero no pienso perder tiempo deducir algo que se puede hacer de mil maneras distinatas...\n",
    "\n",
    "def distance(P0, P1, p):\n",
    "    T = P1 - P0\n",
    "    L = (T**2).sum(axis=1)\n",
    "    U = -((P0[:,0]-p[...,0])*T[:,0] + (P0[:,1]-p[...,1])*T[:,1]) / L\n",
    "    U = U.reshape(len(U),1)\n",
    "    D = P0 + U*T - p\n",
    "    return np.sqrt((D**2).sum(axis=1))\n",
    "\n",
    "P0 = np.random.uniform(-10,10,(10,2))\n",
    "P1 = np.random.uniform(-10,10,(10,2))\n",
    "p  = np.random.uniform(-10,10,( 1,2))\n",
    "print(distance(P0, P1, p))\n",
    "\n",
    "# TODO: ..."
   ]
  },
  {
   "cell_type": "markdown",
   "metadata": {},
   "source": [
    "#### 79. Consider 2 sets of points P0,P1 describing lines (2d) and a set of points P, how to compute distance from each point j (P[j]) to each line i (P0[i],P1[i])? (★★★)"
   ]
  },
  {
   "cell_type": "code",
   "execution_count": null,
   "metadata": {},
   "outputs": [],
   "source": [
    "# based on distance function from previous question\n",
    "P0 = np.random.uniform(-10, 10, (10,2))\n",
    "P1 = np.random.uniform(-10, 10, (10,2))\n",
    "p = np.random.uniform( -10, 10, (10,2))\n",
    "\n",
    "# the easiest way is with a compression list\n",
    "print(np.array([distance(P0,P1,p_i) for p_i in p]))"
   ]
  },
  {
   "cell_type": "markdown",
   "metadata": {},
   "source": [
    "#### 80. Consider an arbitrary array, write a function that extract a subpart with a fixed shape and centered on a given element (pad with a `fill` value when necessary) (★★★)"
   ]
  },
  {
   "cell_type": "code",
   "execution_count": 64,
   "metadata": {
    "tags": []
   },
   "outputs": [
    {
     "output_type": "stream",
     "name": "stdout",
     "text": "[1 1]\n[5 5]\n[10 10]\n\n[0 0]\n[5 5]\n[-1 -1]\n[4 4]\n\n[1, 1]\n[5, 5]\n[0, 0]\n[4, 4]\n[[2 6 8 6 1 6 5 7 8 6]\n [8 5 6 2 6 4 7 6 8 4]\n [5 7 5 0 1 3 2 9 6 4]\n [7 2 3 3 7 6 9 0 5 9]\n [6 3 1 0 1 1 1 7 2 9]\n [4 9 0 6 6 8 4 0 7 3]\n [1 4 0 1 2 5 1 5 5 1]\n [0 1 8 1 8 6 8 0 4 2]\n [8 9 9 7 6 2 3 7 4 3]\n [5 4 1 4 8 2 4 5 7 3]]\n[[0 0 0 0 0]\n [0 2 6 8 6]\n [0 8 5 6 2]\n [0 5 7 5 0]\n [0 7 2 3 3]]\n"
    }
   ],
   "source": [
    "\n",
    "Z = np.random.randint(0,10,(10,10)) # raw data \n",
    "shape = (5,5)                       # shape of the pattern\n",
    "fill  = 0                           # default fill element\n",
    "position = (1,1)                    # center of the subpart\n",
    "\n",
    "R = np.ones(shape, dtype=Z.dtype)*fill      # memory to alocate the subpart (pattern)\n",
    "P  = np.array(list(position)).astype(int)   # position of the subpart\n",
    "Rs = np.array(list(R.shape)).astype(int)    # R (subpart) shape\n",
    "Zs = np.array(list(Z.shape)).astype(int)    # raw data shape\n",
    "print(P)\n",
    "print(Rs)\n",
    "print(Zs)\n",
    "\n",
    "R_start = np.zeros((len(shape),)).astype(int)\n",
    "R_stop  = np.array(list(shape)).astype(int)\n",
    "Z_start = (P-Rs//2)\n",
    "Z_stop  = (P+Rs//2)+Rs%2\n",
    "print()\n",
    "print(R_start)\n",
    "print(R_stop)\n",
    "print(Z_start)\n",
    "print(Z_stop)\n",
    "\n",
    "R_start = (R_start - np.minimum(Z_start,0)).tolist()\n",
    "Z_start = (np.maximum(Z_start,0)).tolist()\n",
    "R_stop = np.maximum(R_start, (R_stop - np.maximum(Z_stop-Zs,0))).tolist()\n",
    "Z_stop = (np.minimum(Z_stop,Zs)).tolist()\n",
    "print()\n",
    "print(R_start)\n",
    "print(R_stop)\n",
    "print(Z_start)\n",
    "print(Z_stop)\n",
    "\n",
    "r = [slice(start,stop) for start,stop in zip(R_start,R_stop)]\n",
    "z = [slice(start,stop) for start,stop in zip(Z_start,Z_stop)]\n",
    "R[r] = Z[z]\n",
    "print(Z)\n",
    "print(R)\n"
   ]
  },
  {
   "cell_type": "markdown",
   "metadata": {},
   "source": [
    "Save and commit your work."
   ]
  },
  {
   "cell_type": "code",
   "execution_count": 61,
   "metadata": {},
   "outputs": [],
   "source": [
    "import jovian"
   ]
  },
  {
   "cell_type": "code",
   "execution_count": 63,
   "metadata": {
    "tags": []
   },
   "outputs": [
    {
     "output_type": "display_data",
     "data": {
      "text/plain": "<IPython.core.display.Javascript object>",
      "application/javascript": "window.require && require([\"base/js/namespace\"],function(Jupyter){Jupyter.notebook.save_checkpoint()})"
     },
     "metadata": {}
    },
    {
     "output_type": "stream",
     "name": "stdout",
     "text": "[jovian] Attempting to save notebook..\n[jovian] Updating notebook \"leosf/week3-ntk2-100-numpy-exercises\" on https://jovian.ml/\n[jovian] Uploading notebook..\n[jovian] Capturing environment..\n[jovian] Committed successfully! https://jovian.ml/leosf/week3-ntk2-100-numpy-exercises\n"
    },
    {
     "output_type": "execute_result",
     "data": {
      "text/plain": "'https://jovian.ml/leosf/week3-ntk2-100-numpy-exercises'"
     },
     "metadata": {},
     "execution_count": 63
    }
   ],
   "source": [
    "#jovian.commit(user='leosf', filename='100-numpy-exercises.ipynb', project='week3_ntk2_100-numpy-exercises')"
   ]
  },
  {
   "cell_type": "markdown",
   "metadata": {},
   "source": [
    "#### 81. Consider an array Z = [1,2,3,4,5,6,7,8,9,10,11,12,13,14], how to generate an array R = [[1,2,3,4], [2,3,4,5], [3,4,5,6], ..., [11,12,13,14]]? (★★★)"
   ]
  },
  {
   "cell_type": "code",
   "execution_count": 66,
   "metadata": {
    "tags": []
   },
   "outputs": [
    {
     "output_type": "stream",
     "name": "stdout",
     "text": "[[ 1  2  3  4]\n [ 2  3  4  5]\n [ 3  4  5  6]\n [ 4  5  6  7]\n [ 5  6  7  8]\n [ 6  7  8  9]\n [ 7  8  9 10]\n [ 8  9 10 11]\n [ 9 10 11 12]\n [10 11 12 13]\n [11 12 13 14]]\n"
    }
   ],
   "source": [
    "x = np.arange(1, 15, dtype=np.uint32)\n",
    "y = stride_tricks.as_strided(x, (11,4), (4,4))\n",
    "print(y)"
   ]
  },
  {
   "cell_type": "markdown",
   "metadata": {},
   "source": [
    "#### 82. Compute a matrix rank (★★★)"
   ]
  },
  {
   "cell_type": "code",
   "execution_count": 68,
   "metadata": {
    "tags": []
   },
   "outputs": [
    {
     "output_type": "stream",
     "name": "stdout",
     "text": "20\n"
    }
   ],
   "source": [
    "x = np.random.uniform(0, 1, (20,20))\n",
    "U, S, V = np.linalg.svd(x)              # Singular Value Decomposition\n",
    "rank = np.sum(S > 1e-10)\n",
    "print(rank)"
   ]
  },
  {
   "cell_type": "markdown",
   "metadata": {},
   "source": [
    "#### 83. How to find the most frequent value in an array?"
   ]
  },
  {
   "cell_type": "code",
   "execution_count": 69,
   "metadata": {
    "tags": []
   },
   "outputs": [
    {
     "output_type": "stream",
     "name": "stdout",
     "text": "16\n"
    }
   ],
   "source": [
    "x = np.random.randint(0,20,200)\n",
    "print(np.bincount(x).argmax())"
   ]
  },
  {
   "cell_type": "markdown",
   "metadata": {},
   "source": [
    "#### 84. Extract all the contiguous 3x3 blocks from a random 10x10 matrix (★★★)"
   ]
  },
  {
   "cell_type": "code",
   "execution_count": 70,
   "metadata": {
    "tags": []
   },
   "outputs": [
    {
     "output_type": "stream",
     "name": "stdout",
     "text": "[[[[3 4 2]\n   [2 4 4]\n   [3 1 1]]\n\n  [[4 2 2]\n   [4 4 2]\n   [1 1 3]]\n\n  [[2 2 3]\n   [4 2 0]\n   [1 3 4]]\n\n  [[2 3 2]\n   [2 0 2]\n   [3 4 0]]\n\n  [[3 2 2]\n   [0 2 1]\n   [4 0 4]]\n\n  [[2 2 1]\n   [2 1 2]\n   [0 4 1]]\n\n  [[2 1 1]\n   [1 2 3]\n   [4 1 2]]\n\n  [[1 1 0]\n   [2 3 0]\n   [1 2 1]]]\n\n\n [[[2 4 4]\n   [3 1 1]\n   [1 3 1]]\n\n  [[4 4 2]\n   [1 1 3]\n   [3 1 1]]\n\n  [[4 2 0]\n   [1 3 4]\n   [1 1 1]]\n\n  [[2 0 2]\n   [3 4 0]\n   [1 1 0]]\n\n  [[0 2 1]\n   [4 0 4]\n   [1 0 1]]\n\n  [[2 1 2]\n   [0 4 1]\n   [0 1 2]]\n\n  [[1 2 3]\n   [4 1 2]\n   [1 2 3]]\n\n  [[2 3 0]\n   [1 2 1]\n   [2 3 0]]]\n\n\n [[[3 1 1]\n   [1 3 1]\n   [3 2 3]]\n\n  [[1 1 3]\n   [3 1 1]\n   [2 3 1]]\n\n  [[1 3 4]\n   [1 1 1]\n   [3 1 2]]\n\n  [[3 4 0]\n   [1 1 0]\n   [1 2 3]]\n\n  [[4 0 4]\n   [1 0 1]\n   [2 3 1]]\n\n  [[0 4 1]\n   [0 1 2]\n   [3 1 1]]\n\n  [[4 1 2]\n   [1 2 3]\n   [1 1 3]]\n\n  [[1 2 1]\n   [2 3 0]\n   [1 3 1]]]\n\n\n [[[1 3 1]\n   [3 2 3]\n   [0 4 4]]\n\n  [[3 1 1]\n   [2 3 1]\n   [4 4 3]]\n\n  [[1 1 1]\n   [3 1 2]\n   [4 3 2]]\n\n  [[1 1 0]\n   [1 2 3]\n   [3 2 4]]\n\n  [[1 0 1]\n   [2 3 1]\n   [2 4 4]]\n\n  [[0 1 2]\n   [3 1 1]\n   [4 4 2]]\n\n  [[1 2 3]\n   [1 1 3]\n   [4 2 3]]\n\n  [[2 3 0]\n   [1 3 1]\n   [2 3 4]]]\n\n\n [[[3 2 3]\n   [0 4 4]\n   [0 2 2]]\n\n  [[2 3 1]\n   [4 4 3]\n   [2 2 1]]\n\n  [[3 1 2]\n   [4 3 2]\n   [2 1 1]]\n\n  [[1 2 3]\n   [3 2 4]\n   [1 1 0]]\n\n  [[2 3 1]\n   [2 4 4]\n   [1 0 0]]\n\n  [[3 1 1]\n   [4 4 2]\n   [0 0 1]]\n\n  [[1 1 3]\n   [4 2 3]\n   [0 1 2]]\n\n  [[1 3 1]\n   [2 3 4]\n   [1 2 3]]]\n\n\n [[[0 4 4]\n   [0 2 2]\n   [0 4 0]]\n\n  [[4 4 3]\n   [2 2 1]\n   [4 0 4]]\n\n  [[4 3 2]\n   [2 1 1]\n   [0 4 1]]\n\n  [[3 2 4]\n   [1 1 0]\n   [4 1 3]]\n\n  [[2 4 4]\n   [1 0 0]\n   [1 3 3]]\n\n  [[4 4 2]\n   [0 0 1]\n   [3 3 2]]\n\n  [[4 2 3]\n   [0 1 2]\n   [3 2 0]]\n\n  [[2 3 4]\n   [1 2 3]\n   [2 0 1]]]\n\n\n [[[0 2 2]\n   [0 4 0]\n   [0 2 1]]\n\n  [[2 2 1]\n   [4 0 4]\n   [2 1 0]]\n\n  [[2 1 1]\n   [0 4 1]\n   [1 0 3]]\n\n  [[1 1 0]\n   [4 1 3]\n   [0 3 1]]\n\n  [[1 0 0]\n   [1 3 3]\n   [3 1 3]]\n\n  [[0 0 1]\n   [3 3 2]\n   [1 3 4]]\n\n  [[0 1 2]\n   [3 2 0]\n   [3 4 1]]\n\n  [[1 2 3]\n   [2 0 1]\n   [4 1 2]]]\n\n\n [[[0 4 0]\n   [0 2 1]\n   [0 0 2]]\n\n  [[4 0 4]\n   [2 1 0]\n   [0 2 0]]\n\n  [[0 4 1]\n   [1 0 3]\n   [2 0 0]]\n\n  [[4 1 3]\n   [0 3 1]\n   [0 0 2]]\n\n  [[1 3 3]\n   [3 1 3]\n   [0 2 3]]\n\n  [[3 3 2]\n   [1 3 4]\n   [2 3 2]]\n\n  [[3 2 0]\n   [3 4 1]\n   [3 2 4]]\n\n  [[2 0 1]\n   [4 1 2]\n   [2 4 0]]]]\n"
    }
   ],
   "source": [
    "Z = np.random.randint(0, 5, (10,10))\n",
    "n = 3\n",
    "i = 1 + (Z.shape[0]-3)\n",
    "j = 1 + (Z.shape[1]-3)\n",
    "C = stride_tricks.as_strided(Z, shape=(i, j, n, n), strides=Z.strides + Z.strides)\n",
    "print(C)"
   ]
  },
  {
   "cell_type": "markdown",
   "metadata": {},
   "source": [
    "#### 85. Create a 2D array subclass such that Z[i,j] == Z[j,i] (★★★)"
   ]
  },
  {
   "cell_type": "code",
   "execution_count": 3,
   "metadata": {},
   "outputs": [],
   "source": [
    "import numpy as np"
   ]
  },
  {
   "cell_type": "code",
   "execution_count": 4,
   "metadata": {
    "tags": []
   },
   "outputs": [
    {
     "output_type": "stream",
     "name": "stdout",
     "text": "[[ 8  7 12  5  8]\n [ 7  7  1  8  6]\n [12  1  0 42  6]\n [ 5  8 42  1  5]\n [ 8  6  6  5  6]]\n"
    }
   ],
   "source": [
    "class Symetric(np.ndarray):\n",
    "    \"\"\"\n",
    "    Symetric class of a 2D array. When a alement of the array is modified such as Zi,j, also Zj,i takes the same value.\n",
    "    \"\"\"\n",
    "    def __setitem__(self, index, value):\n",
    "        i,j = index\n",
    "        super(Symetric, self).__setitem__((i,j), value)\n",
    "        super(Symetric, self).__setitem__((j,i), value)\n",
    "\n",
    "def symetric(Z):\n",
    "    return np.asarray(Z + Z.T - np.diag(Z.diagonal())).view(Symetric)\n",
    "\n",
    "S = symetric(np.random.randint(0,10,(5,5)))\n",
    "# observe what happens with random\n",
    "S[2,3] = 42\n",
    "print(S)"
   ]
  },
  {
   "cell_type": "code",
   "execution_count": null,
   "metadata": {},
   "outputs": [],
   "source": []
  },
  {
   "cell_type": "markdown",
   "metadata": {},
   "source": [
    "#### 86. Consider a set of p matrices wich shape (n,n) and a set of p vectors with shape (n,1). How to compute the sum of of the p matrix products at once? (result has shape (n,1)) (★★★)"
   ]
  },
  {
   "cell_type": "code",
   "execution_count": 5,
   "metadata": {
    "tags": []
   },
   "outputs": [
    {
     "output_type": "stream",
     "name": "stdout",
     "text": "[[200.]\n [200.]\n [200.]\n [200.]\n [200.]\n [200.]\n [200.]\n [200.]\n [200.]\n [200.]\n [200.]\n [200.]\n [200.]\n [200.]\n [200.]\n [200.]\n [200.]\n [200.]\n [200.]\n [200.]]\n"
    }
   ],
   "source": [
    "p, n = 10, 20\n",
    "M = np.ones((p,n,n))\n",
    "V = np.ones((p,n,1))\n",
    "S = np.tensordot(M, V, axes=[[0, 2], [0, 1]])\n",
    "print(S)\n",
    "\n",
    "# It works, because:\n",
    "# M is (p,n,n)\n",
    "# V is (p,n,1)\n",
    "# Thus, summing over the paired axes 0 and 0 (of M and V independently),\n",
    "# and 2 and 1, to remain with a (n,1) vector."
   ]
  },
  {
   "cell_type": "markdown",
   "metadata": {},
   "source": [
    "#### 87. Consider a 16x16 array, how to get the block-sum (block size is 4x4)? (★★★)"
   ]
  },
  {
   "cell_type": "code",
   "execution_count": 15,
   "metadata": {
    "tags": []
   },
   "outputs": [
    {
     "output_type": "stream",
     "name": "stdout",
     "text": "[ 0  4  8 12]\n\n[[16. 16. 16. 16.]\n [16. 16. 16. 16.]\n [16. 16. 16. 16.]\n [16. 16. 16. 16.]]\n\n[ 0  5 10 15]\n\n[[25. 25. 25.  5.]\n [25. 25. 25.  5.]\n [25. 25. 25.  5.]\n [ 5.  5.  5.  1.]]\n"
    }
   ],
   "source": [
    "x = np.random.rand(16,16)\n",
    "\n",
    "Z = np.ones((16,16))\n",
    "k = 4\n",
    "S = np.add.reduceat(np.add.reduceat(Z, np.arange(0, Z.shape[0], k), axis=0),\n",
    "                    np.arange(0, Z.shape[1], k), axis=1)\n",
    "\n",
    "print(np.arange(0, Z.shape[0], k))\n",
    "print()\n",
    "\n",
    "print(S)\n",
    "print()\n",
    "\n",
    "k = 5\n",
    "print(np.arange(0, Z.shape[0], k))\n",
    "print()\n",
    "S = np.add.reduceat(np.add.reduceat(Z, np.arange(0, Z.shape[0], k), axis=0),\n",
    "                                       np.arange(0, Z.shape[1], k), axis=1)\n",
    "print(S)\n",
    "\n"
   ]
  },
  {
   "cell_type": "markdown",
   "metadata": {},
   "source": [
    "#### 88. How to implement the Game of Life using numpy arrays? (★★★)"
   ]
  },
  {
   "cell_type": "markdown",
   "metadata": {},
   "source": [
    "At each step in time, the following transitions occur:\n",
    "* Any live cell with fewer than two live neighbours dies, as if by underpopulation.\n",
    "* Any live cell with two or three live neighbours lives on to the next generation.\n",
    "* Any live cell with more than three live neighbours dies, as if by overpopulation.\n",
    "* Any dead cell with exactly three live neighbours becomes a live cell, as if by reproduction.\n",
    "\n",
    "These rules, which compare the behavior of the automaton to real life, can be condensed into the following:\n",
    "* Any live cell with two or three live neighbours survives.\n",
    "* Any dead cell with three live neighbours becomes a live cell.\n",
    "* All other live cells die in the next generation. Similarly, all other dead cells stay dead.\n",
    "\n",
    "The initial pattern constitutes the seed of the system."
   ]
  },
  {
   "cell_type": "code",
   "execution_count": 23,
   "metadata": {},
   "outputs": [
    {
     "output_type": "error",
     "ename": "TypeError",
     "evalue": "unsupported operand type(s) for |: 'list' and 'list'",
     "traceback": [
      "\u001b[1;31m---------------------------------------------------------------------------\u001b[0m",
      "\u001b[1;31mTypeError\u001b[0m                                 Traceback (most recent call last)",
      "\u001b[1;32m<ipython-input-23-2641818b2592>\u001b[0m in \u001b[0;36m<module>\u001b[1;34m()\u001b[0m\n\u001b[1;32m----> 1\u001b[1;33m \u001b[1;33m[\u001b[0m\u001b[1;36m0\u001b[0m\u001b[1;33m,\u001b[0m \u001b[1;36m1\u001b[0m\u001b[1;33m,\u001b[0m \u001b[1;36m0\u001b[0m\u001b[1;33m]\u001b[0m \u001b[1;33m|\u001b[0m \u001b[1;33m[\u001b[0m\u001b[1;36m1\u001b[0m\u001b[1;33m,\u001b[0m \u001b[1;36m0\u001b[0m \u001b[1;33m,\u001b[0m \u001b[1;36m0\u001b[0m\u001b[1;33m]\u001b[0m\u001b[1;33m\u001b[0m\u001b[0m\n\u001b[0m",
      "\u001b[1;31mTypeError\u001b[0m: unsupported operand type(s) for |: 'list' and 'list'"
     ]
    }
   ],
   "source": [
    "[0, 1, 0] | [1, 0 , 0]"
   ]
  },
  {
   "cell_type": "code",
   "execution_count": 28,
   "metadata": {},
   "outputs": [
    {
     "output_type": "execute_result",
     "data": {
      "text/plain": "array([[[0., 0., 0., 0., 0.],\n        [0., 0., 0., 0., 0.],\n        [0., 0., 0., 0., 0.]],\n\n       [[1., 1., 1., 1., 1.],\n        [1., 1., 1., 1., 1.],\n        [1., 1., 1., 1., 1.]]])"
     },
     "metadata": {},
     "execution_count": 28
    }
   ],
   "source": [
    "x = np.ones([2,3,5])\n",
    "\n",
    "x[0,...] = 0\n",
    "\n",
    "x"
   ]
  },
  {
   "cell_type": "code",
   "execution_count": 29,
   "metadata": {
    "tags": []
   },
   "outputs": [
    {
     "output_type": "stream",
     "name": "stdout",
     "text": "[[0 0 0 0 0 0 0 0 0 0 0 0 0 0 0]\n [0 0 0 0 0 0 0 0 0 0 0 0 0 0 0]\n [0 0 0 0 0 0 0 0 0 0 0 0 0 0 0]\n [0 0 0 0 0 0 0 0 0 0 0 0 0 0 0]\n [0 0 0 0 0 0 0 0 0 0 0 1 1 0 0]\n [0 0 0 0 0 0 0 0 0 0 0 1 1 0 0]\n [0 0 0 0 0 0 0 0 0 0 0 0 0 0 0]\n [0 0 0 0 0 0 0 0 0 0 0 0 0 0 0]\n [0 0 0 0 0 0 0 0 0 0 0 0 0 0 0]\n [0 0 0 0 0 0 0 0 0 0 0 0 0 0 0]\n [0 0 0 0 0 0 0 0 0 0 0 0 0 0 0]\n [0 0 0 0 0 0 0 0 0 0 0 0 0 0 0]\n [0 0 0 0 0 0 0 0 0 0 0 0 0 0 0]\n [0 0 0 0 0 0 0 0 0 0 0 0 0 0 0]\n [0 0 0 0 0 0 0 0 0 0 0 0 0 0 0]]\n"
    }
   ],
   "source": [
    "\n",
    "def iterate(Z):\n",
    "    \"\"\"\n",
    "    Iterate function to calculate \n",
    "    :param Z: complete map\n",
    "    \"\"\"\n",
    "    # Count neighbours\n",
    "    N = (Z[0:-2,0:-2] + Z[0:-2,1:-1] + Z[0:-2,2:] +\n",
    "         Z[1:-1,0:-2]                + Z[1:-1,2:] +\n",
    "         Z[2:  ,0:-2] + Z[2:  ,1:-1] + Z[2:  ,2:])\n",
    "    # esta es la suma de la superposición de posiciones desplazadas, con lo cual realmente se estarían contado la cantidad de vecinos para una posición específica (x,y)\n",
    "\n",
    "    # Apply rules\n",
    "    birth = (N==3) & (Z[1:-1,1:-1]==0)\n",
    "    survive = ((N==2) | (N==3)) & (Z[1:-1,1:-1]==1)\n",
    "    Z[...] = 0\n",
    "    Z[1:-1,1:-1][birth | survive] = 1\n",
    "    \n",
    "    return Z\n",
    "\n",
    "\n",
    "# 2D map with automatas. Two posible values allowed {0,1}. Size 50x50\n",
    "Z = np.random.randint(0, 2, (15,15))\n",
    "\n",
    "\n",
    "for i in range(100): \n",
    "    Z = iterate(Z)\n",
    "\n",
    "print(Z)"
   ]
  },
  {
   "cell_type": "markdown",
   "metadata": {},
   "source": [
    "#### 89. How to get the n largest values of an array (★★★)"
   ]
  },
  {
   "cell_type": "code",
   "execution_count": 32,
   "metadata": {
    "tags": []
   },
   "outputs": [
    {
     "output_type": "stream",
     "name": "stdout",
     "text": "[999995 999996 999997 999998 999999]\nWall time: 122 ms\n[999998 999999 999997 999996 999995]\nWall time: 14 ms\n"
    }
   ],
   "source": [
    "N = 10**6\n",
    "Z = np.arange(N+)\n",
    "np.random.shuffle(Z)\n",
    "n = 5\n",
    "\n",
    "# Slow\n",
    "%time print (Z[np.argsort(Z)[-n:]])\n",
    "\n",
    "# Fast\n",
    "%time print (Z[np.argpartition(-Z,n)[:n]])"
   ]
  },
  {
   "cell_type": "markdown",
   "metadata": {},
   "source": [
    "#### 90. Given an arbitrary number of vectors, build the cartesian product (every combinations of every item) (★★★)"
   ]
  },
  {
   "cell_type": "code",
   "execution_count": 33,
   "metadata": {
    "tags": []
   },
   "outputs": [
    {
     "output_type": "stream",
     "name": "stdout",
     "text": "[[1 4 6]\n [1 4 7]\n [1 5 6]\n [1 5 7]\n [2 4 6]\n [2 4 7]\n [2 5 6]\n [2 5 7]\n [3 4 6]\n [3 4 7]\n [3 5 6]\n [3 5 7]]\n"
    }
   ],
   "source": [
    "def cartesian(arrays):\n",
    "    arrays = [np.asarray(a) for a in arrays]\n",
    "    shape = (len(x) for x in arrays)\n",
    "\n",
    "    ix = np.indices(shape, dtype=int)\n",
    "    ix = ix.reshape(len(arrays), -1).T\n",
    "\n",
    "    for n, arr in enumerate(arrays):\n",
    "        ix[:, n] = arrays[n][ix[:, n]]\n",
    "\n",
    "    return ix\n",
    "\n",
    "print (cartesian(([1, 2, 3], [4, 5], [6, 7])))"
   ]
  },
  {
   "cell_type": "markdown",
   "metadata": {},
   "source": [
    "Save and commit your work"
   ]
  },
  {
   "cell_type": "code",
   "execution_count": 20,
   "metadata": {},
   "outputs": [],
   "source": [
    "import jovian"
   ]
  },
  {
   "cell_type": "code",
   "execution_count": 21,
   "metadata": {},
   "outputs": [
    {
     "data": {
      "application/javascript": [
       "window.require && require([\"base/js/namespace\"],function(Jupyter){Jupyter.notebook.save_checkpoint()})"
      ],
      "text/plain": [
       "<IPython.core.display.Javascript object>"
      ]
     },
     "metadata": {},
     "output_type": "display_data"
    },
    {
     "name": "stdout",
     "output_type": "stream",
     "text": [
      "[jovian] Attempting to save notebook..\u001b[0m\n",
      "[jovian] Updating notebook \"aakashns/numpy-100-exercises\" on https://jovian.ml/\u001b[0m\n",
      "[jovian] Uploading notebook..\u001b[0m\n",
      "[jovian] Capturing environment..\u001b[0m\n",
      "[jovian] Committed successfully! https://jovian.ml/aakashns/numpy-100-exercises\u001b[0m\n"
     ]
    },
    {
     "data": {
      "text/plain": [
       "'https://jovian.ml/aakashns/numpy-100-exercises'"
      ]
     },
     "execution_count": 21,
     "metadata": {},
     "output_type": "execute_result"
    }
   ],
   "source": [
    "#jovian.commit(user='leosf', filename='100-numpy-exercises.ipynb', project='week3_ntk2_100-numpy-exercises')"
   ]
  },
  {
   "cell_type": "markdown",
   "metadata": {},
   "source": [
    "#### 91. How to create a record array from a regular array? (★★★)"
   ]
  },
  {
   "cell_type": "code",
   "execution_count": 3,
   "metadata": {},
   "outputs": [],
   "source": [
    "import numpy as np"
   ]
  },
  {
   "cell_type": "code",
   "execution_count": 5,
   "metadata": {
    "tags": []
   },
   "outputs": [
    {
     "output_type": "stream",
     "name": "stdout",
     "text": "[(b'Hello', 2.5, 3) (b'World', 3.6, 2)]\n"
    }
   ],
   "source": [
    "Z = np.array([(\"Hello\", 2.5, 3),\n",
    "              (\"World\", 3.6, 2)])\n",
    "              \n",
    "R = np.core.records.fromarrays(Z.T,\n",
    "                               names='col1, col2, col3',\n",
    "                               formats = 'S8, f8, i8')\n",
    "print(R)"
   ]
  },
  {
   "cell_type": "markdown",
   "metadata": {},
   "source": [
    "#### 92. Consider a large vector Z, compute Z to the power of 3 using 3 different methods (★★★)"
   ]
  },
  {
   "cell_type": "markdown",
   "metadata": {},
   "source": [
    "https://numpy.org/doc/stable/reference/generated/numpy.einsum.html"
   ]
  },
  {
   "cell_type": "code",
   "execution_count": 6,
   "metadata": {
    "tags": []
   },
   "outputs": [
    {
     "output_type": "stream",
     "name": "stdout",
     "text": "2.07 s ± 40.5 ms per loop (mean ± std. dev. of 7 runs, 1 loop each)\n524 ms ± 8.37 ms per loop (mean ± std. dev. of 7 runs, 1 loop each)\n319 ms ± 17.9 ms per loop (mean ± std. dev. of 7 runs, 1 loop each)\n"
    }
   ],
   "source": [
    "N = 5e7\n",
    "\n",
    "x = np.random.rand(int(N))\n",
    "\n",
    "%timeit np.power(x,3)\n",
    "%timeit x*x*x\n",
    "%timeit np.einsum('i,i,i->i',x,x,x)"
   ]
  },
  {
   "cell_type": "markdown",
   "metadata": {},
   "source": [
    "#### 93. Consider two arrays A and B of shape (8,3) and (2,2). How to find rows of A that contain elements of each row of B regardless of the order of the elements in B? (★★★)"
   ]
  },
  {
   "cell_type": "code",
   "execution_count": 8,
   "metadata": {
    "tags": []
   },
   "outputs": [
    {
     "output_type": "stream",
     "name": "stdout",
     "text": "[6]\n"
    }
   ],
   "source": [
    "A = np.random.randint(0, 5, (8,3))\n",
    "B = np.random.randint(0, 5, (2,2))\n",
    "\n",
    "C = (A[..., np.newaxis, np.newaxis] == B)\n",
    "rows = np.where(C.any((3, 1)).all(1))[0]\n",
    "print(rows)"
   ]
  },
  {
   "cell_type": "markdown",
   "metadata": {},
   "source": [
    "#### 94. Considering a 10x3 matrix, extract rows with unequal values (e.g. [2,2,3]) (★★★)"
   ]
  },
  {
   "cell_type": "code",
   "execution_count": 17,
   "metadata": {
    "tags": []
   },
   "outputs": [
    {
     "output_type": "stream",
     "name": "stdout",
     "text": "[[2 2 2]\n [2 1 4]\n [1 3 3]\n [1 1 2]\n [1 4 0]\n [3 3 3]\n [1 2 4]\n [3 3 4]\n [2 3 4]\n [1 1 0]]\n\n[[2 1 4]\n [1 3 3]\n [1 1 2]\n [1 4 0]\n [1 2 4]\n [3 3 4]\n [2 3 4]\n [1 1 0]]\n\n[[2 1 4]\n [1 3 3]\n [1 1 2]\n [1 4 0]\n [1 2 4]\n [3 3 4]\n [2 3 4]\n [1 1 0]]\n"
    }
   ],
   "source": [
    "Z = np.random.randint(0,5,(10,3))\n",
    "Z[0] = [2,2,2]\n",
    "print(Z)\n",
    "print()\n",
    "\n",
    "# solution for arrays of all dtypes (including string arrays and record arrays)\n",
    "E = np.all(Z[:,1:] == Z[:,:-1], axis=1)\n",
    "U = Z[~E]\n",
    "print(U)\n",
    "print()\n",
    "\n",
    "# soluiton for numerical arrays only, will work for any number of columns in Z\n",
    "U = Z[Z.max(axis=1) != Z.min(axis=1),:]\n",
    "print(U)"
   ]
  },
  {
   "cell_type": "markdown",
   "metadata": {},
   "source": [
    "#### 95. Convert a vector of ints into a matrix binary representation (★★★)"
   ]
  },
  {
   "cell_type": "code",
   "execution_count": 5,
   "metadata": {
    "tags": []
   },
   "outputs": [
    {
     "output_type": "stream",
     "name": "stdout",
     "text": "[[0 0 0 0 0 0 0 0]\n [0 0 0 0 0 0 0 1]\n [0 0 0 0 0 0 1 0]\n [0 0 0 0 0 0 1 1]\n [0 0 0 0 1 1 1 1]\n [0 0 0 1 0 0 0 0]\n [0 0 1 0 0 0 0 0]\n [0 1 0 0 0 0 0 0]\n [1 0 0 0 0 0 0 0]]\n\n[[0 0 0 0 0 0 0 0]\n [0 0 0 0 0 0 0 1]\n [0 0 0 0 0 0 1 0]\n [0 0 0 0 0 0 1 1]\n [0 0 0 0 1 1 1 1]\n [0 0 0 1 0 0 0 0]\n [0 0 1 0 0 0 0 0]\n [0 1 0 0 0 0 0 0]\n [1 0 0 0 0 0 0 0]]\n"
    }
   ],
   "source": [
    "#method 1\n",
    "I = np.array([0, 1, 2, 3, 15, 16, 32, 64, 128])\n",
    "B = ((I.reshape(-1,1) & (2**np.arange(8))) != 0).astype(int)\n",
    "print(B[:,::-1])\n",
    "print()\n",
    "\n",
    "#method 2\n",
    "I = np.array([0, 1, 2, 3, 15, 16, 32, 64, 128], dtype=np.uint8)\n",
    "print(np.unpackbits(I[:, np.newaxis], axis=1))"
   ]
  },
  {
   "cell_type": "markdown",
   "metadata": {},
   "source": [
    "#### 96. Given a two dimensional array, how to extract unique rows? (★★★)"
   ]
  },
  {
   "cell_type": "code",
   "execution_count": 2,
   "metadata": {},
   "outputs": [],
   "source": [
    "import numpy as np"
   ]
  },
  {
   "cell_type": "code",
   "execution_count": 4,
   "metadata": {
    "tags": []
   },
   "outputs": [
    {
     "output_type": "stream",
     "name": "stdout",
     "text": "[[0 1 0]\n [0 1 1]\n [1 0 0]\n [1 0 1]\n [1 1 1]]\n\n[[0 1 0]\n [0 1 1]\n [1 0 0]\n [1 0 1]\n [1 1 1]]\n"
    }
   ],
   "source": [
    "# one option\n",
    "Z = np.random.randint(0,2,(6,3))\n",
    "T = np.ascontiguousarray(Z).view(np.dtype((np.void, Z.dtype.itemsize * Z.shape[1])))\n",
    "_, idx = np.unique(T, return_index=True)\n",
    "uZ = Z[idx]\n",
    "print(uZ)\n",
    "print()\n",
    "\n",
    "# another method\n",
    "uZ = np.unique(Z, axis=0)\n",
    "print(uZ)"
   ]
  },
  {
   "cell_type": "markdown",
   "metadata": {},
   "source": [
    "#### 97. Considering 2 vectors A & B, write the einsum equivalent of inner, outer, sum, and mul function (★★★)"
   ]
  },
  {
   "cell_type": "code",
   "execution_count": 5,
   "metadata": {},
   "outputs": [
    {
     "output_type": "execute_result",
     "data": {
      "text/plain": "array([[0.19685814, 0.04222223, 0.22166862, 0.3172623 , 0.6521971 ,\n        0.42809783, 0.17176822, 0.10653328, 0.63911318, 0.70338479],\n       [0.05153251, 0.01105272, 0.05802727, 0.08305128, 0.17072879,\n        0.11206524, 0.0449646 , 0.02788773, 0.16730374, 0.18412843],\n       [0.22650663, 0.04858125, 0.25505377, 0.36504466, 0.75042346,\n        0.49257295, 0.19763795, 0.12257808, 0.73536898, 0.80932043],\n       [0.09281968, 0.01990801, 0.10451795, 0.14959089, 0.30751446,\n        0.20185044, 0.08098964, 0.05023102, 0.30134531, 0.33164972],\n       [0.14189066, 0.03043278, 0.15977346, 0.2286751 , 0.47008813,\n        0.30856271, 0.12380644, 0.07678665, 0.46065755, 0.50698299],\n       [0.06576559, 0.01410544, 0.07405418, 0.10598974, 0.21788344,\n        0.14301723, 0.05738365, 0.03559022, 0.21351241, 0.23498401],\n       [0.14982307, 0.03213413, 0.16870561, 0.24145921, 0.49636846,\n        0.32581295, 0.13072785, 0.08107941, 0.48641066, 0.53532593],\n       [0.17718375, 0.03800246, 0.19951463, 0.28555448, 0.58701525,\n        0.3853129 , 0.15460137, 0.09588613, 0.57523896, 0.63308714],\n       [0.08639509, 0.01853006, 0.09728366, 0.13923684, 0.28622962,\n        0.18787921, 0.07538389, 0.04675424, 0.28048748, 0.30869435],\n       [0.11138752, 0.02389045, 0.12542594, 0.17951536, 0.36903029,\n        0.24222902, 0.09719098, 0.06027933, 0.36162706, 0.39799363]])"
     },
     "metadata": {},
     "execution_count": 5
    }
   ],
   "source": [
    "A = np.random.uniform(0,1,10)\n",
    "B = np.random.uniform(0,1,10)\n",
    "\n",
    "np.einsum('i->', A)       # np.sum(A)\n",
    "np.einsum('i,i->i', A, B) # A * B\n",
    "np.einsum('i,i', A, B)    # np.inner(A, B)\n",
    "np.einsum('i,j->ij', A, B)    # np.outer(A, B)"
   ]
  },
  {
   "cell_type": "markdown",
   "metadata": {},
   "source": [
    "#### 98. Considering a path described by two vectors (X,Y), how to sample it using equidistant samples (★★★)?"
   ]
  },
  {
   "source": [
    "numpy.diff(a, n=1, axis=-1, prepend=<no value>, append=<no value>)  \n",
    "Calculate the n-th discrete difference along the given axis.  \n",
    "The first difference is given by out\\[i] = a\\[i+1] - a\\[i] along the given axis, higher differences are calculated by using diff recursively.\n",
    "\n",
    "numpy.zeros_like  \n",
    "numpy.zeros_like(a, dtype=None, order='K', subok=True, shape=None)  \n",
    "Return an array of zeros with the same shape and type as a given array.  "
   ],
   "cell_type": "markdown",
   "metadata": {}
  },
  {
   "cell_type": "code",
   "execution_count": 16,
   "metadata": {
    "tags": []
   },
   "outputs": [
    {
     "output_type": "stream",
     "name": "stdout",
     "text": "[0.  0.1 0.2 0.3 0.4 0.5 0.6 0.7 0.8 0.9]\nlen(phi): 315 elements\n[0.         0.09950042 0.19601332 0.28660095 0.3684244  0.43879128\n 0.49520137 0.53538953 0.55736537 0.55944897]\n[0.         0.00998334 0.03973387 0.08865606 0.15576734 0.23971277\n 0.33878548 0.45095238 0.57388487 0.70499422]\n\n[ 0.          2.48788858  4.97577716  7.46366574  9.95155432 12.43944289\n 14.92733147 17.41522005 19.90310863 22.39099721]\n[ 0.         -0.37313123 -2.59817608 -3.2621205  -2.18442687 -0.02989299\n  2.42923642  4.54913599  5.92318348  6.35117933]\n[ 0.          1.74026724  0.98181658 -1.34251287 -3.53191891 -4.70449474\n -4.59573427 -3.3383187  -1.28956083  1.14234685]\n"
    }
   ],
   "source": [
    "phi = np.arange(0, 10*np.pi, 0.1)\n",
    "print(phi[0:10])\n",
    "print(\"len(phi): {} elements\".format(len(phi)))\n",
    "\n",
    "a = 1                       # magnitude\n",
    "x = a*phi*np.cos(phi)       # first vector\n",
    "y = a*phi*np.sin(phi)       # second vector\n",
    "\n",
    "print(x[0:10])\n",
    "print(y[0:10])\n",
    "\n",
    "dr = (np.diff(x)**2 + np.diff(y)**2)**.5    # segment lengths\n",
    "r = np.zeros_like(x)\n",
    "\n",
    "r[1:] = np.cumsum(dr)                       # integrate path\n",
    "r_int = np.linspace(0, r.max(), 200)        # regular spaced path\n",
    "x_int = np.interp(r_int, r, x)              # integrate path\n",
    "y_int = np.interp(r_int, r, y)\n",
    "\n",
    "print()\n",
    "print(r_int[0:10])\n",
    "print(x_int[0:10])\n",
    "print(y_int[0:10])"
   ]
  },
  {
   "cell_type": "markdown",
   "metadata": {},
   "source": [
    "#### 99. Given an integer n and a 2D array X, select from X the rows which can be interpreted as draws from a multinomial distribution with n degrees, i.e., the rows which only contain integers and which sum to n. (★★★)"
   ]
  },
  {
   "cell_type": "code",
   "execution_count": 19,
   "metadata": {
    "tags": []
   },
   "outputs": [
    {
     "output_type": "stream",
     "name": "stdout",
     "text": "[[2. 0. 1. 1.]]\n"
    }
   ],
   "source": [
    "# given solution\n",
    "\n",
    "X = np.asarray([[1.0, 0.0, 3.0, 8.0],\n",
    "                [2.0, 0.0, 1.0, 1.0],\n",
    "                [1.5, 2.5, 1.0, 0.0]])\n",
    "n = 4\n",
    "M = np.logical_and.reduce(np.mod(X, 1) == 0, axis=-1)\n",
    "M &= (X.sum(axis=-1) == n)\n",
    "print(X[M])"
   ]
  },
  {
   "cell_type": "markdown",
   "metadata": {},
   "source": [
    "#### 100. Compute bootstrapped 95% confidence intervals for the mean of a 1D array X (i.e., resample the elements of an array with replacement N times, compute the mean of each sample, and then compute percentiles over the means). (★★★)"
   ]
  },
  {
   "cell_type": "code",
   "execution_count": null,
   "metadata": {},
   "outputs": [],
   "source": []
  },
  {
   "cell_type": "markdown",
   "metadata": {},
   "source": [
    "Save and commit your work"
   ]
  },
  {
   "cell_type": "code",
   "execution_count": 22,
   "metadata": {},
   "outputs": [],
   "source": [
    "import jovian"
   ]
  },
  {
   "cell_type": "code",
   "execution_count": null,
   "metadata": {},
   "outputs": [
    {
     "data": {
      "application/javascript": [
       "window.require && require([\"base/js/namespace\"],function(Jupyter){Jupyter.notebook.save_checkpoint()})"
      ],
      "text/plain": [
       "<IPython.core.display.Javascript object>"
      ]
     },
     "metadata": {},
     "output_type": "display_data"
    },
    {
     "name": "stdout",
     "output_type": "stream",
     "text": [
      "[jovian] Attempting to save notebook..\u001b[0m\n"
     ]
    }
   ],
   "source": [
    "#jovian.commit(user='leosf', filename='100-numpy-exercises.ipynb', project='week3_ntk2_100-numpy-exercises')"
   ]
  },
  {
   "cell_type": "markdown",
   "metadata": {},
   "source": [
    "Congratulations on completing the 100 exercises, well done!\n",
    "\n",
    "#### What to do next?\n",
    "\n",
    "- Share your completed notebook on Facebook, LinkedIn or Twitter and challenge your friends.\n",
    "- Share your solutions and help others on the forum: https://jovian.ml/forum/t/100-numpy-exercises-hints-discussions-help/10561\n",
    "- Check out our course on \"Data Analysis with Python: Zero to Pandas\" - https://jovian.ml/learn/data-analysis-with-python-zero-to-pandas\n",
    "- Star this repository to show your appreciation for the original author of this notebook: https://github.com/rougier/numpy-100"
   ]
  }
 ],
 "metadata": {
  "kernelspec": {
   "display_name": "Python 3",
   "language": "python",
   "name": "python3"
  },
  "language_info": {
   "codemirror_mode": {
    "name": "ipython",
    "version": 3
   },
   "file_extension": ".py",
   "mimetype": "text/x-python",
   "name": "python",
   "nbconvert_exporter": "python",
   "pygments_lexer": "ipython3",
   "version": "3.6.4-final"
  }
 },
 "nbformat": 4,
 "nbformat_minor": 4
}