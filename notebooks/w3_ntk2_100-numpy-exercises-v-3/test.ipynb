{
 "metadata": {
  "language_info": {
   "codemirror_mode": {
    "name": "ipython",
    "version": 3
   },
   "file_extension": ".py",
   "mimetype": "text/x-python",
   "name": "python",
   "nbconvert_exporter": "python",
   "pygments_lexer": "ipython3",
   "version": "3.6.4-final"
  },
  "orig_nbformat": 2,
  "kernelspec": {
   "name": "python3",
   "display_name": "Python 3"
  }
 },
 "nbformat": 4,
 "nbformat_minor": 2,
 "cells": [
  {
   "cell_type": "code",
   "execution_count": 2,
   "metadata": {
    "tags": []
   },
   "outputs": [
    {
     "output_type": "stream",
     "name": "stdout",
     "text": "[1. 1. 1. 1. 1. 1. 1. 1. 1. 1.]\n[3, 1, 0, 4, 5, 9, 1, 5, 3, 1, 5, 3, 0, 3, 8, 8, 1, 4, 4, 2]\n\n[2 4 1 4 3 3 0 0 2 1 0 0]\n[2 4 1 4 3 3 0 0 2 1]\n\n[3. 5. 2. 5. 4. 4. 1. 1. 3. 2.]\n[3. 5. 2. 5. 4. 4. 1. 1. 3. 2.]\n"
    }
   ],
   "source": [
    "import numpy as np\n",
    "Z = np.ones(10)\n",
    "print(Z)\n",
    "#I = np.random.randint(0,len(Z),20)\n",
    "# making I constant to make the repeatable\n",
    "I = [3, 1, 0, 4, 5, 9, 1, 5, 3, 1, 5, 3 ,0, 3,8, 8, 1, 4, 4, 2]\n",
    "print(I)\n",
    "print()\n",
    "\n",
    "bins = np.bincount(I, minlength=12)\n",
    "print(bins)\n",
    "bins = np.bincount(I, minlength=10)\n",
    "print(bins)\n",
    "print()\n",
    "\n",
    "Z1 = Z + np.bincount(I, minlength=len(Z))\n",
    "print(Z1)\n",
    "Z2 = Z + np.bincount(I, minlength=1)\n",
    "print(Z2)"
   ]
  },
  {
   "cell_type": "code",
   "execution_count": null,
   "metadata": {},
   "outputs": [],
   "source": []
  }
 ]
}