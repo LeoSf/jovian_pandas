{
 "cells": [
  {
   "cell_type": "markdown",
   "metadata": {},
   "source": [
    "# Reading from and Writing to Files using Python\n",
    "\n",
    "### Part 5 of \"A Gentle Introduction to Programming with Python\"\n",
    "\n",
    "This tutorial is the fifth in a series on introduction to programming using the Python language. These tutorials take a practical coding-based approach, and the best way to learn the material is to execute the code and experiment with the examples. Check out the full series here: \n",
    "\n",
    "1. [First Steps with Python and Jupyter](https://jovian.ml/aakashns/first-steps-with-python)\n",
    "2. [A Quick Tour of Variables and Data Types](https://jovian.ml/aakashns/python-variables-and-data-types)\n",
    "3. [Branching using Conditional Statements and Loops](https://jovian.ml/aakashns/python-branching-and-loops)\n",
    "4. [Writing Reusable Code Using Functions](https://jovian.ml/aakashns/python-functions-and-scope)\n",
    "5. [Reading from and Writing to Files](https://jovian.ml/aakashns/python-os-and-filesystem)\n",
    "6. [Object Oriented Programming with Classes](https://jovian.ml/aakashns/python-object-oriented-programming)\n"
   ]
  },
  {
   "cell_type": "markdown",
   "metadata": {},
   "source": [
    "## How to run the code\n",
    "\n",
    "This tutorial hosted on [Jovian.ml](https://www.jovian.ml), a platform for sharing data science projects online. You can \"run\" this tutorial and experiment with the code examples in a couple of ways: *using free online resources* (recommended) or *on your own computer*.\n",
    "\n",
    ">  This tutorial is a [Jupyter notebook](https://jupyter.org) - a document made of \"cells\", which can contain explanations in text or code written in Python. Code cells can be executed and their outputs e.g. numbers, messages, graphs, tables, files etc. can be viewed within the notebook, which makes it a really powerful platform for experimentation and analysis. Don't afraid to experiment with the code & break things - you'll learn a lot by encoutering and fixing errors. You can use the \"Kernel > Restart & Clear Output\" menu option to clear all outputs and start again from the top of the notebook.\n",
    "\n",
    "### Option 1: Running using free online resources (1-click, recommended)\n",
    "\n",
    "The easiest way to start executing this notebook is to click the \"Run\" button at the top of this page, and select \"Run on Binder\". This will run the notebook on [mybinder.org](https://mybinder.org), a free online service for running Jupyter notebooks. You can also select \"Run on Colab\" or \"Run on Kaggle\", but you'll need to create an account on [Google Colab](https://colab.research.google.com) or [Kaggle](https://kaggle.com) to use these platforms.\n",
    "\n",
    "\n",
    "### Option 2: Running on your computer locally\n",
    "\n",
    "You'll need to install Python and download this notebook on your computer to run in locally. We recommend using the [Conda](https://docs.conda.io/en/latest/) distribution of Python. Here's what you need to do to get started:\n",
    "\n",
    "1. Install Conda by [following these instructions](https://conda.io/projects/conda/en/latest/user-guide/install/index.html). Make sure to add Conda binaries to your system `PATH` to be able to run the `conda` command line tool from your Mac/Linux terminal or Windows command prompt. \n",
    "\n",
    "\n",
    "2. Create and activate a [Conda virtual environment](https://docs.conda.io/projects/conda/en/latest/user-guide/tasks/manage-environments.html) called `intro-to-python` which you can use for this tutorial series:\n",
    "```\n",
    "conda create -n intro-to-python -y python=3.8 \n",
    "conda activate intro-to-python\n",
    "```\n",
    "You'll need to create the environment only once, but you'll have to activate it every time want to run the notebook. When the environment is activated, you should be able to see a prefix `(intro-to-python)` within your terminal or command prompt.\n",
    "\n",
    "\n",
    "3. Install the required Python libraries within the environmebt by the running the following command on your  terminal or command prompt:\n",
    "```\n",
    "pip install jovian jupyter numpy pandas matplotlib seaborn --upgrade\n",
    "```\n",
    "\n",
    "4. Download the notebook for this tutorial using the `jovian clone` command:\n",
    "```\n",
    "jovian clone aakashns/python-os-and-filesystem\n",
    "```\n",
    "The notebook is downloaded to the directory `python-os-and-filesystem`.\n",
    "\n",
    "\n",
    "5. Enter the project directory and start the Jupyter notebook:\n",
    "```\n",
    "cd python-os-and-filesystem\n",
    "jupyter notebook\n",
    "```\n",
    "\n",
    "6. You can now access Jupyter's web interface by clicking the link that shows up on the terminal or by visiting http://localhost:8888 on your browser. Click on the notebook `python-os-and-filesystem.ipynb` to open it and run the code. If you want to type out the code yourself, you can also create a new notebook using the \"New\" button.\n",
    "\n",
    "\n"
   ]
  },
  {
   "cell_type": "markdown",
   "metadata": {},
   "source": [
    "## Interacting with the OS and filesystem\n",
    "\n",
    "The `os` module in Python provides many functions for interacting with the OS and the filesystem. Let's import it and try out some examples."
   ]
  },
  {
   "cell_type": "code",
   "execution_count": 1,
   "metadata": {},
   "outputs": [],
   "source": [
    "import os"
   ]
  },
  {
   "cell_type": "markdown",
   "metadata": {},
   "source": [
    "We can check the present working directory using the `os.getcwd` function."
   ]
  },
  {
   "cell_type": "code",
   "execution_count": 2,
   "metadata": {},
   "outputs": [
    {
     "output_type": "execute_result",
     "data": {
      "text/plain": "'d:\\\\Repos\\\\PhD\\\\2020_jovian_data_analysis\\\\notebooks\\\\w2_ntk4_python-os-and-filesystem-v-3'"
     },
     "metadata": {},
     "execution_count": 2
    }
   ],
   "source": [
    "os.getcwd()"
   ]
  },
  {
   "cell_type": "markdown",
   "metadata": {},
   "source": [
    "To get the list of files in a directory, use `os.listdir`. You pass an absolute or relative path of a directory as the argument to the function."
   ]
  },
  {
   "cell_type": "code",
   "execution_count": 3,
   "metadata": {
    "tags": []
   },
   "outputs": [
    {
     "output_type": "stream",
     "name": "stdout",
     "text": "Help on built-in function listdir in module nt:\n\nlistdir(path=None)\n    Return a list containing the names of the files in the directory.\n    \n    path can be specified as either str or bytes.  If path is bytes,\n      the filenames returned will also be bytes; in all other circumstances\n      the filenames returned will be str.\n    If path is None, uses the path='.'.\n    On some platforms, path may also be specified as an open file descriptor;\\\n      the file descriptor must refer to a directory.\n      If this functionality is unavailable, using it raises NotImplementedError.\n    \n    The list is in arbitrary order.  It does not include the special\n    entries '.' and '..' even if they are present in the directory.\n\n"
    }
   ],
   "source": [
    "help(os.listdir)"
   ]
  },
  {
   "cell_type": "code",
   "execution_count": 4,
   "metadata": {},
   "outputs": [
    {
     "output_type": "execute_result",
     "data": {
      "text/plain": "['python-os-and-filesystem.ipynb']"
     },
     "metadata": {},
     "execution_count": 4
    }
   ],
   "source": [
    "os.listdir('.') # relative path"
   ]
  },
  {
   "cell_type": "code",
   "execution_count": 6,
   "metadata": {},
   "outputs": [
    {
     "output_type": "execute_result",
     "data": {
      "text/plain": "['w1_ntk1_first-steps-with-python-v-6',\n 'w1_ntk4_python-functions-and-scope-v-2',\n 'w2_ntk1_python-variables-and-data-types-v-5',\n 'w2_ntk2_python-branching-and-loops-v-5',\n 'w2_ntk3_python-functions-and-scope-v-9',\n 'w2_ntk4_python-os-and-filesystem-v-3']"
     },
     "metadata": {},
     "execution_count": 6
    }
   ],
   "source": [
    "#os.listdir('/usr') # absolute path\n",
    "os.listdir('d:\\\\Repos\\\\PhD\\\\2020_jovian_data_analysis\\\\notebooks')\n"
   ]
  },
  {
   "cell_type": "markdown",
   "metadata": {},
   "source": [
    "A new directory can be created using `os.makedirs`. Let's create a new directory called `data`, where we'll later download some files."
   ]
  },
  {
   "cell_type": "code",
   "execution_count": 9,
   "metadata": {},
   "outputs": [],
   "source": [
    "os.makedirs('./data', exist_ok=True)"
   ]
  },
  {
   "cell_type": "markdown",
   "metadata": {},
   "source": [
    "Can you figure out what the argument `exist_ok` does? Try using the `help` function or [read the documentation](https://docs.python.org/3/library/os.html#os.makedirs).\n",
    "\n",
    "Let's verify that the directory was in fact, created, and is currently empty."
   ]
  },
  {
   "cell_type": "code",
   "execution_count": 10,
   "metadata": {},
   "outputs": [
    {
     "output_type": "execute_result",
     "data": {
      "text/plain": "True"
     },
     "metadata": {},
     "execution_count": 10
    }
   ],
   "source": [
    "'data' in os.listdir('.')"
   ]
  },
  {
   "cell_type": "code",
   "execution_count": 11,
   "metadata": {},
   "outputs": [
    {
     "output_type": "execute_result",
     "data": {
      "text/plain": "[]"
     },
     "metadata": {},
     "execution_count": 11
    }
   ],
   "source": [
    "os.listdir('./data')"
   ]
  },
  {
   "cell_type": "markdown",
   "metadata": {},
   "source": [
    "Let us download some files into the `data` directory using the `urllib` module."
   ]
  },
  {
   "cell_type": "code",
   "execution_count": 12,
   "metadata": {},
   "outputs": [],
   "source": [
    "url1 = 'https://hub.jovian.ml/wp-content/uploads/2020/08/loans1.txt'\n",
    "url2 = 'https://hub.jovian.ml/wp-content/uploads/2020/08/loans2.txt'\n",
    "url3 = 'https://hub.jovian.ml/wp-content/uploads/2020/08/loans3.txt'"
   ]
  },
  {
   "cell_type": "code",
   "execution_count": 13,
   "metadata": {},
   "outputs": [],
   "source": [
    "import urllib.request"
   ]
  },
  {
   "cell_type": "code",
   "execution_count": 14,
   "metadata": {},
   "outputs": [
    {
     "output_type": "execute_result",
     "data": {
      "text/plain": "('./data/loans1.txt', <http.client.HTTPMessage at 0x269752c6160>)"
     },
     "metadata": {},
     "execution_count": 14
    }
   ],
   "source": [
    "urllib.request.urlretrieve(url1, './data/loans1.txt')"
   ]
  },
  {
   "cell_type": "code",
   "execution_count": 15,
   "metadata": {},
   "outputs": [
    {
     "output_type": "execute_result",
     "data": {
      "text/plain": "('./data/loans2.txt', <http.client.HTTPMessage at 0x269752c63c8>)"
     },
     "metadata": {},
     "execution_count": 15
    }
   ],
   "source": [
    "urllib.request.urlretrieve(url2, './data/loans2.txt')"
   ]
  },
  {
   "cell_type": "code",
   "execution_count": 16,
   "metadata": {},
   "outputs": [
    {
     "output_type": "execute_result",
     "data": {
      "text/plain": "('./data/loans3.txt', <http.client.HTTPMessage at 0x269752c6630>)"
     },
     "metadata": {},
     "execution_count": 16
    }
   ],
   "source": [
    "urllib.request.urlretrieve(url3, './data/loans3.txt')"
   ]
  },
  {
   "cell_type": "markdown",
   "metadata": {},
   "source": [
    "Let's verify that the files were downloaded."
   ]
  },
  {
   "cell_type": "code",
   "execution_count": 18,
   "metadata": {},
   "outputs": [
    {
     "output_type": "execute_result",
     "data": {
      "text/plain": "['loans1.txt', 'loans2.txt', 'loans3.txt']"
     },
     "metadata": {},
     "execution_count": 18
    }
   ],
   "source": [
    "os.listdir('./data')"
   ]
  },
  {
   "cell_type": "markdown",
   "metadata": {},
   "source": [
    "### Reading from a file \n",
    "\n",
    "To read the contents of a file, we first need to open the file using the built-in `open` function. The `open` function returns a file object, provides several methods for interacting with the contents of the file. It also accepts a `mode` argument"
   ]
  },
  {
   "cell_type": "code",
   "execution_count": 19,
   "metadata": {},
   "outputs": [],
   "source": [
    "file1 = open('./data/loans1.txt', mode='r')"
   ]
  },
  {
   "cell_type": "markdown",
   "metadata": {},
   "source": [
    "The `open` function also accepts a `mode` argument to specifies how we can interact with the file. The following options are supported:\n",
    "\n",
    "```\n",
    "    ========= ===============================================================\n",
    "    Character Meaning\n",
    "    --------- ---------------------------------------------------------------\n",
    "    'r'       open for reading (default)\n",
    "    'w'       open for writing, truncating the file first\n",
    "    'x'       create a new file and open it for writing\n",
    "    'a'       open for writing, appending to the end of the file if it exists\n",
    "    'b'       binary mode\n",
    "    't'       text mode (default)\n",
    "    '+'       open a disk file for updating (reading and writing)\n",
    "    'U'       universal newline mode (deprecated)\n",
    "    ========= ===============================================================\n",
    "```\n",
    "\n",
    "To view the contents of the file we can use the `read` method of the file object."
   ]
  },
  {
   "cell_type": "code",
   "execution_count": 20,
   "metadata": {},
   "outputs": [],
   "source": [
    "file1_contents = file1.read()"
   ]
  },
  {
   "cell_type": "code",
   "execution_count": 21,
   "metadata": {
    "tags": []
   },
   "outputs": [
    {
     "output_type": "stream",
     "name": "stdout",
     "text": "amount,duration,rate,down_payment\n100000,36,0.08,20000\n200000,12,0.1,\n628400,120,0.12,100000\n4637400,240,0.06,\n42900,90,0.07,8900\n916000,16,0.13,\n45230,48,0.08,4300\n991360,99,0.08,\n423000,27,0.09,47200\n"
    }
   ],
   "source": [
    "print(file1_contents)"
   ]
  },
  {
   "cell_type": "markdown",
   "metadata": {},
   "source": [
    "The file contains information about loans. It is a set of comma-separated values (CSV). \n",
    "\n",
    "> **CSVs**: A comma-separated values (CSV) file is a delimited text file that uses a comma to separate values. Each line of the file is a data record. Each record consists of one or more fields, separated by commas. A CSV file typically stores tabular data (numbers and text) in plain text, in which case each line will have the same number of fields. (Wikipedia)\n",
    "\n",
    "The first line of the file is the header, which indicates what each of the numbers on the remaining lines represent. Each of the remaining lines provides information about a loan. Thus, the second line `10000,36,0.08,20000` represents a loan with:\n",
    "\n",
    "* an *amount* of `$10000`, \n",
    "* *duration* of `36` months, \n",
    "* *rate of interest* of `8%` per annum, and \n",
    "* a down payment of `$20000`\n",
    "\n",
    "The CSV is a common file format used for sharing data for analysis and visualization. Over the course of this tutorial, we will read the data from these CSV files, process it, and write the results back to files. Before we continue, let's close the file using the `close` method (otherwise Python will continue to hold the entire file in the RAM)"
   ]
  },
  {
   "cell_type": "code",
   "execution_count": 22,
   "metadata": {},
   "outputs": [],
   "source": [
    "file1.close()"
   ]
  },
  {
   "cell_type": "markdown",
   "metadata": {},
   "source": [
    "Once a file is closed, it can no longer be read."
   ]
  },
  {
   "cell_type": "code",
   "execution_count": 23,
   "metadata": {},
   "outputs": [
    {
     "output_type": "error",
     "ename": "ValueError",
     "evalue": "I/O operation on closed file.",
     "traceback": [
      "\u001b[1;31m---------------------------------------------------------------------------\u001b[0m",
      "\u001b[1;31mValueError\u001b[0m                                Traceback (most recent call last)",
      "\u001b[1;32m<ipython-input-23-2fcf3b5e742f>\u001b[0m in \u001b[0;36m<module>\u001b[1;34m()\u001b[0m\n\u001b[1;32m----> 1\u001b[1;33m \u001b[0mfile1\u001b[0m\u001b[1;33m.\u001b[0m\u001b[0mread\u001b[0m\u001b[1;33m(\u001b[0m\u001b[1;33m)\u001b[0m\u001b[1;33m\u001b[0m\u001b[0m\n\u001b[0m",
      "\u001b[1;31mValueError\u001b[0m: I/O operation on closed file."
     ]
    }
   ],
   "source": [
    "file1.read()"
   ]
  },
  {
   "cell_type": "markdown",
   "metadata": {},
   "source": [
    "### Closing files automatically using `with`\n",
    "\n",
    "To make it easy to automatically close a file once you are done processing it, you can open it using the `with` statement."
   ]
  },
  {
   "cell_type": "code",
   "execution_count": 24,
   "metadata": {
    "tags": []
   },
   "outputs": [
    {
     "output_type": "stream",
     "name": "stdout",
     "text": "amount,duration,rate,down_payment\n828400,120,0.11,100000\n4633400,240,0.06,\n42900,90,0.08,8900\n983000,16,0.14,\n15230,48,0.07,4300\n\n"
    }
   ],
   "source": [
    "with open('./data/loans2.txt') as file2:\n",
    "    file2_contents = file2.read()\n",
    "    print(file2_contents)"
   ]
  },
  {
   "cell_type": "code",
   "execution_count": 39,
   "metadata": {
    "tags": []
   },
   "outputs": [
    {
     "output_type": "stream",
     "name": "stdout",
     "text": "<class 'str'>\n\n\n10\n"
    }
   ],
   "source": [
    "with open('./data/loans2.txt') as file2:\n",
    "    file2_contents = file2.read()\n",
    "    print(type(file2_contents))\n",
    "    print(file2_contents[33])\n",
    "    print(ord(file2_contents[33])) # ascii value of the endline '\\n'"
   ]
  },
  {
   "cell_type": "markdown",
   "metadata": {},
   "source": [
    "Once the statements within the `with` block are executed, the `.close` method on `file2` is automatically invoked. Let's verify this by trying to read from the file object again."
   ]
  },
  {
   "cell_type": "code",
   "execution_count": 40,
   "metadata": {},
   "outputs": [
    {
     "output_type": "error",
     "ename": "ValueError",
     "evalue": "I/O operation on closed file.",
     "traceback": [
      "\u001b[1;31m---------------------------------------------------------------------------\u001b[0m",
      "\u001b[1;31mValueError\u001b[0m                                Traceback (most recent call last)",
      "\u001b[1;32m<ipython-input-40-4a9205324152>\u001b[0m in \u001b[0;36m<module>\u001b[1;34m()\u001b[0m\n\u001b[1;32m----> 1\u001b[1;33m \u001b[0mfile2\u001b[0m\u001b[1;33m.\u001b[0m\u001b[0mread\u001b[0m\u001b[1;33m(\u001b[0m\u001b[1;33m)\u001b[0m\u001b[1;33m\u001b[0m\u001b[0m\n\u001b[0m",
      "\u001b[1;31mValueError\u001b[0m: I/O operation on closed file."
     ]
    }
   ],
   "source": [
    "file2.read()"
   ]
  },
  {
   "cell_type": "markdown",
   "metadata": {},
   "source": [
    "### Reading a file line by line\n",
    "\n",
    "\n",
    "File objects provide a `readlines` method to read a file line-by-line. "
   ]
  },
  {
   "cell_type": "code",
   "execution_count": 41,
   "metadata": {},
   "outputs": [],
   "source": [
    "with open('./data/loans3.txt', 'r') as file3:\n",
    "    file3_lines = file3.readlines()"
   ]
  },
  {
   "cell_type": "code",
   "execution_count": 42,
   "metadata": {},
   "outputs": [
    {
     "output_type": "execute_result",
     "data": {
      "text/plain": "['amount,duration,rate,down_payment\\n',\n '883000,16,0.14,\\n',\n '45230,48,0.07,4300\\n',\n '100000,12,0.1,\\n',\n '728400,120,0.12,100000\\n',\n '3637400,240,0.06,\\n',\n '82900,90,0.07,8900\\n',\n '316000,16,0.13,\\n',\n '15230,48,0.08,4300\\n',\n '991360,99,0.08,\\n',\n '323000,27,0.09,4720010000,36,0.08,20000\\n',\n '528400,120,0.11,100000\\n',\n '8633400,240,0.06,\\n',\n '12900,90,0.08,8900\\n']"
     },
     "metadata": {},
     "execution_count": 42
    }
   ],
   "source": [
    "file3_lines"
   ]
  },
  {
   "cell_type": "code",
   "execution_count": 29,
   "metadata": {},
   "outputs": [
    {
     "output_type": "execute_result",
     "data": {
      "text/plain": "'\\n'"
     },
     "metadata": {},
     "execution_count": 29
    }
   ],
   "source": [
    "file3_lines[0][-1]"
   ]
  },
  {
   "cell_type": "code",
   "execution_count": 30,
   "metadata": {},
   "outputs": [
    {
     "output_type": "execute_result",
     "data": {
      "text/plain": "34"
     },
     "metadata": {},
     "execution_count": 30
    }
   ],
   "source": [
    "len(file3_lines[0])"
   ]
  },
  {
   "cell_type": "markdown",
   "metadata": {},
   "source": [
    "### Processing data from files\n",
    "\n",
    "Before performing any operations on the data stored in a file, we need to convert the contents of the file from one large string into Python data types. For the file `loans1.txt` containing information about loans in a CSV format, we can do the following:\n",
    "\n",
    "* Read the file line by line\n",
    "* Parse the first line to get list of the column names or headers\n",
    "* Split each remaining line and convert each value into a float\n",
    "* Create a dictionary for each loan using the headers as keys\n",
    "* Create a list of dictionaries to keep track of all the loans\n",
    "\n",
    "Since we will perform the same operations for multiple files, it would be useful define a function `read_csv` to do this. We'll also define some helper functions to build up the functionality step by step. \n",
    "\n",
    "Let's start by defining a function `parse_header` which takes a line as input and returns a list of column headers."
   ]
  },
  {
   "cell_type": "code",
   "execution_count": 43,
   "metadata": {},
   "outputs": [],
   "source": [
    "def parse_headers(header_line):\n",
    "    return header_line.strip().split(',')"
   ]
  },
  {
   "cell_type": "markdown",
   "metadata": {},
   "source": [
    "The `strip` method removes any extra spaces and the newline character `\\n`, and the split method breaks a string into a list using the given separator (`,` in this case)."
   ]
  },
  {
   "cell_type": "code",
   "execution_count": 44,
   "metadata": {},
   "outputs": [
    {
     "output_type": "execute_result",
     "data": {
      "text/plain": "'amount,duration,rate,down_payment\\n'"
     },
     "metadata": {},
     "execution_count": 44
    }
   ],
   "source": [
    "file3_lines[0]"
   ]
  },
  {
   "cell_type": "code",
   "execution_count": 45,
   "metadata": {},
   "outputs": [],
   "source": [
    "headers = parse_headers(file3_lines[0])"
   ]
  },
  {
   "cell_type": "code",
   "execution_count": 47,
   "metadata": {},
   "outputs": [
    {
     "output_type": "execute_result",
     "data": {
      "text/plain": "['amount', 'duration', 'rate', 'down_payment']"
     },
     "metadata": {},
     "execution_count": 47
    }
   ],
   "source": [
    "headers"
   ]
  },
  {
   "cell_type": "markdown",
   "metadata": {},
   "source": [
    "Next, let's define a function `parse_values` which takes a line containing some data, and returns a list of floating point numbers."
   ]
  },
  {
   "cell_type": "code",
   "execution_count": 64,
   "metadata": {},
   "outputs": [],
   "source": [
    "def parse_values(data_line):\n",
    "    values = []\n",
    "    for item in data_line.strip().split(','):\n",
    "        values.append(float(item))\n",
    "    return values"
   ]
  },
  {
   "cell_type": "code",
   "execution_count": 72,
   "metadata": {},
   "outputs": [],
   "source": [
    "def debug_parse_values(data_line):\n",
    "    values = []\n",
    "    for item in data_line.strip().split(','):\n",
    "        print(item)\n",
    "        print(type(item))\n",
    "        try:\n",
    "            values.append(float(item))\n",
    "        except:\n",
    "            print(\"problem with: \" + item + \" - ascii: \" + ord(item))\n",
    "    return values"
   ]
  },
  {
   "cell_type": "code",
   "execution_count": 73,
   "metadata": {},
   "outputs": [
    {
     "output_type": "execute_result",
     "data": {
      "text/plain": "'883000,16,0.14,\\n'"
     },
     "metadata": {},
     "execution_count": 73
    }
   ],
   "source": [
    "file3_lines[1]"
   ]
  },
  {
   "cell_type": "code",
   "execution_count": 74,
   "metadata": {
    "tags": []
   },
   "outputs": [
    {
     "output_type": "error",
     "ename": "ValueError",
     "evalue": "could not convert string to float: ",
     "traceback": [
      "\u001b[1;31m---------------------------------------------------------------------------\u001b[0m",
      "\u001b[1;31mValueError\u001b[0m                                Traceback (most recent call last)",
      "\u001b[1;32m<ipython-input-74-8fce309b2158>\u001b[0m in \u001b[0;36m<module>\u001b[1;34m()\u001b[0m\n\u001b[1;32m----> 1\u001b[1;33m \u001b[0mparse_values\u001b[0m\u001b[1;33m(\u001b[0m\u001b[0mfile3_lines\u001b[0m\u001b[1;33m[\u001b[0m\u001b[1;36m1\u001b[0m\u001b[1;33m]\u001b[0m\u001b[1;33m)\u001b[0m\u001b[1;33m\u001b[0m\u001b[0m\n\u001b[0m",
      "\u001b[1;32m<ipython-input-64-8be4024619c8>\u001b[0m in \u001b[0;36mparse_values\u001b[1;34m(data_line)\u001b[0m\n\u001b[0;32m      2\u001b[0m     \u001b[0mvalues\u001b[0m \u001b[1;33m=\u001b[0m \u001b[1;33m[\u001b[0m\u001b[1;33m]\u001b[0m\u001b[1;33m\u001b[0m\u001b[0m\n\u001b[0;32m      3\u001b[0m     \u001b[1;32mfor\u001b[0m \u001b[0mitem\u001b[0m \u001b[1;32min\u001b[0m \u001b[0mdata_line\u001b[0m\u001b[1;33m.\u001b[0m\u001b[0mstrip\u001b[0m\u001b[1;33m(\u001b[0m\u001b[1;33m)\u001b[0m\u001b[1;33m.\u001b[0m\u001b[0msplit\u001b[0m\u001b[1;33m(\u001b[0m\u001b[1;34m','\u001b[0m\u001b[1;33m)\u001b[0m\u001b[1;33m:\u001b[0m\u001b[1;33m\u001b[0m\u001b[0m\n\u001b[1;32m----> 4\u001b[1;33m         \u001b[0mvalues\u001b[0m\u001b[1;33m.\u001b[0m\u001b[0mappend\u001b[0m\u001b[1;33m(\u001b[0m\u001b[0mfloat\u001b[0m\u001b[1;33m(\u001b[0m\u001b[0mitem\u001b[0m\u001b[1;33m)\u001b[0m\u001b[1;33m)\u001b[0m\u001b[1;33m\u001b[0m\u001b[0m\n\u001b[0m\u001b[0;32m      5\u001b[0m     \u001b[1;32mreturn\u001b[0m \u001b[0mvalues\u001b[0m\u001b[1;33m\u001b[0m\u001b[0m\n",
      "\u001b[1;31mValueError\u001b[0m: could not convert string to float: "
     ]
    }
   ],
   "source": [
    "parse_values(file3_lines[1])"
   ]
  },
  {
   "cell_type": "code",
   "execution_count": 75,
   "metadata": {
    "tags": []
   },
   "outputs": [
    {
     "output_type": "stream",
     "name": "stdout",
     "text": "883000\n<class 'str'>\n16\n<class 'str'>\n0.14\n<class 'str'>\n\n<class 'str'>\n"
    },
    {
     "output_type": "error",
     "ename": "TypeError",
     "evalue": "ord() expected a character, but string of length 0 found",
     "traceback": [
      "\u001b[1;31m---------------------------------------------------------------------------\u001b[0m",
      "\u001b[1;31mValueError\u001b[0m                                Traceback (most recent call last)",
      "\u001b[1;32m<ipython-input-72-397a55ba967c>\u001b[0m in \u001b[0;36mdebug_parse_values\u001b[1;34m(data_line)\u001b[0m\n\u001b[0;32m      6\u001b[0m         \u001b[1;32mtry\u001b[0m\u001b[1;33m:\u001b[0m\u001b[1;33m\u001b[0m\u001b[0m\n\u001b[1;32m----> 7\u001b[1;33m             \u001b[0mvalues\u001b[0m\u001b[1;33m.\u001b[0m\u001b[0mappend\u001b[0m\u001b[1;33m(\u001b[0m\u001b[0mfloat\u001b[0m\u001b[1;33m(\u001b[0m\u001b[0mitem\u001b[0m\u001b[1;33m)\u001b[0m\u001b[1;33m)\u001b[0m\u001b[1;33m\u001b[0m\u001b[0m\n\u001b[0m\u001b[0;32m      8\u001b[0m         \u001b[1;32mexcept\u001b[0m\u001b[1;33m:\u001b[0m\u001b[1;33m\u001b[0m\u001b[0m\n",
      "\u001b[1;31mValueError\u001b[0m: could not convert string to float: ",
      "\nDuring handling of the above exception, another exception occurred:\n",
      "\u001b[1;31mTypeError\u001b[0m                                 Traceback (most recent call last)",
      "\u001b[1;32m<ipython-input-75-33b465ceab95>\u001b[0m in \u001b[0;36m<module>\u001b[1;34m()\u001b[0m\n\u001b[1;32m----> 1\u001b[1;33m \u001b[0mdebug_parse_values\u001b[0m\u001b[1;33m(\u001b[0m\u001b[0mfile3_lines\u001b[0m\u001b[1;33m[\u001b[0m\u001b[1;36m1\u001b[0m\u001b[1;33m]\u001b[0m\u001b[1;33m)\u001b[0m\u001b[1;33m\u001b[0m\u001b[0m\n\u001b[0m",
      "\u001b[1;32m<ipython-input-72-397a55ba967c>\u001b[0m in \u001b[0;36mdebug_parse_values\u001b[1;34m(data_line)\u001b[0m\n\u001b[0;32m      7\u001b[0m             \u001b[0mvalues\u001b[0m\u001b[1;33m.\u001b[0m\u001b[0mappend\u001b[0m\u001b[1;33m(\u001b[0m\u001b[0mfloat\u001b[0m\u001b[1;33m(\u001b[0m\u001b[0mitem\u001b[0m\u001b[1;33m)\u001b[0m\u001b[1;33m)\u001b[0m\u001b[1;33m\u001b[0m\u001b[0m\n\u001b[0;32m      8\u001b[0m         \u001b[1;32mexcept\u001b[0m\u001b[1;33m:\u001b[0m\u001b[1;33m\u001b[0m\u001b[0m\n\u001b[1;32m----> 9\u001b[1;33m             \u001b[0mprint\u001b[0m\u001b[1;33m(\u001b[0m\u001b[1;34m\"problem with: \"\u001b[0m \u001b[1;33m+\u001b[0m \u001b[0mitem\u001b[0m \u001b[1;33m+\u001b[0m \u001b[1;34m\" - ascii: \"\u001b[0m \u001b[1;33m+\u001b[0m \u001b[0mord\u001b[0m\u001b[1;33m(\u001b[0m\u001b[0mitem\u001b[0m\u001b[1;33m)\u001b[0m\u001b[1;33m)\u001b[0m\u001b[1;33m\u001b[0m\u001b[0m\n\u001b[0m\u001b[0;32m     10\u001b[0m     \u001b[1;32mreturn\u001b[0m \u001b[0mvalues\u001b[0m\u001b[1;33m\u001b[0m\u001b[0m\n",
      "\u001b[1;31mTypeError\u001b[0m: ord() expected a character, but string of length 0 found"
     ]
    }
   ],
   "source": [
    "debug_parse_values(file3_lines[1])"
   ]
  },
  {
   "cell_type": "code",
   "execution_count": 76,
   "metadata": {},
   "outputs": [
    {
     "output_type": "error",
     "ename": "NameError",
     "evalue": "name 'values' is not defined",
     "traceback": [
      "\u001b[1;31m---------------------------------------------------------------------------\u001b[0m",
      "\u001b[1;31mNameError\u001b[0m                                 Traceback (most recent call last)",
      "\u001b[1;32m<ipython-input-76-0234f1d70131>\u001b[0m in \u001b[0;36m<module>\u001b[1;34m()\u001b[0m\n\u001b[1;32m----> 1\u001b[1;33m \u001b[0mvalues\u001b[0m\u001b[1;33m\u001b[0m\u001b[0m\n\u001b[0m",
      "\u001b[1;31mNameError\u001b[0m: name 'values' is not defined"
     ]
    }
   ],
   "source": [
    "values"
   ]
  },
  {
   "cell_type": "markdown",
   "metadata": {},
   "source": [
    "The values were parsed and converted to floating point numbers, as expected. Let's try it for another line from the file, which does not contain a value for the down payment."
   ]
  },
  {
   "cell_type": "code",
   "execution_count": 77,
   "metadata": {},
   "outputs": [
    {
     "output_type": "execute_result",
     "data": {
      "text/plain": "'45230,48,0.07,4300\\n'"
     },
     "metadata": {},
     "execution_count": 77
    }
   ],
   "source": [
    "file3_lines[2]"
   ]
  },
  {
   "cell_type": "code",
   "execution_count": 78,
   "metadata": {},
   "outputs": [
    {
     "output_type": "execute_result",
     "data": {
      "text/plain": "[45230.0, 48.0, 0.07, 4300.0]"
     },
     "metadata": {},
     "execution_count": 78
    }
   ],
   "source": [
    "parse_values(file3_lines[2])"
   ]
  },
  {
   "cell_type": "code",
   "execution_count": 79,
   "metadata": {
    "tags": []
   },
   "outputs": [
    {
     "output_type": "stream",
     "name": "stdout",
     "text": "45230\n<class 'str'>\n48\n<class 'str'>\n0.07\n<class 'str'>\n4300\n<class 'str'>\n"
    },
    {
     "output_type": "execute_result",
     "data": {
      "text/plain": "[45230.0, 48.0, 0.07, 4300.0]"
     },
     "metadata": {},
     "execution_count": 79
    }
   ],
   "source": [
    "debug_parse_values(file3_lines[2])"
   ]
  },
  {
   "cell_type": "markdown",
   "metadata": {},
   "source": [
    "This leads to a `ValueError` because the empty string `''` cannot be converted to a float. We can enhance the `parse_values` function to handle this *edge case*."
   ]
  },
  {
   "cell_type": "code",
   "execution_count": 83,
   "metadata": {},
   "outputs": [],
   "source": [
    "def parse_values(data_line):\n",
    "    values = []\n",
    "    for item in data_line.strip().split(','):\n",
    "        if item == '':\n",
    "            values.append(0.0)\n",
    "        else:\n",
    "            values.append(float(item))\n",
    "    return values"
   ]
  },
  {
   "cell_type": "code",
   "execution_count": 84,
   "metadata": {},
   "outputs": [
    {
     "output_type": "execute_result",
     "data": {
      "text/plain": "'45230,48,0.07,4300\\n'"
     },
     "metadata": {},
     "execution_count": 84
    }
   ],
   "source": [
    "file3_lines[2]"
   ]
  },
  {
   "cell_type": "code",
   "execution_count": 85,
   "metadata": {},
   "outputs": [
    {
     "output_type": "execute_result",
     "data": {
      "text/plain": "[45230.0, 48.0, 0.07, 4300.0]"
     },
     "metadata": {},
     "execution_count": 85
    }
   ],
   "source": [
    "parse_values(file3_lines[2])"
   ]
  },
  {
   "cell_type": "markdown",
   "metadata": {},
   "source": [
    "Next, let's define a function `create_item_dict` which takes a list of values and a list of headers as inputs, and returns a dictionary with the values associated with their respective headers as keys."
   ]
  },
  {
   "cell_type": "code",
   "execution_count": 86,
   "metadata": {},
   "outputs": [],
   "source": [
    "def create_item_dict(values, headers):\n",
    "    result = {}\n",
    "    for value, header in zip(values, headers):\n",
    "        result[header] = value\n",
    "    return result"
   ]
  },
  {
   "cell_type": "markdown",
   "metadata": {},
   "source": [
    "Can you figure out what the Python built-in function `zip` does? Try out an example, or [read the documentation](https://docs.python.org/3.3/library/functions.html#zip)."
   ]
  },
  {
   "cell_type": "code",
   "execution_count": 88,
   "metadata": {
    "tags": []
   },
   "outputs": [
    {
     "output_type": "stream",
     "name": "stdout",
     "text": "(1, 'a')\n(2, 'b')\n(3, 'c')\n"
    }
   ],
   "source": [
    "for item in zip([1,2,3], ['a', 'b', 'c']):\n",
    "    print(item)"
   ]
  },
  {
   "cell_type": "markdown",
   "metadata": {},
   "source": [
    "Let's try out `crate_item_dict` with a couple of examples."
   ]
  },
  {
   "cell_type": "code",
   "execution_count": 89,
   "metadata": {},
   "outputs": [
    {
     "output_type": "execute_result",
     "data": {
      "text/plain": "'883000,16,0.14,\\n'"
     },
     "metadata": {},
     "execution_count": 89
    }
   ],
   "source": [
    "file3_lines[1]"
   ]
  },
  {
   "cell_type": "code",
   "execution_count": 90,
   "metadata": {},
   "outputs": [
    {
     "output_type": "execute_result",
     "data": {
      "text/plain": "{'amount': 883000.0, 'down_payment': 0.0, 'duration': 16.0, 'rate': 0.14}"
     },
     "metadata": {},
     "execution_count": 90
    }
   ],
   "source": [
    "values1 = parse_values(file3_lines[1])\n",
    "create_item_dict(values1, headers)"
   ]
  },
  {
   "cell_type": "code",
   "execution_count": 91,
   "metadata": {},
   "outputs": [
    {
     "output_type": "execute_result",
     "data": {
      "text/plain": "'45230,48,0.07,4300\\n'"
     },
     "metadata": {},
     "execution_count": 91
    }
   ],
   "source": [
    "file3_lines[2]"
   ]
  },
  {
   "cell_type": "code",
   "execution_count": 92,
   "metadata": {},
   "outputs": [
    {
     "output_type": "execute_result",
     "data": {
      "text/plain": "{'amount': 45230.0, 'down_payment': 4300.0, 'duration': 48.0, 'rate': 0.07}"
     },
     "metadata": {},
     "execution_count": 92
    }
   ],
   "source": [
    "values2 = parse_values(file3_lines[2])\n",
    "create_item_dict(values2, headers)"
   ]
  },
  {
   "cell_type": "markdown",
   "metadata": {},
   "source": [
    "As expected, the values & header are combined to create a dictionary with the approriate key-value pairs.\n",
    "\n",
    "We are now ready to put it all together and define the `read_csv` function."
   ]
  },
  {
   "cell_type": "code",
   "execution_count": 93,
   "metadata": {},
   "outputs": [],
   "source": [
    "def read_csv(path):\n",
    "    result = []\n",
    "    # Open the file in read mode\n",
    "    with open(path, 'r') as f:\n",
    "        # Get a list of lines\n",
    "        lines = f.readlines()\n",
    "        # Parse the header\n",
    "        headers = parse_headers(lines[0])\n",
    "        # Loop over the remaining lines\n",
    "        for data_line in lines[1:]:\n",
    "            # Parse the values\n",
    "            values = parse_values(data_line)\n",
    "            # Create a dictionary using values & headers\n",
    "            item_dict = create_item_dict(values, headers)\n",
    "            # Add the dictionary to the result\n",
    "            result.append(item_dict)\n",
    "    return result"
   ]
  },
  {
   "cell_type": "markdown",
   "metadata": {},
   "source": [
    "Let's try it out!"
   ]
  },
  {
   "cell_type": "code",
   "execution_count": 94,
   "metadata": {
    "tags": []
   },
   "outputs": [
    {
     "output_type": "stream",
     "name": "stdout",
     "text": "amount,duration,rate,down_payment\n828400,120,0.11,100000\n4633400,240,0.06,\n42900,90,0.08,8900\n983000,16,0.14,\n15230,48,0.07,4300\n\n"
    }
   ],
   "source": [
    "with open('./data/loans2.txt') as file2:\n",
    "    print(file2.read())"
   ]
  },
  {
   "cell_type": "code",
   "execution_count": 95,
   "metadata": {},
   "outputs": [
    {
     "output_type": "execute_result",
     "data": {
      "text/plain": "[{'amount': 828400.0,\n  'down_payment': 100000.0,\n  'duration': 120.0,\n  'rate': 0.11},\n {'amount': 4633400.0, 'down_payment': 0.0, 'duration': 240.0, 'rate': 0.06},\n {'amount': 42900.0, 'down_payment': 8900.0, 'duration': 90.0, 'rate': 0.08},\n {'amount': 983000.0, 'down_payment': 0.0, 'duration': 16.0, 'rate': 0.14},\n {'amount': 15230.0, 'down_payment': 4300.0, 'duration': 48.0, 'rate': 0.07}]"
     },
     "metadata": {},
     "execution_count": 95
    }
   ],
   "source": [
    "read_csv('./data/loans2.txt')"
   ]
  },
  {
   "cell_type": "markdown",
   "metadata": {},
   "source": [
    "The file is read and converted to a list of dictionaries, as expected. The `read_csv` file is generic enough that it can parse any file in the CSV format, with any number of rows or columns. Here's the full code for `read_csv` along with the helper functions:"
   ]
  },
  {
   "cell_type": "code",
   "execution_count": 96,
   "metadata": {},
   "outputs": [],
   "source": [
    "def parse_headers(header_line):\n",
    "    return header_line.strip().split(',')\n",
    "\n",
    "def parse_values(data_line):\n",
    "    values = []\n",
    "    for item in data_line.strip().split(','):\n",
    "        if item == '':\n",
    "            values.append(0.0)\n",
    "        else:\n",
    "            values.append(float(item))\n",
    "    return values\n",
    "\n",
    "def create_item_dict(values, headers):\n",
    "    result = {}\n",
    "    for value, header in zip(values, headers):\n",
    "        result[header] = value\n",
    "    return result\n",
    "\n",
    "def read_csv(path):\n",
    "    result = []\n",
    "    # Open the file in read mode\n",
    "    with open(path, 'r') as f:\n",
    "        # Get a list of lines\n",
    "        lines = f.readlines()\n",
    "        # Parse the header\n",
    "        headers = parse_headers(lines[0])\n",
    "        # Loop over the remaining lines\n",
    "        for data_line in lines[1:]:\n",
    "            # Parse the values\n",
    "            values = parse_values(data_line)\n",
    "            # Create a dictionary using values & headers\n",
    "            item_dict = create_item_dict(values, headers)\n",
    "            # Add the dictionary to the result\n",
    "            result.append(item_dict)\n",
    "    return result"
   ]
  },
  {
   "cell_type": "markdown",
   "metadata": {},
   "source": [
    "Try to create small, generic and reusable functions whenever possible, as they will likely be useful beyond just the problem at hand, and save you a lot of effort in the future.\n",
    "\n",
    "In the [previous tutorial](https://jovian.ml/aakashns/python-functions-and-scope), we defined a function to calculate the equal monthly installments for a loan. Here's what it looked like:"
   ]
  },
  {
   "cell_type": "code",
   "execution_count": 97,
   "metadata": {},
   "outputs": [],
   "source": [
    "import math\n",
    "\n",
    "def loan_emi(amount, duration, rate, down_payment=0):\n",
    "    \"\"\"Calculates the equal montly installment (EMI) for a loan.\n",
    "    \n",
    "    Arguments:\n",
    "        amount - Total amount to be spent (loan + down payment)\n",
    "        duration - Duration of the loan (in months)\n",
    "        rate - Rate of interest (monthly)\n",
    "        down_payment (optional) - Optional intial payment (deducted from amount)\n",
    "    \"\"\"\n",
    "    loan_amount = amount - down_payment\n",
    "    try:\n",
    "        emi = loan_amount * rate * ((1+rate)**duration) / (((1+rate)**duration)-1)\n",
    "    except ZeroDivisionError:\n",
    "        emi = loan_amount / duration\n",
    "    emi = math.ceil(emi)\n",
    "    return emi"
   ]
  },
  {
   "cell_type": "markdown",
   "metadata": {},
   "source": [
    "We can use this function to calculate EMIs for all the loans in a file."
   ]
  },
  {
   "cell_type": "code",
   "execution_count": 98,
   "metadata": {},
   "outputs": [],
   "source": [
    "loans2 = read_csv('./data/loans2.txt')"
   ]
  },
  {
   "cell_type": "code",
   "execution_count": 99,
   "metadata": {},
   "outputs": [
    {
     "output_type": "execute_result",
     "data": {
      "text/plain": "[{'amount': 828400.0,\n  'down_payment': 100000.0,\n  'duration': 120.0,\n  'rate': 0.11},\n {'amount': 4633400.0, 'down_payment': 0.0, 'duration': 240.0, 'rate': 0.06},\n {'amount': 42900.0, 'down_payment': 8900.0, 'duration': 90.0, 'rate': 0.08},\n {'amount': 983000.0, 'down_payment': 0.0, 'duration': 16.0, 'rate': 0.14},\n {'amount': 15230.0, 'down_payment': 4300.0, 'duration': 48.0, 'rate': 0.07}]"
     },
     "metadata": {},
     "execution_count": 99
    }
   ],
   "source": [
    "loans2"
   ]
  },
  {
   "cell_type": "code",
   "execution_count": 100,
   "metadata": {},
   "outputs": [],
   "source": [
    "for loan in loans2:\n",
    "    loan['emi'] = loan_emi(loan['amount'], \n",
    "                           loan['duration'], \n",
    "                           loan['rate']/12, # the CSV contains yearly rates\n",
    "                           loan['down_payment'])"
   ]
  },
  {
   "cell_type": "code",
   "execution_count": 102,
   "metadata": {},
   "outputs": [
    {
     "output_type": "execute_result",
     "data": {
      "text/plain": "[{'amount': 828400.0,\n  'down_payment': 100000.0,\n  'duration': 120.0,\n  'emi': 10034,\n  'rate': 0.11},\n {'amount': 4633400.0,\n  'down_payment': 0.0,\n  'duration': 240.0,\n  'emi': 33196,\n  'rate': 0.06},\n {'amount': 42900.0,\n  'down_payment': 8900.0,\n  'duration': 90.0,\n  'emi': 504,\n  'rate': 0.08},\n {'amount': 983000.0,\n  'down_payment': 0.0,\n  'duration': 16.0,\n  'emi': 67707,\n  'rate': 0.14},\n {'amount': 15230.0,\n  'down_payment': 4300.0,\n  'duration': 48.0,\n  'emi': 262,\n  'rate': 0.07}]"
     },
     "metadata": {},
     "execution_count": 102
    }
   ],
   "source": [
    "loans2"
   ]
  },
  {
   "cell_type": "markdown",
   "metadata": {},
   "source": [
    "You can see that each loan now has a new key `emi`, which provides the EMI for the loan. We can extract this logic into a function, so that we can be used for other files too."
   ]
  },
  {
   "cell_type": "code",
   "execution_count": 103,
   "metadata": {},
   "outputs": [],
   "source": [
    "def compute_emis(loans):\n",
    "    for loan in loans:\n",
    "        loan['emi'] = loan_emi(\n",
    "            loan['amount'], \n",
    "            loan['duration'], \n",
    "            loan['rate']/12, # the CSV contains yearly rates\n",
    "            loan['down_payment'])"
   ]
  },
  {
   "cell_type": "markdown",
   "metadata": {},
   "source": [
    "### Writing to files\n",
    "\n",
    "Now that we have performed some processing on the data, it would be a good idea to write the results back to a file in the CSV format. We can do this by creating/opening a file in write mode with `open` and using the `.write` method of the file object. The string `format` method will be useful for "
   ]
  },
  {
   "cell_type": "code",
   "execution_count": 104,
   "metadata": {},
   "outputs": [],
   "source": [
    "loans2 = read_csv('./data/loans2.txt')"
   ]
  },
  {
   "cell_type": "code",
   "execution_count": 105,
   "metadata": {},
   "outputs": [],
   "source": [
    "compute_emis(loans2)"
   ]
  },
  {
   "cell_type": "code",
   "execution_count": 106,
   "metadata": {},
   "outputs": [
    {
     "output_type": "execute_result",
     "data": {
      "text/plain": "[{'amount': 828400.0,\n  'down_payment': 100000.0,\n  'duration': 120.0,\n  'emi': 10034,\n  'rate': 0.11},\n {'amount': 4633400.0,\n  'down_payment': 0.0,\n  'duration': 240.0,\n  'emi': 33196,\n  'rate': 0.06},\n {'amount': 42900.0,\n  'down_payment': 8900.0,\n  'duration': 90.0,\n  'emi': 504,\n  'rate': 0.08},\n {'amount': 983000.0,\n  'down_payment': 0.0,\n  'duration': 16.0,\n  'emi': 67707,\n  'rate': 0.14},\n {'amount': 15230.0,\n  'down_payment': 4300.0,\n  'duration': 48.0,\n  'emi': 262,\n  'rate': 0.07}]"
     },
     "metadata": {},
     "execution_count": 106
    }
   ],
   "source": [
    "loans2"
   ]
  },
  {
   "cell_type": "code",
   "execution_count": 107,
   "metadata": {},
   "outputs": [],
   "source": [
    "with open('./data/emis2.txt', 'w') as f:\n",
    "    for loan in loans2:\n",
    "        f.write('{},{},{},{},{}\\n'.format(\n",
    "            loan['amount'], \n",
    "            loan['duration'], \n",
    "            loan['rate'], \n",
    "            loan['down_payment'], \n",
    "            loan['emi']))"
   ]
  },
  {
   "cell_type": "markdown",
   "metadata": {},
   "source": [
    "Let's verify that the file was created and written to as expected."
   ]
  },
  {
   "cell_type": "code",
   "execution_count": 108,
   "metadata": {},
   "outputs": [
    {
     "output_type": "execute_result",
     "data": {
      "text/plain": "['emis2.txt', 'loans1.txt', 'loans2.txt', 'loans3.txt']"
     },
     "metadata": {},
     "execution_count": 108
    }
   ],
   "source": [
    "os.listdir('data')"
   ]
  },
  {
   "cell_type": "code",
   "execution_count": 109,
   "metadata": {
    "tags": []
   },
   "outputs": [
    {
     "output_type": "stream",
     "name": "stdout",
     "text": "828400.0,120.0,0.11,100000.0,10034\n4633400.0,240.0,0.06,0.0,33196\n42900.0,90.0,0.08,8900.0,504\n983000.0,16.0,0.14,0.0,67707\n15230.0,48.0,0.07,4300.0,262\n\n"
    }
   ],
   "source": [
    "with open('./data/emis2.txt', 'r') as f:\n",
    "    print(f.read())"
   ]
  },
  {
   "cell_type": "markdown",
   "metadata": {},
   "source": [
    "Great, looks like the loan details (along with the computed EMIs) were written into the file.\n",
    "\n",
    "Let's define a generic function `write_csv` which takes a list of dictionaries and writes it to a file in CSV format. We will also include the column headers in the first line."
   ]
  },
  {
   "cell_type": "code",
   "execution_count": 110,
   "metadata": {},
   "outputs": [],
   "source": [
    "def write_csv(items, path):\n",
    "    # Open the file in write mode\n",
    "    with open(path, 'w') as f:\n",
    "        # Return if there's nothing to write\n",
    "        if len(items) == 0:\n",
    "            return\n",
    "        \n",
    "        # Write the headers in the first line\n",
    "        headers = list(items[0].keys())\n",
    "        f.write(','.join(headers) + '\\n')\n",
    "        \n",
    "        # Write one item per line\n",
    "        for item in items:\n",
    "            values = []\n",
    "            for header in headers:\n",
    "                values.append(str(item.get(header, \"\")))\n",
    "            f.write(','.join(values) + \"\\n\")"
   ]
  },
  {
   "cell_type": "markdown",
   "metadata": {},
   "source": [
    "Do you understand how the function works? If now, try executing each statement by line by line or a different cell to figure out how it works. \n",
    "\n",
    "Let's try it out!"
   ]
  },
  {
   "cell_type": "code",
   "execution_count": 111,
   "metadata": {},
   "outputs": [],
   "source": [
    "loans3 = read_csv('./data/loans3.txt')"
   ]
  },
  {
   "cell_type": "code",
   "execution_count": 112,
   "metadata": {},
   "outputs": [],
   "source": [
    "compute_emis(loans3)"
   ]
  },
  {
   "cell_type": "code",
   "execution_count": 113,
   "metadata": {},
   "outputs": [],
   "source": [
    "write_csv(loans3, './data/emis3.txt')"
   ]
  },
  {
   "cell_type": "code",
   "execution_count": 114,
   "metadata": {
    "tags": []
   },
   "outputs": [
    {
     "output_type": "stream",
     "name": "stdout",
     "text": "amount,duration,rate,down_payment,emi\n883000.0,16.0,0.14,0.0,60819\n45230.0,48.0,0.07,4300.0,981\n100000.0,12.0,0.1,0.0,8792\n728400.0,120.0,0.12,100000.0,9016\n3637400.0,240.0,0.06,0.0,26060\n82900.0,90.0,0.07,8900.0,1060\n316000.0,16.0,0.13,0.0,21618\n15230.0,48.0,0.08,4300.0,267\n991360.0,99.0,0.08,0.0,13712\n323000.0,27.0,0.09,4720010000.0,-193751447\n528400.0,120.0,0.11,100000.0,5902\n8633400.0,240.0,0.06,0.0,61853\n12900.0,90.0,0.08,8900.0,60\n\n"
    }
   ],
   "source": [
    "with open('./data/emis3.txt', 'r') as f:\n",
    "    print(f.read())"
   ]
  },
  {
   "cell_type": "markdown",
   "metadata": {},
   "source": [
    "With just 4 lines of code, we can now read each downloaded file, calcualte the EMIs, and write the results back to new files:"
   ]
  },
  {
   "cell_type": "code",
   "execution_count": 115,
   "metadata": {},
   "outputs": [],
   "source": [
    "for i in range(1,4):\n",
    "    loans = read_csv('./data/loans{}.txt'.format(i))\n",
    "    compute_emis(loans)\n",
    "    write_csv(loans, './data/emis{}.txt'.format(i))"
   ]
  },
  {
   "cell_type": "code",
   "execution_count": 116,
   "metadata": {},
   "outputs": [
    {
     "output_type": "execute_result",
     "data": {
      "text/plain": "['emis1.txt',\n 'emis2.txt',\n 'emis3.txt',\n 'loans1.txt',\n 'loans2.txt',\n 'loans3.txt']"
     },
     "metadata": {},
     "execution_count": 116
    }
   ],
   "source": [
    "os.listdir('./data')"
   ]
  },
  {
   "cell_type": "markdown",
   "metadata": {},
   "source": [
    "Isn't that wonderful? Once all the functions are defined, we can calculate EMIs for thousands or even millions of loans across many files with just a few lines of code, in a few seconds. Now we're starting to see the real power of using a programming language like Python for processing data!"
   ]
  },
  {
   "cell_type": "markdown",
   "metadata": {},
   "source": [
    "## Save and upload your notebook\n",
    "\n",
    "Whether you're running this Jupyter notebook on an online service like Binder or on your local machine, it's important to save your work from time, so that you can access it later, or share it online. You can upload this notebook to your [Jovian.ml](https://jovian.ml) account using the `jovian` Python library."
   ]
  },
  {
   "cell_type": "code",
   "execution_count": 117,
   "metadata": {},
   "outputs": [],
   "source": [
    "# Install the library\n",
    "!pip install jovian --upgrade --quiet"
   ]
  },
  {
   "cell_type": "code",
   "execution_count": 118,
   "metadata": {},
   "outputs": [
    {
     "output_type": "display_data",
     "data": {
      "text/plain": "<IPython.core.display.Javascript object>",
      "application/javascript": "if (window.IPython && IPython.notebook.kernel) IPython.notebook.kernel.execute('jovian.utils.jupyter.get_notebook_name_saved = lambda: \"' + IPython.notebook.notebook_name + '\"')"
     },
     "metadata": {}
    }
   ],
   "source": [
    "# Import the jovian module\n",
    "import jovian"
   ]
  },
  {
   "cell_type": "code",
   "execution_count": 119,
   "metadata": {
    "tags": []
   },
   "outputs": [
    {
     "output_type": "display_data",
     "data": {
      "text/plain": "<IPython.core.display.Javascript object>",
      "application/javascript": "window.require && require([\"base/js/namespace\"],function(Jupyter){Jupyter.notebook.save_checkpoint()})"
     },
     "metadata": {}
    },
    {
     "output_type": "stream",
     "name": "stdout",
     "text": "[jovian] Attempting to save notebook..\n[jovian] Creating a new project \"leosf/w2_ntk4_python-os-and-filesystem\"\n[jovian] Uploading notebook..\n[jovian] Capturing environment..\n[jovian] Committed successfully! https://jovian.ml/leosf/w2-ntk4-python-os-and-filesystem\n"
    },
    {
     "output_type": "execute_result",
     "data": {
      "text/plain": "'https://jovian.ml/leosf/w2-ntk4-python-os-and-filesystem'"
     },
     "metadata": {},
     "execution_count": 119
    }
   ],
   "source": [
    "#jovian.commit(project='python-os-and-filesystem')\n",
    "jovian.commit(user='leosf', filename='python-os-and-filesystem.ipynb', project='w2_ntk4_python-os-and-filesystem')\n"
   ]
  },
  {
   "cell_type": "markdown",
   "metadata": {},
   "source": [
    "## Summary and Further Reading\n",
    "\n",
    "With this we complete our discussion of reading from and writing to files in Python. We've covered the following topics in this tutorial:\n",
    "\n",
    "* Interacting with the filesystem using the `os` module\n",
    "* Downloading files from URLs using the `urllib` module\n",
    "* Opening files using the `open` built-in function\n",
    "* Reading the contents of a file using `.read`\n",
    "* Closing file automatically using `with`\n",
    "* Reading a file line by line using `readlines`\n",
    "* Processing data from a CSV file using our own functions\n",
    "* Using helper funtions to build more complext functions\n",
    "* Writing data to a file using `.write`\n",
    "\n",
    "\n",
    "\n",
    "This is by no means an exhaustive or comprehensive tutorial on working with files in Python. Following are some more resources you should check out:\n",
    "\n",
    "* Python Tutorial at W3Schools: https://www.w3schools.com/python/\n",
    "* Practical Python Programming: https://dabeaz-course.github.io/practical-python/Notes/Contents.html\n",
    "* Python official documentation: https://docs.python.org/3/tutorial/index.html\n",
    "\n",
    "You are ready to move on to the next tutorial: [\"Object-oriented programming using classes in Python\"](https://jovian.ml/aakashns/python-object-oriented-programming)."
   ]
  },
  {
   "cell_type": "code",
   "execution_count": null,
   "metadata": {},
   "outputs": [],
   "source": []
  }
 ],
 "metadata": {
  "kernelspec": {
   "display_name": "Python 3",
   "language": "python",
   "name": "python3"
  },
  "language_info": {
   "codemirror_mode": {
    "name": "ipython",
    "version": 3
   },
   "file_extension": ".py",
   "mimetype": "text/x-python",
   "name": "python",
   "nbconvert_exporter": "python",
   "pygments_lexer": "ipython3",
   "version": "3.6.4-final"
  }
 },
 "nbformat": 4,
 "nbformat_minor": 4
}